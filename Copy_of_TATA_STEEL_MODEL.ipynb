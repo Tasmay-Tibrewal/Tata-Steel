{
  "cells": [
    {
      "cell_type": "markdown",
      "metadata": {
        "id": "_SgiFx_gPxj1"
      },
      "source": [
        "# **Initialisation**"
      ]
    },
    {
      "cell_type": "code",
      "execution_count": null,
      "metadata": {
        "id": "h3oJuWxFR5dH"
      },
      "outputs": [],
      "source": [
        "from tensorflow import keras\n",
        "import tensorflow as tf\n",
        "from keras.datasets import mnist\n",
        "from keras.datasets import cifar100\n",
        "import numpy as np\n",
        "import matplotlib.pyplot as plt\n",
        "import pandas as pd\n",
        "import seaborn as sns\n",
        "from sklearn.model_selection import train_test_split\n",
        "import os\n",
        "from keras.callbacks import CSVLogger\n",
        "import random\n",
        "import cv2\n",
        "from sklearn.utils import shuffle\n",
        "import skimage.measure"
      ]
    },
    {
      "cell_type": "code",
      "execution_count": null,
      "metadata": {
        "colab": {
          "base_uri": "https://localhost:8080/"
        },
        "id": "E6ZUn1MJfgmS",
        "outputId": "2a2b73ad-2be8-4b0e-b96d-02c274f23366"
      },
      "outputs": [
        {
          "output_type": "stream",
          "name": "stdout",
          "text": [
            "Requirement already satisfied: pyyaml in /usr/local/lib/python3.10/dist-packages (6.0.1)\n",
            "Requirement already satisfied: h5py in /usr/local/lib/python3.10/dist-packages (3.9.0)\n",
            "Requirement already satisfied: numpy>=1.17.3 in /usr/local/lib/python3.10/dist-packages (from h5py) (1.25.2)\n"
          ]
        }
      ],
      "source": [
        "!pip install pyyaml h5py"
      ]
    },
    {
      "cell_type": "code",
      "execution_count": null,
      "metadata": {
        "id": "7sZ3dQLh4lb-"
      },
      "outputs": [],
      "source": [
        "(trainx, trainy), (testx, testy) = mnist.load_data()"
      ]
    },
    {
      "cell_type": "code",
      "execution_count": null,
      "metadata": {
        "colab": {
          "base_uri": "https://localhost:8080/",
          "height": 448
        },
        "id": "lTLxoYaG5Wt3",
        "outputId": "7a0f6c5f-e3bd-4478-87f6-1de71bc69185"
      },
      "outputs": [
        {
          "output_type": "execute_result",
          "data": {
            "text/plain": [
              "<matplotlib.image.AxesImage at 0x7da1150dfcd0>"
            ]
          },
          "metadata": {},
          "execution_count": 6
        },
        {
          "output_type": "display_data",
          "data": {
            "text/plain": [
              "<Figure size 640x480 with 1 Axes>"
            ],
            "image/png": "[encoded data removed]"
          },
          "metadata": {}
        }
      ],
      "source": [
        "plt.imshow(trainx[1])"
      ]
    },
    {
      "cell_type": "code",
      "execution_count": null,
      "metadata": {
        "colab": {
          "base_uri": "https://localhost:8080/"
        },
        "id": "nPSippb9PoOi",
        "outputId": "b487fa49-7140-4bd9-dea9-949eda8a1771"
      },
      "outputs": [
        {
          "output_type": "execute_result",
          "data": {
            "text/plain": [
              "0"
            ]
          },
          "metadata": {},
          "execution_count": 7
        }
      ],
      "source": [
        "trainy[1]"
      ]
    },
    {
      "cell_type": "markdown",
      "metadata": {
        "id": "91gCzU63Ot69"
      },
      "source": [
        "# **Large CNNs**"
      ]
    },
    {
      "cell_type": "markdown",
      "source": [
        "## Model"
      ],
      "metadata": {
        "id": "kHhdauPnackw"
      }
    },
    {
      "cell_type": "code",
      "execution_count": null,
      "metadata": {
        "id": "VgN8wYclPVcY"
      },
      "outputs": [],
      "source": [
        "trainxmm = trainx/255.0\n",
        "testxmm = testx/255.0"
      ]
    },
    {
      "cell_type": "code",
      "execution_count": null,
      "metadata": {
        "id": "K5TYhQGfPVcY"
      },
      "outputs": [],
      "source": [
        "# trainxmm = np.expand_dims(trainxmm, axis=3)\n",
        "# testxmm = np.expand_dims(trainxmm, axis=3)"
      ]
    },
    {
      "cell_type": "code",
      "execution_count": null,
      "metadata": {
        "id": "6QnO6ow5PVcY"
      },
      "outputs": [],
      "source": [
        "# trainxmm.shape"
      ]
    },
    {
      "cell_type": "markdown",
      "metadata": {
        "id": "HTldo7M7PVcZ"
      },
      "source": [
        "**Wider layer**"
      ]
    },
    {
      "cell_type": "code",
      "source": [
        "def metric(y_true,y_pred):\n",
        "  # print(type(y_true))\n",
        "  result = y_pred * tf.transpose(y_true)\n",
        "  return tf.reduce_sum(result)/2*tf.shape(result)"
      ],
      "metadata": {
        "id": "UKKS4Ue1NmSR"
      },
      "execution_count": null,
      "outputs": []
    },
    {
      "cell_type": "code",
      "execution_count": null,
      "metadata": {
        "colab": {
          "base_uri": "https://localhost:8080/"
        },
        "id": "8JM2Q4L9PVcZ",
        "outputId": "864e3ac2-995b-4d07-f725-1a17f472b41b"
      },
      "outputs": [
        {
          "output_type": "stream",
          "name": "stdout",
          "text": [
            "Model: \"sequential\"\n",
            "_________________________________________________________________\n",
            " Layer (type)                Output Shape              Param #   \n",
            "=================================================================\n",
            " random_rotation (RandomRot  (None, 14, 14, 1)         0         \n",
            " ation)                                                          \n",
            "                                                                 \n",
            " conv2d (Conv2D)             (None, 14, 14, 16)        160       \n",
            "                                                                 \n",
            " conv2d_1 (Conv2D)           (None, 14, 14, 256)       37120     \n",
            "                                                                 \n",
            " flatten (Flatten)           (None, 50176)             0         \n",
            "                                                                 \n",
            " dense (Dense)               (None, 1000)              50177000  \n",
            "                                                                 \n",
            " dense_1 (Dense)             (None, 11)                11011     \n",
            "                                                                 \n",
            "=================================================================\n",
            "Total params: 50225291 (191.59 MB)\n",
            "Trainable params: 50225291 (191.59 MB)\n",
            "Non-trainable params: 0 (0.00 Byte)\n",
            "_________________________________________________________________\n"
          ]
        }
      ],
      "source": [
        "model = keras.Sequential([\n",
        "    # keras.layers.MaxPooling2D((2,2),input_shape = (28,28,1)),\n",
        "    # keras.layers.MaxPooling2D((2,2)),\n",
        "    keras.layers.RandomRotation(0.5,input_shape = (14,14,1)),\n",
        "\n",
        "    keras.layers.Conv2D(filters = 16, padding = 'same', kernel_size = (3,3), activation = 'relu'),\n",
        "\n",
        "    # keras.layers.Conv2D(filters = 32, padding = 'same', kernel_size = (3,3), activation = 'relu'),\n",
        "    # keras.layers.Conv2D(filters = 64, padding = 'same', kernel_size = (3,3), activation = 'relu'),\n",
        "    # keras.layers.MaxPooling2D((2,2)),\n",
        "    # keras.layers.Conv2D(filters = 128, padding = 'same', kernel_size = (3,3), activation = 'relu'),\n",
        "    keras.layers.Conv2D(filters = 256, padding = 'same', kernel_size = (3,3), activation = 'relu'),\n",
        "\n",
        "    keras.layers.Flatten(),\n",
        "    keras.layers.Dense(1000, activation = 'relu'),\n",
        "    # keras.layers.Dense(11, activation = 'relu'),\n",
        "    # keras.layers.Dropout(0.05),\n",
        "    keras.layers.Dense(11, activation = 'sigmoid')\n",
        "])\n",
        "\n",
        "model.compile(optimizer = 'adam', loss = 'mean_squared_error', metrics = [keras.metrics.CategoricalAccuracy()])\n",
        "\n",
        "model.summary()"
      ]
    },
    {
      "cell_type": "code",
      "execution_count": null,
      "metadata": {
        "id": "1Big11-rOuNY"
      },
      "outputs": [],
      "source": [
        "def add_f_train(trainy,n):\n",
        "  trainy_new = np.zeros((trainy.shape[0],n+1))\n",
        "  for i in range(trainy.shape[0]):\n",
        "    trainy_new[i,trainy[i] + 1] = 1\n",
        "    trainy_new[i,0] = 0\n",
        "\n",
        "  return trainy_new"
      ]
    },
    {
      "cell_type": "code",
      "execution_count": null,
      "metadata": {
        "id": "bei12o6FSb47"
      },
      "outputs": [],
      "source": [
        "def add_non_numbers(x, y):\n",
        "  trainx_new = np.zeros((x.shape[0]*11//10, x.shape[1], x.shape[2]))\n",
        "  trainy_new = np.zeros((y.shape[0]*11//10, y.shape[1]))\n",
        "\n",
        "  trainx_new [:x.shape[0]] = x\n",
        "  for i in range(x.shape[0]//10):\n",
        "    trainx_new [x.shape[0]+i] = np.random.rand(x.shape[1],x.shape[2])/random.randint(1,100)\n",
        "\n",
        "  trainy_new [:y.shape[0]] = y\n",
        "  trainy_new [y.shape[0]:,0] = np.ones(y.shape[0]*1//10)\n",
        "\n",
        "  return shuffle(trainx_new, trainy_new)"
      ]
    },
    {
      "cell_type": "code",
      "execution_count": null,
      "metadata": {
        "id": "rYllMsxkbOJS"
      },
      "outputs": [],
      "source": [
        "def add_lines(x):\n",
        "  a = random.randint(1,4)\n",
        "  if a == 1:\n",
        "    cv2.line(x,\n",
        "          (0,random.randint(0,X.shape[1]-1)),\n",
        "          (X.shape[2]-1,random.randint(0,X.shape[1]-1)),\n",
        "          (1,1,1),\n",
        "          random.randint(2,2))/255\n",
        "\n",
        "  elif a == 2:\n",
        "    cv2.line(x,\n",
        "          (random.randint(0,X.shape[2]-1),0),\n",
        "          (random.randint(0,X.shape[2]-1),X.shape[1]-1),\n",
        "          (1,1,1),\n",
        "          random.randint(2,2))/255\n",
        "\n",
        "  elif a == 3:\n",
        "    cv2.line(x,\n",
        "          (0,random.randint(0,X.shape[1]-1)),\n",
        "          (random.randint(0,X.shape[2]-1),X.shape[1]-1),\n",
        "          (1,1,1),\n",
        "          random.randint(2,2))/255\n",
        "\n",
        "  else:\n",
        "    cv2.line(x,\n",
        "          (random.randint(0,X.shape[2]-1),0),\n",
        "          (X.shape[2]-1, random.randint(0,X.shape[1]-1)),\n",
        "          (1,1,1),\n",
        "          random.randint(2,2))/255"
      ]
    },
    {
      "cell_type": "code",
      "execution_count": null,
      "metadata": {
        "id": "NBCzLLlyu9e7"
      },
      "outputs": [],
      "source": [
        "def reduce(xmm,n=2):\n",
        "  x = np.zeros((xmm.shape[0], xmm.shape[1]//n, xmm.shape[2]//n))\n",
        "  for i in range(xmm.shape[0]):\n",
        "    x[i] = skimage.measure.block_reduce(xmm[i], (n,n), np.max)\n",
        "\n",
        "  return x"
      ]
    },
    {
      "cell_type": "code",
      "execution_count": null,
      "metadata": {
        "id": "UgGbtLQXPmv-"
      },
      "outputs": [],
      "source": [
        "trainy_new = add_f_train(trainy,10)\n",
        "testy_new = add_f_train(testy,10)"
      ]
    },
    {
      "cell_type": "code",
      "execution_count": null,
      "metadata": {
        "colab": {
          "base_uri": "https://localhost:8080/"
        },
        "id": "uBr6w9TQSB14",
        "outputId": "082352b0-4ad9-4ff0-f7b5-48b31d73c406"
      },
      "outputs": [
        {
          "output_type": "execute_result",
          "data": {
            "text/plain": [
              "array([0., 1., 0., 0., 0., 0., 0., 0., 0., 0., 0.])"
            ]
          },
          "metadata": {},
          "execution_count": 18
        }
      ],
      "source": [
        "trainy_new[1]"
      ]
    },
    {
      "cell_type": "code",
      "execution_count": null,
      "metadata": {
        "id": "YnwK2xO5xHfY"
      },
      "outputs": [],
      "source": [
        "xmm = reduce(trainxmm, n=2)\n",
        "xmm_val = reduce(testxmm, n=2)"
      ]
    },
    {
      "cell_type": "code",
      "execution_count": null,
      "metadata": {
        "id": "esIVAPfVYqEc"
      },
      "outputs": [],
      "source": [
        "X,y = add_non_numbers(xmm, trainy_new)"
      ]
    },
    {
      "cell_type": "code",
      "execution_count": null,
      "metadata": {
        "id": "uiNt0RR9htiA"
      },
      "outputs": [],
      "source": [
        "for i in range((X.shape[0])//2):\n",
        "  add_lines(X[i])"
      ]
    },
    {
      "cell_type": "code",
      "execution_count": null,
      "metadata": {
        "id": "_RcnXkdp7ZUp"
      },
      "outputs": [],
      "source": [
        "X,y = shuffle(X,y)"
      ]
    },
    {
      "cell_type": "code",
      "execution_count": null,
      "metadata": {
        "colab": {
          "base_uri": "https://localhost:8080/",
          "height": 448
        },
        "id": "7qWHPcYkh6b-",
        "outputId": "4fc3fee3-02f4-4c8e-da6c-cfb0be187c19"
      },
      "outputs": [
        {
          "output_type": "execute_result",
          "data": {
            "text/plain": [
              "<matplotlib.image.AxesImage at 0x7da0ee6bfa60>"
            ]
          },
          "metadata": {},
          "execution_count": 23
        },
        {
          "output_type": "display_data",
          "data": {
            "text/plain": [
              "<Figure size 640x480 with 1 Axes>"
            ],
            "image/png": "[encoded data removed]"
          },
          "metadata": {}
        }
      ],
      "source": [
        "plt.imshow(X[242])"
      ]
    },
    {
      "cell_type": "code",
      "execution_count": null,
      "metadata": {
        "colab": {
          "base_uri": "https://localhost:8080/"
        },
        "id": "4XoG5wPviDxU",
        "outputId": "6dcbf645-c6c4-4ee2-e7f4-224c00c10e31"
      },
      "outputs": [
        {
          "output_type": "execute_result",
          "data": {
            "text/plain": [
              "array([0., 0., 0., 0., 0., 0., 0., 0., 0., 0., 1.])"
            ]
          },
          "metadata": {},
          "execution_count": 24
        }
      ],
      "source": [
        "y[234]"
      ]
    },
    {
      "cell_type": "markdown",
      "source": [
        "## Training"
      ],
      "metadata": {
        "id": "e_v1kvHoaXpX"
      }
    },
    {
      "cell_type": "code",
      "execution_count": null,
      "metadata": {
        "colab": {
          "base_uri": "https://localhost:8080/"
        },
        "id": "-7xdgZ9ZRACn",
        "outputId": "04cf1438-6758-42c9-93a1-e7898ee29ea8"
      },
      "outputs": [
        {
          "output_type": "stream",
          "name": "stderr",
          "text": [
            "\r  0%|          | 0/100 [00:00<?, ?it/s]"
          ]
        },
        {
          "output_type": "stream",
          "name": "stdout",
          "text": [
            "66/66 [==============================] - 12s 117ms/step - loss: 0.0878 - categorical_accuracy: 0.1033 - val_loss: 0.0828 - val_categorical_accuracy: 0.1705\n"
          ]
        },
        {
          "output_type": "stream",
          "name": "stderr",
          "text": [
            "\r  1%|          | 1/100 [00:22<36:47, 22.30s/it]"
          ]
        },
        {
          "output_type": "stream",
          "name": "stdout",
          "text": [
            "66/66 [==============================] - 8s 121ms/step - loss: 0.0628 - categorical_accuracy: 0.4317 - val_loss: 0.0425 - val_categorical_accuracy: 0.6732\n"
          ]
        },
        {
          "output_type": "stream",
          "name": "stderr",
          "text": [
            "\r  2%|▏         | 2/100 [00:31<23:32, 14.41s/it]"
          ]
        },
        {
          "output_type": "stream",
          "name": "stdout",
          "text": [
            "66/66 [==============================] - 8s 118ms/step - loss: 0.0358 - categorical_accuracy: 0.7341 - val_loss: 0.0283 - val_categorical_accuracy: 0.7953\n"
          ]
        },
        {
          "output_type": "stream",
          "name": "stderr",
          "text": [
            "\r  3%|▎         | 3/100 [00:42<20:46, 12.85s/it]"
          ]
        },
        {
          "output_type": "stream",
          "name": "stdout",
          "text": [
            "66/66 [==============================] - 8s 119ms/step - loss: 0.0277 - categorical_accuracy: 0.7968 - val_loss: 0.0232 - val_categorical_accuracy: 0.8344\n"
          ]
        },
        {
          "output_type": "stream",
          "name": "stderr",
          "text": [
            "\r  4%|▍         | 4/100 [00:50<17:55, 11.20s/it]"
          ]
        },
        {
          "output_type": "stream",
          "name": "stdout",
          "text": [
            "66/66 [==============================] - 8s 123ms/step - loss: 0.0239 - categorical_accuracy: 0.8262 - val_loss: 0.0204 - val_categorical_accuracy: 0.8535\n"
          ]
        },
        {
          "output_type": "stream",
          "name": "stderr",
          "text": [
            "\r  5%|▌         | 5/100 [01:02<17:47, 11.24s/it]"
          ]
        },
        {
          "output_type": "stream",
          "name": "stdout",
          "text": [
            "66/66 [==============================] - 8s 117ms/step - loss: 0.0213 - categorical_accuracy: 0.8460 - val_loss: 0.0191 - val_categorical_accuracy: 0.8679\n"
          ]
        },
        {
          "output_type": "stream",
          "name": "stderr",
          "text": [
            "\r  6%|▌         | 6/100 [01:10<16:11, 10.33s/it]"
          ]
        },
        {
          "output_type": "stream",
          "name": "stdout",
          "text": [
            "66/66 [==============================] - 8s 116ms/step - loss: 0.0195 - categorical_accuracy: 0.8605 - val_loss: 0.0172 - val_categorical_accuracy: 0.8784\n"
          ]
        },
        {
          "output_type": "stream",
          "name": "stderr",
          "text": [
            "\r  7%|▋         | 7/100 [01:22<16:53, 10.90s/it]"
          ]
        },
        {
          "output_type": "stream",
          "name": "stdout",
          "text": [
            "66/66 [==============================] - 8s 115ms/step - loss: 0.0179 - categorical_accuracy: 0.8723 - val_loss: 0.0154 - val_categorical_accuracy: 0.8926\n"
          ]
        },
        {
          "output_type": "stream",
          "name": "stderr",
          "text": [
            "\r  8%|▊         | 8/100 [01:31<15:29, 10.11s/it]"
          ]
        },
        {
          "output_type": "stream",
          "name": "stdout",
          "text": [
            "66/66 [==============================] - 8s 120ms/step - loss: 0.0170 - categorical_accuracy: 0.8789 - val_loss: 0.0151 - val_categorical_accuracy: 0.8963\n"
          ]
        },
        {
          "output_type": "stream",
          "name": "stderr",
          "text": [
            "\r  9%|▉         | 9/100 [01:39<14:40,  9.68s/it]"
          ]
        },
        {
          "output_type": "stream",
          "name": "stdout",
          "text": [
            "66/66 [==============================] - 8s 116ms/step - loss: 0.0158 - categorical_accuracy: 0.8893 - val_loss: 0.0149 - val_categorical_accuracy: 0.8960\n"
          ]
        },
        {
          "output_type": "stream",
          "name": "stderr",
          "text": [
            "\r 10%|█         | 10/100 [01:51<15:18, 10.21s/it]"
          ]
        },
        {
          "output_type": "stream",
          "name": "stdout",
          "text": [
            "66/66 [==============================] - 8s 116ms/step - loss: 0.0152 - categorical_accuracy: 0.8935 - val_loss: 0.0143 - val_categorical_accuracy: 0.8986\n"
          ]
        },
        {
          "output_type": "stream",
          "name": "stderr",
          "text": [
            "\r 11%|█         | 11/100 [02:00<14:30,  9.78s/it]"
          ]
        },
        {
          "output_type": "stream",
          "name": "stdout",
          "text": [
            "66/66 [==============================] - 8s 116ms/step - loss: 0.0147 - categorical_accuracy: 0.8975 - val_loss: 0.0139 - val_categorical_accuracy: 0.9026\n"
          ]
        },
        {
          "output_type": "stream",
          "name": "stderr",
          "text": [
            "\r 12%|█▏        | 12/100 [02:11<14:53, 10.16s/it]"
          ]
        },
        {
          "output_type": "stream",
          "name": "stdout",
          "text": [
            "66/66 [==============================] - 8s 116ms/step - loss: 0.0139 - categorical_accuracy: 0.9026 - val_loss: 0.0134 - val_categorical_accuracy: 0.9052\n"
          ]
        },
        {
          "output_type": "stream",
          "name": "stderr",
          "text": [
            "\r 13%|█▎        | 13/100 [02:19<13:59,  9.65s/it]"
          ]
        },
        {
          "output_type": "stream",
          "name": "stdout",
          "text": [
            "66/66 [==============================] - 8s 121ms/step - loss: 0.0134 - categorical_accuracy: 0.9068 - val_loss: 0.0123 - val_categorical_accuracy: 0.9139\n"
          ]
        },
        {
          "output_type": "stream",
          "name": "stderr",
          "text": [
            "\r 14%|█▍        | 14/100 [02:28<13:26,  9.37s/it]"
          ]
        },
        {
          "output_type": "stream",
          "name": "stdout",
          "text": [
            "66/66 [==============================] - 8s 116ms/step - loss: 0.0130 - categorical_accuracy: 0.9103 - val_loss: 0.0126 - val_categorical_accuracy: 0.9144\n"
          ]
        },
        {
          "output_type": "stream",
          "name": "stderr",
          "text": [
            "\r 15%|█▌        | 15/100 [02:39<14:04,  9.94s/it]"
          ]
        },
        {
          "output_type": "stream",
          "name": "stdout",
          "text": [
            "66/66 [==============================] - 8s 115ms/step - loss: 0.0128 - categorical_accuracy: 0.9112 - val_loss: 0.0117 - val_categorical_accuracy: 0.9201\n"
          ]
        },
        {
          "output_type": "stream",
          "name": "stderr",
          "text": [
            "\r 16%|█▌        | 16/100 [02:50<14:30, 10.37s/it]"
          ]
        },
        {
          "output_type": "stream",
          "name": "stdout",
          "text": [
            "66/66 [==============================] - 8s 115ms/step - loss: 0.0124 - categorical_accuracy: 0.9146 - val_loss: 0.0114 - val_categorical_accuracy: 0.9222\n"
          ]
        },
        {
          "output_type": "stream",
          "name": "stderr",
          "text": [
            "\r 17%|█▋        | 17/100 [02:59<13:40,  9.88s/it]"
          ]
        },
        {
          "output_type": "stream",
          "name": "stdout",
          "text": [
            "66/66 [==============================] - 8s 116ms/step - loss: 0.0120 - categorical_accuracy: 0.9181 - val_loss: 0.0109 - val_categorical_accuracy: 0.9247\n"
          ]
        },
        {
          "output_type": "stream",
          "name": "stderr",
          "text": [
            "\r 18%|█▊        | 18/100 [03:10<13:57, 10.22s/it]"
          ]
        },
        {
          "output_type": "stream",
          "name": "stdout",
          "text": [
            "66/66 [==============================] - 8s 120ms/step - loss: 0.0116 - categorical_accuracy: 0.9198 - val_loss: 0.0111 - val_categorical_accuracy: 0.9255\n"
          ]
        },
        {
          "output_type": "stream",
          "name": "stderr",
          "text": [
            "\r 19%|█▉        | 19/100 [03:21<14:07, 10.46s/it]"
          ]
        },
        {
          "output_type": "stream",
          "name": "stdout",
          "text": [
            "66/66 [==============================] - 8s 116ms/step - loss: 0.0114 - categorical_accuracy: 0.9209 - val_loss: 0.0107 - val_categorical_accuracy: 0.9289\n"
          ]
        },
        {
          "output_type": "stream",
          "name": "stderr",
          "text": [
            "\r 20%|██        | 20/100 [03:30<13:08,  9.86s/it]"
          ]
        },
        {
          "output_type": "stream",
          "name": "stdout",
          "text": [
            "66/66 [==============================] - 8s 120ms/step - loss: 0.0110 - categorical_accuracy: 0.9251 - val_loss: 0.0111 - val_categorical_accuracy: 0.9227\n"
          ]
        },
        {
          "output_type": "stream",
          "name": "stderr",
          "text": [
            "\r 21%|██        | 21/100 [03:41<13:26, 10.21s/it]"
          ]
        },
        {
          "output_type": "stream",
          "name": "stdout",
          "text": [
            "66/66 [==============================] - 8s 120ms/step - loss: 0.0110 - categorical_accuracy: 0.9246 - val_loss: 0.0102 - val_categorical_accuracy: 0.9310\n"
          ]
        },
        {
          "output_type": "stream",
          "name": "stderr",
          "text": [
            "\r 22%|██▏       | 22/100 [03:49<12:41,  9.76s/it]"
          ]
        },
        {
          "output_type": "stream",
          "name": "stdout",
          "text": [
            "66/66 [==============================] - 8s 116ms/step - loss: 0.0107 - categorical_accuracy: 0.9272 - val_loss: 0.0107 - val_categorical_accuracy: 0.9291\n"
          ]
        },
        {
          "output_type": "stream",
          "name": "stderr",
          "text": [
            "\r 23%|██▎       | 23/100 [04:01<13:08, 10.24s/it]"
          ]
        },
        {
          "output_type": "stream",
          "name": "stdout",
          "text": [
            "66/66 [==============================] - 8s 115ms/step - loss: 0.0106 - categorical_accuracy: 0.9276 - val_loss: 0.0104 - val_categorical_accuracy: 0.9295\n"
          ]
        },
        {
          "output_type": "stream",
          "name": "stderr",
          "text": [
            "\r 24%|██▍       | 24/100 [04:12<13:18, 10.51s/it]"
          ]
        },
        {
          "output_type": "stream",
          "name": "stdout",
          "text": [
            "66/66 [==============================] - 8s 115ms/step - loss: 0.0104 - categorical_accuracy: 0.9283 - val_loss: 0.0102 - val_categorical_accuracy: 0.9313\n"
          ]
        },
        {
          "output_type": "stream",
          "name": "stderr",
          "text": [
            "\r 25%|██▌       | 25/100 [04:23<13:19, 10.65s/it]"
          ]
        },
        {
          "output_type": "stream",
          "name": "stdout",
          "text": [
            "66/66 [==============================] - 8s 115ms/step - loss: 0.0102 - categorical_accuracy: 0.9308 - val_loss: 0.0095 - val_categorical_accuracy: 0.9358\n"
          ]
        },
        {
          "output_type": "stream",
          "name": "stderr",
          "text": [
            "\r 26%|██▌       | 26/100 [04:34<13:16, 10.76s/it]"
          ]
        },
        {
          "output_type": "stream",
          "name": "stdout",
          "text": [
            "66/66 [==============================] - 8s 115ms/step - loss: 0.0100 - categorical_accuracy: 0.9323 - val_loss: 0.0099 - val_categorical_accuracy: 0.9315\n"
          ]
        },
        {
          "output_type": "stream",
          "name": "stderr",
          "text": [
            "\r 27%|██▋       | 27/100 [04:42<12:14, 10.06s/it]"
          ]
        },
        {
          "output_type": "stream",
          "name": "stdout",
          "text": [
            "66/66 [==============================] - 8s 120ms/step - loss: 0.0100 - categorical_accuracy: 0.9330 - val_loss: 0.0091 - val_categorical_accuracy: 0.9401\n"
          ]
        },
        {
          "output_type": "stream",
          "name": "stderr",
          "text": [
            "\r 28%|██▊       | 28/100 [04:53<12:24, 10.34s/it]"
          ]
        },
        {
          "output_type": "stream",
          "name": "stdout",
          "text": [
            "66/66 [==============================] - 8s 119ms/step - loss: 0.0098 - categorical_accuracy: 0.9338 - val_loss: 0.0100 - val_categorical_accuracy: 0.9333\n"
          ]
        },
        {
          "output_type": "stream",
          "name": "stderr",
          "text": [
            "\r 29%|██▉       | 29/100 [05:02<11:39,  9.86s/it]"
          ]
        },
        {
          "output_type": "stream",
          "name": "stdout",
          "text": [
            "66/66 [==============================] - 8s 115ms/step - loss: 0.0096 - categorical_accuracy: 0.9345 - val_loss: 0.0094 - val_categorical_accuracy: 0.9355\n"
          ]
        },
        {
          "output_type": "stream",
          "name": "stderr",
          "text": [
            "\r 30%|███       | 30/100 [05:11<11:05,  9.51s/it]"
          ]
        },
        {
          "output_type": "stream",
          "name": "stdout",
          "text": [
            "66/66 [==============================] - 8s 115ms/step - loss: 0.0096 - categorical_accuracy: 0.9342 - val_loss: 0.0093 - val_categorical_accuracy: 0.9356\n"
          ]
        },
        {
          "output_type": "stream",
          "name": "stderr",
          "text": [
            "\r 31%|███       | 31/100 [05:19<10:34,  9.19s/it]"
          ]
        },
        {
          "output_type": "stream",
          "name": "stdout",
          "text": [
            "66/66 [==============================] - 8s 120ms/step - loss: 0.0095 - categorical_accuracy: 0.9355 - val_loss: 0.0099 - val_categorical_accuracy: 0.9340\n"
          ]
        },
        {
          "output_type": "stream",
          "name": "stderr",
          "text": [
            "\r 32%|███▏      | 32/100 [05:28<10:14,  9.03s/it]"
          ]
        },
        {
          "output_type": "stream",
          "name": "stdout",
          "text": [
            "66/66 [==============================] - 8s 115ms/step - loss: 0.0094 - categorical_accuracy: 0.9364 - val_loss: 0.0095 - val_categorical_accuracy: 0.9358\n"
          ]
        },
        {
          "output_type": "stream",
          "name": "stderr",
          "text": [
            "\r 33%|███▎      | 33/100 [05:39<10:44,  9.63s/it]"
          ]
        },
        {
          "output_type": "stream",
          "name": "stdout",
          "text": [
            "66/66 [==============================] - 8s 115ms/step - loss: 0.0092 - categorical_accuracy: 0.9375 - val_loss: 0.0093 - val_categorical_accuracy: 0.9384\n"
          ]
        },
        {
          "output_type": "stream",
          "name": "stderr",
          "text": [
            "\r 34%|███▍      | 34/100 [05:47<10:11,  9.27s/it]"
          ]
        },
        {
          "output_type": "stream",
          "name": "stdout",
          "text": [
            "66/66 [==============================] - 8s 114ms/step - loss: 0.0091 - categorical_accuracy: 0.9380 - val_loss: 0.0089 - val_categorical_accuracy: 0.9405\n"
          ]
        },
        {
          "output_type": "stream",
          "name": "stderr",
          "text": [
            "\r 35%|███▌      | 35/100 [05:58<10:36,  9.79s/it]"
          ]
        },
        {
          "output_type": "stream",
          "name": "stdout",
          "text": [
            "66/66 [==============================] - 8s 114ms/step - loss: 0.0091 - categorical_accuracy: 0.9388 - val_loss: 0.0082 - val_categorical_accuracy: 0.9428\n"
          ]
        },
        {
          "output_type": "stream",
          "name": "stderr",
          "text": [
            "\r 36%|███▌      | 36/100 [06:07<09:58,  9.36s/it]"
          ]
        },
        {
          "output_type": "stream",
          "name": "stdout",
          "text": [
            "66/66 [==============================] - 8s 119ms/step - loss: 0.0089 - categorical_accuracy: 0.9390 - val_loss: 0.0088 - val_categorical_accuracy: 0.9397\n"
          ]
        },
        {
          "output_type": "stream",
          "name": "stderr",
          "text": [
            "\r 37%|███▋      | 37/100 [06:15<09:35,  9.14s/it]"
          ]
        },
        {
          "output_type": "stream",
          "name": "stdout",
          "text": [
            "66/66 [==============================] - 8s 115ms/step - loss: 0.0089 - categorical_accuracy: 0.9402 - val_loss: 0.0087 - val_categorical_accuracy: 0.9415\n"
          ]
        },
        {
          "output_type": "stream",
          "name": "stderr",
          "text": [
            "\r 38%|███▊      | 38/100 [06:26<10:00,  9.69s/it]"
          ]
        },
        {
          "output_type": "stream",
          "name": "stdout",
          "text": [
            "66/66 [==============================] - 8s 115ms/step - loss: 0.0088 - categorical_accuracy: 0.9408 - val_loss: 0.0085 - val_categorical_accuracy: 0.9429\n"
          ]
        },
        {
          "output_type": "stream",
          "name": "stderr",
          "text": [
            "\r 39%|███▉      | 39/100 [06:35<09:27,  9.30s/it]"
          ]
        },
        {
          "output_type": "stream",
          "name": "stdout",
          "text": [
            "66/66 [==============================] - 8s 115ms/step - loss: 0.0087 - categorical_accuracy: 0.9406 - val_loss: 0.0089 - val_categorical_accuracy: 0.9397\n"
          ]
        },
        {
          "output_type": "stream",
          "name": "stderr",
          "text": [
            "\r 40%|████      | 40/100 [06:43<09:01,  9.02s/it]"
          ]
        },
        {
          "output_type": "stream",
          "name": "stdout",
          "text": [
            "66/66 [==============================] - 8s 115ms/step - loss: 0.0086 - categorical_accuracy: 0.9419 - val_loss: 0.0091 - val_categorical_accuracy: 0.9364\n"
          ]
        },
        {
          "output_type": "stream",
          "name": "stderr",
          "text": [
            "\r 41%|████      | 41/100 [06:51<08:40,  8.82s/it]"
          ]
        },
        {
          "output_type": "stream",
          "name": "stdout",
          "text": [
            "66/66 [==============================] - 8s 115ms/step - loss: 0.0085 - categorical_accuracy: 0.9435 - val_loss: 0.0083 - val_categorical_accuracy: 0.9434\n"
          ]
        },
        {
          "output_type": "stream",
          "name": "stderr",
          "text": [
            "\r 42%|████▏     | 42/100 [07:00<08:23,  8.68s/it]"
          ]
        },
        {
          "output_type": "stream",
          "name": "stdout",
          "text": [
            "66/66 [==============================] - 8s 115ms/step - loss: 0.0084 - categorical_accuracy: 0.9435 - val_loss: 0.0088 - val_categorical_accuracy: 0.9412\n"
          ]
        },
        {
          "output_type": "stream",
          "name": "stderr",
          "text": [
            "\r 43%|████▎     | 43/100 [07:11<09:00,  9.48s/it]"
          ]
        },
        {
          "output_type": "stream",
          "name": "stdout",
          "text": [
            "66/66 [==============================] - 8s 114ms/step - loss: 0.0085 - categorical_accuracy: 0.9423 - val_loss: 0.0085 - val_categorical_accuracy: 0.9427\n"
          ]
        },
        {
          "output_type": "stream",
          "name": "stderr",
          "text": [
            "\r 44%|████▍     | 44/100 [07:22<09:17,  9.96s/it]"
          ]
        },
        {
          "output_type": "stream",
          "name": "stdout",
          "text": [
            "66/66 [==============================] - 8s 114ms/step - loss: 0.0083 - categorical_accuracy: 0.9441 - val_loss: 0.0082 - val_categorical_accuracy: 0.9454\n"
          ]
        },
        {
          "output_type": "stream",
          "name": "stderr",
          "text": [
            "\r 45%|████▌     | 45/100 [07:33<09:24, 10.27s/it]"
          ]
        },
        {
          "output_type": "stream",
          "name": "stdout",
          "text": [
            "66/66 [==============================] - 8s 114ms/step - loss: 0.0083 - categorical_accuracy: 0.9445 - val_loss: 0.0082 - val_categorical_accuracy: 0.9467\n"
          ]
        },
        {
          "output_type": "stream",
          "name": "stderr",
          "text": [
            "\r 46%|████▌     | 46/100 [07:42<08:43,  9.70s/it]"
          ]
        },
        {
          "output_type": "stream",
          "name": "stdout",
          "text": [
            "66/66 [==============================] - 8s 115ms/step - loss: 0.0083 - categorical_accuracy: 0.9432 - val_loss: 0.0082 - val_categorical_accuracy: 0.9437\n"
          ]
        },
        {
          "output_type": "stream",
          "name": "stderr",
          "text": [
            "\r 47%|████▋     | 47/100 [07:50<08:13,  9.30s/it]"
          ]
        },
        {
          "output_type": "stream",
          "name": "stdout",
          "text": [
            "66/66 [==============================] - 8s 115ms/step - loss: 0.0081 - categorical_accuracy: 0.9459 - val_loss: 0.0086 - val_categorical_accuracy: 0.9406\n"
          ]
        },
        {
          "output_type": "stream",
          "name": "stderr",
          "text": [
            "\r 48%|████▊     | 48/100 [08:01<08:31,  9.83s/it]"
          ]
        },
        {
          "output_type": "stream",
          "name": "stdout",
          "text": [
            "66/66 [==============================] - 8s 114ms/step - loss: 0.0082 - categorical_accuracy: 0.9455 - val_loss: 0.0078 - val_categorical_accuracy: 0.9485\n"
          ]
        },
        {
          "output_type": "stream",
          "name": "stderr",
          "text": [
            "\r 49%|████▉     | 49/100 [08:09<08:00,  9.42s/it]"
          ]
        },
        {
          "output_type": "stream",
          "name": "stdout",
          "text": [
            "66/66 [==============================] - 8s 120ms/step - loss: 0.0079 - categorical_accuracy: 0.9475 - val_loss: 0.0082 - val_categorical_accuracy: 0.9440\n"
          ]
        },
        {
          "output_type": "stream",
          "name": "stderr",
          "text": [
            "\r 50%|█████     | 50/100 [08:21<08:15,  9.90s/it]"
          ]
        },
        {
          "output_type": "stream",
          "name": "stdout",
          "text": [
            "66/66 [==============================] - 8s 114ms/step - loss: 0.0081 - categorical_accuracy: 0.9461 - val_loss: 0.0081 - val_categorical_accuracy: 0.9465\n"
          ]
        },
        {
          "output_type": "stream",
          "name": "stderr",
          "text": [
            "\r 51%|█████     | 51/100 [08:32<08:21, 10.24s/it]"
          ]
        },
        {
          "output_type": "stream",
          "name": "stdout",
          "text": [
            "66/66 [==============================] - 8s 115ms/step - loss: 0.0078 - categorical_accuracy: 0.9482 - val_loss: 0.0078 - val_categorical_accuracy: 0.9486\n"
          ]
        },
        {
          "output_type": "stream",
          "name": "stderr",
          "text": [
            "\r 52%|█████▏    | 52/100 [08:40<07:45,  9.70s/it]"
          ]
        },
        {
          "output_type": "stream",
          "name": "stdout",
          "text": [
            "66/66 [==============================] - 8s 119ms/step - loss: 0.0078 - categorical_accuracy: 0.9474 - val_loss: 0.0077 - val_categorical_accuracy: 0.9468\n"
          ]
        },
        {
          "output_type": "stream",
          "name": "stderr",
          "text": [
            "\r 53%|█████▎    | 53/100 [08:49<07:21,  9.39s/it]"
          ]
        },
        {
          "output_type": "stream",
          "name": "stdout",
          "text": [
            "66/66 [==============================] - 8s 114ms/step - loss: 0.0078 - categorical_accuracy: 0.9471 - val_loss: 0.0076 - val_categorical_accuracy: 0.9480\n"
          ]
        },
        {
          "output_type": "stream",
          "name": "stderr",
          "text": [
            "\r 54%|█████▍    | 54/100 [09:00<07:37,  9.94s/it]"
          ]
        },
        {
          "output_type": "stream",
          "name": "stdout",
          "text": [
            "66/66 [==============================] - 8s 118ms/step - loss: 0.0077 - categorical_accuracy: 0.9485 - val_loss: 0.0082 - val_categorical_accuracy: 0.9426\n"
          ]
        },
        {
          "output_type": "stream",
          "name": "stderr",
          "text": [
            "\r 55%|█████▌    | 55/100 [09:09<07:13,  9.64s/it]"
          ]
        },
        {
          "output_type": "stream",
          "name": "stdout",
          "text": [
            "66/66 [==============================] - 8s 114ms/step - loss: 0.0076 - categorical_accuracy: 0.9495 - val_loss: 0.0080 - val_categorical_accuracy: 0.9463\n"
          ]
        },
        {
          "output_type": "stream",
          "name": "stderr",
          "text": [
            "\r 56%|█████▌    | 56/100 [09:17<06:47,  9.27s/it]"
          ]
        },
        {
          "output_type": "stream",
          "name": "stdout",
          "text": [
            "66/66 [==============================] - 8s 115ms/step - loss: 0.0077 - categorical_accuracy: 0.9489 - val_loss: 0.0080 - val_categorical_accuracy: 0.9453\n"
          ]
        },
        {
          "output_type": "stream",
          "name": "stderr",
          "text": [
            "\r 57%|█████▋    | 57/100 [09:26<06:26,  9.00s/it]"
          ]
        },
        {
          "output_type": "stream",
          "name": "stdout",
          "text": [
            "66/66 [==============================] - 8s 115ms/step - loss: 0.0075 - categorical_accuracy: 0.9495 - val_loss: 0.0084 - val_categorical_accuracy: 0.9435\n"
          ]
        },
        {
          "output_type": "stream",
          "name": "stderr",
          "text": [
            "\r 58%|█████▊    | 58/100 [09:37<06:44,  9.62s/it]"
          ]
        },
        {
          "output_type": "stream",
          "name": "stdout",
          "text": [
            "66/66 [==============================] - 8s 114ms/step - loss: 0.0076 - categorical_accuracy: 0.9494 - val_loss: 0.0077 - val_categorical_accuracy: 0.9489\n"
          ]
        },
        {
          "output_type": "stream",
          "name": "stderr",
          "text": [
            "\r 59%|█████▉    | 59/100 [09:45<06:18,  9.24s/it]"
          ]
        },
        {
          "output_type": "stream",
          "name": "stdout",
          "text": [
            "66/66 [==============================] - 8s 119ms/step - loss: 0.0075 - categorical_accuracy: 0.9499 - val_loss: 0.0075 - val_categorical_accuracy: 0.9510\n"
          ]
        },
        {
          "output_type": "stream",
          "name": "stderr",
          "text": [
            "\r 60%|██████    | 60/100 [09:56<06:31,  9.78s/it]"
          ]
        },
        {
          "output_type": "stream",
          "name": "stdout",
          "text": [
            "66/66 [==============================] - 8s 115ms/step - loss: 0.0073 - categorical_accuracy: 0.9506 - val_loss: 0.0080 - val_categorical_accuracy: 0.9455\n"
          ]
        },
        {
          "output_type": "stream",
          "name": "stderr",
          "text": [
            "\r 61%|██████    | 61/100 [10:07<06:36, 10.16s/it]"
          ]
        },
        {
          "output_type": "stream",
          "name": "stdout",
          "text": [
            "66/66 [==============================] - 8s 114ms/step - loss: 0.0073 - categorical_accuracy: 0.9514 - val_loss: 0.0081 - val_categorical_accuracy: 0.9445\n"
          ]
        },
        {
          "output_type": "stream",
          "name": "stderr",
          "text": [
            "\r 62%|██████▏   | 62/100 [10:15<06:05,  9.61s/it]"
          ]
        },
        {
          "output_type": "stream",
          "name": "stdout",
          "text": [
            "66/66 [==============================] - 8s 119ms/step - loss: 0.0072 - categorical_accuracy: 0.9520 - val_loss: 0.0075 - val_categorical_accuracy: 0.9508\n"
          ]
        },
        {
          "output_type": "stream",
          "name": "stderr",
          "text": [
            "\r 63%|██████▎   | 63/100 [10:26<06:10, 10.03s/it]"
          ]
        },
        {
          "output_type": "stream",
          "name": "stdout",
          "text": [
            "66/66 [==============================] - 8s 115ms/step - loss: 0.0073 - categorical_accuracy: 0.9514 - val_loss: 0.0080 - val_categorical_accuracy: 0.9468\n"
          ]
        },
        {
          "output_type": "stream",
          "name": "stderr",
          "text": [
            "\r 64%|██████▍   | 64/100 [10:37<06:11, 10.32s/it]"
          ]
        },
        {
          "output_type": "stream",
          "name": "stdout",
          "text": [
            "66/66 [==============================] - 8s 118ms/step - loss: 0.0070 - categorical_accuracy: 0.9540 - val_loss: 0.0079 - val_categorical_accuracy: 0.9490\n"
          ]
        },
        {
          "output_type": "stream",
          "name": "stderr",
          "text": [
            "\r 65%|██████▌   | 65/100 [10:46<05:43,  9.81s/it]"
          ]
        },
        {
          "output_type": "stream",
          "name": "stdout",
          "text": [
            "66/66 [==============================] - 7s 114ms/step - loss: 0.0072 - categorical_accuracy: 0.9519 - val_loss: 0.0079 - val_categorical_accuracy: 0.9468\n"
          ]
        },
        {
          "output_type": "stream",
          "name": "stderr",
          "text": [
            "\r 66%|██████▌   | 66/100 [10:57<05:49, 10.29s/it]"
          ]
        },
        {
          "output_type": "stream",
          "name": "stdout",
          "text": [
            "66/66 [==============================] - 8s 114ms/step - loss: 0.0072 - categorical_accuracy: 0.9506 - val_loss: 0.0074 - val_categorical_accuracy: 0.9517\n"
          ]
        },
        {
          "output_type": "stream",
          "name": "stderr",
          "text": [
            "\r 67%|██████▋   | 67/100 [11:09<05:50, 10.62s/it]"
          ]
        },
        {
          "output_type": "stream",
          "name": "stdout",
          "text": [
            "66/66 [==============================] - 8s 115ms/step - loss: 0.0071 - categorical_accuracy: 0.9534 - val_loss: 0.0074 - val_categorical_accuracy: 0.9516\n"
          ]
        },
        {
          "output_type": "stream",
          "name": "stderr",
          "text": [
            "\r 68%|██████▊   | 68/100 [11:17<05:19,  9.98s/it]"
          ]
        },
        {
          "output_type": "stream",
          "name": "stdout",
          "text": [
            "66/66 [==============================] - 8s 119ms/step - loss: 0.0069 - categorical_accuracy: 0.9543 - val_loss: 0.0073 - val_categorical_accuracy: 0.9494\n"
          ]
        },
        {
          "output_type": "stream",
          "name": "stderr",
          "text": [
            "\r 69%|██████▉   | 69/100 [11:26<04:56,  9.57s/it]"
          ]
        },
        {
          "output_type": "stream",
          "name": "stdout",
          "text": [
            "66/66 [==============================] - 8s 115ms/step - loss: 0.0070 - categorical_accuracy: 0.9542 - val_loss: 0.0071 - val_categorical_accuracy: 0.9533\n"
          ]
        },
        {
          "output_type": "stream",
          "name": "stderr",
          "text": [
            "\r 70%|███████   | 70/100 [11:34<04:36,  9.22s/it]"
          ]
        },
        {
          "output_type": "stream",
          "name": "stdout",
          "text": [
            "66/66 [==============================] - 8s 119ms/step - loss: 0.0070 - categorical_accuracy: 0.9530 - val_loss: 0.0072 - val_categorical_accuracy: 0.9515\n"
          ]
        },
        {
          "output_type": "stream",
          "name": "stderr",
          "text": [
            "\r 71%|███████   | 71/100 [11:46<04:46,  9.87s/it]"
          ]
        },
        {
          "output_type": "stream",
          "name": "stdout",
          "text": [
            "66/66 [==============================] - 8s 114ms/step - loss: 0.0069 - categorical_accuracy: 0.9543 - val_loss: 0.0073 - val_categorical_accuracy: 0.9506\n"
          ]
        },
        {
          "output_type": "stream",
          "name": "stderr",
          "text": [
            "\r 72%|███████▏  | 72/100 [11:54<04:26,  9.51s/it]"
          ]
        },
        {
          "output_type": "stream",
          "name": "stdout",
          "text": [
            "66/66 [==============================] - 7s 114ms/step - loss: 0.0070 - categorical_accuracy: 0.9532 - val_loss: 0.0077 - val_categorical_accuracy: 0.9491\n"
          ]
        },
        {
          "output_type": "stream",
          "name": "stderr",
          "text": [
            "\r 73%|███████▎  | 73/100 [12:05<04:28,  9.96s/it]"
          ]
        },
        {
          "output_type": "stream",
          "name": "stdout",
          "text": [
            "66/66 [==============================] - 8s 118ms/step - loss: 0.0069 - categorical_accuracy: 0.9542 - val_loss: 0.0072 - val_categorical_accuracy: 0.9513\n"
          ]
        },
        {
          "output_type": "stream",
          "name": "stderr",
          "text": [
            "\r 74%|███████▍  | 74/100 [12:14<04:08,  9.55s/it]"
          ]
        },
        {
          "output_type": "stream",
          "name": "stdout",
          "text": [
            "66/66 [==============================] - 8s 119ms/step - loss: 0.0066 - categorical_accuracy: 0.9562 - val_loss: 0.0067 - val_categorical_accuracy: 0.9558\n"
          ]
        },
        {
          "output_type": "stream",
          "name": "stderr",
          "text": [
            "\r 75%|███████▌  | 75/100 [12:25<04:09,  9.99s/it]"
          ]
        },
        {
          "output_type": "stream",
          "name": "stdout",
          "text": [
            "66/66 [==============================] - 8s 114ms/step - loss: 0.0067 - categorical_accuracy: 0.9556 - val_loss: 0.0072 - val_categorical_accuracy: 0.9534\n"
          ]
        },
        {
          "output_type": "stream",
          "name": "stderr",
          "text": [
            "\r 76%|███████▌  | 76/100 [12:36<04:07, 10.31s/it]"
          ]
        },
        {
          "output_type": "stream",
          "name": "stdout",
          "text": [
            "66/66 [==============================] - 8s 114ms/step - loss: 0.0069 - categorical_accuracy: 0.9544 - val_loss: 0.0070 - val_categorical_accuracy: 0.9526\n"
          ]
        },
        {
          "output_type": "stream",
          "name": "stderr",
          "text": [
            "\r 77%|███████▋  | 77/100 [12:47<04:01, 10.52s/it]"
          ]
        },
        {
          "output_type": "stream",
          "name": "stdout",
          "text": [
            "66/66 [==============================] - 8s 119ms/step - loss: 0.0069 - categorical_accuracy: 0.9541 - val_loss: 0.0072 - val_categorical_accuracy: 0.9520\n"
          ]
        },
        {
          "output_type": "stream",
          "name": "stderr",
          "text": [
            "\r 78%|███████▊  | 78/100 [12:58<03:55, 10.68s/it]"
          ]
        },
        {
          "output_type": "stream",
          "name": "stdout",
          "text": [
            "66/66 [==============================] - 8s 114ms/step - loss: 0.0067 - categorical_accuracy: 0.9553 - val_loss: 0.0072 - val_categorical_accuracy: 0.9511\n"
          ]
        },
        {
          "output_type": "stream",
          "name": "stderr",
          "text": [
            "\r 79%|███████▉  | 79/100 [13:09<03:46, 10.77s/it]"
          ]
        },
        {
          "output_type": "stream",
          "name": "stdout",
          "text": [
            "66/66 [==============================] - 8s 114ms/step - loss: 0.0068 - categorical_accuracy: 0.9551 - val_loss: 0.0073 - val_categorical_accuracy: 0.9537\n"
          ]
        },
        {
          "output_type": "stream",
          "name": "stderr",
          "text": [
            "\r 80%|████████  | 80/100 [13:17<03:20, 10.05s/it]"
          ]
        },
        {
          "output_type": "stream",
          "name": "stdout",
          "text": [
            "66/66 [==============================] - 8s 115ms/step - loss: 0.0067 - categorical_accuracy: 0.9560 - val_loss: 0.0070 - val_categorical_accuracy: 0.9532\n"
          ]
        },
        {
          "output_type": "stream",
          "name": "stderr",
          "text": [
            "\r 81%|████████  | 81/100 [13:26<03:01,  9.53s/it]"
          ]
        },
        {
          "output_type": "stream",
          "name": "stdout",
          "text": [
            "66/66 [==============================] - 8s 115ms/step - loss: 0.0066 - categorical_accuracy: 0.9557 - val_loss: 0.0068 - val_categorical_accuracy: 0.9549\n"
          ]
        },
        {
          "output_type": "stream",
          "name": "stderr",
          "text": [
            "\r 82%|████████▏ | 82/100 [13:37<03:00, 10.00s/it]"
          ]
        },
        {
          "output_type": "stream",
          "name": "stdout",
          "text": [
            "66/66 [==============================] - 8s 113ms/step - loss: 0.0065 - categorical_accuracy: 0.9567 - val_loss: 0.0070 - val_categorical_accuracy: 0.9547\n"
          ]
        },
        {
          "output_type": "stream",
          "name": "stderr",
          "text": [
            "\r 83%|████████▎ | 83/100 [13:45<02:41,  9.50s/it]"
          ]
        },
        {
          "output_type": "stream",
          "name": "stdout",
          "text": [
            "66/66 [==============================] - 8s 118ms/step - loss: 0.0066 - categorical_accuracy: 0.9564 - val_loss: 0.0071 - val_categorical_accuracy: 0.9539\n"
          ]
        },
        {
          "output_type": "stream",
          "name": "stderr",
          "text": [
            "\r 84%|████████▍ | 84/100 [13:54<02:27,  9.23s/it]"
          ]
        },
        {
          "output_type": "stream",
          "name": "stdout",
          "text": [
            "66/66 [==============================] - 8s 119ms/step - loss: 0.0065 - categorical_accuracy: 0.9577 - val_loss: 0.0071 - val_categorical_accuracy: 0.9547\n"
          ]
        },
        {
          "output_type": "stream",
          "name": "stderr",
          "text": [
            "\r 85%|████████▌ | 85/100 [14:03<02:16,  9.07s/it]"
          ]
        },
        {
          "output_type": "stream",
          "name": "stdout",
          "text": [
            "66/66 [==============================] - 7s 114ms/step - loss: 0.0066 - categorical_accuracy: 0.9568 - val_loss: 0.0066 - val_categorical_accuracy: 0.9579\n"
          ]
        },
        {
          "output_type": "stream",
          "name": "stderr",
          "text": [
            "\r 86%|████████▌ | 86/100 [14:11<02:03,  8.83s/it]"
          ]
        },
        {
          "output_type": "stream",
          "name": "stdout",
          "text": [
            "66/66 [==============================] - 8s 114ms/step - loss: 0.0065 - categorical_accuracy: 0.9577 - val_loss: 0.0065 - val_categorical_accuracy: 0.9575\n"
          ]
        },
        {
          "output_type": "stream",
          "name": "stderr",
          "text": [
            "\r 87%|████████▋ | 87/100 [14:22<02:03,  9.49s/it]"
          ]
        },
        {
          "output_type": "stream",
          "name": "stdout",
          "text": [
            "66/66 [==============================] - 8s 114ms/step - loss: 0.0064 - categorical_accuracy: 0.9575 - val_loss: 0.0066 - val_categorical_accuracy: 0.9560\n"
          ]
        },
        {
          "output_type": "stream",
          "name": "stderr",
          "text": [
            "\r 88%|████████▊ | 88/100 [14:33<01:59,  9.96s/it]"
          ]
        },
        {
          "output_type": "stream",
          "name": "stdout",
          "text": [
            "66/66 [==============================] - 8s 113ms/step - loss: 0.0065 - categorical_accuracy: 0.9567 - val_loss: 0.0070 - val_categorical_accuracy: 0.9530\n"
          ]
        },
        {
          "output_type": "stream",
          "name": "stderr",
          "text": [
            "\r 89%|████████▉ | 89/100 [14:44<01:53, 10.29s/it]"
          ]
        },
        {
          "output_type": "stream",
          "name": "stdout",
          "text": [
            "66/66 [==============================] - 8s 113ms/step - loss: 0.0064 - categorical_accuracy: 0.9576 - val_loss: 0.0071 - val_categorical_accuracy: 0.9532\n"
          ]
        },
        {
          "output_type": "stream",
          "name": "stderr",
          "text": [
            "\r 90%|█████████ | 90/100 [14:52<01:37,  9.71s/it]"
          ]
        },
        {
          "output_type": "stream",
          "name": "stdout",
          "text": [
            "66/66 [==============================] - 8s 114ms/step - loss: 0.0064 - categorical_accuracy: 0.9580 - val_loss: 0.0067 - val_categorical_accuracy: 0.9562\n"
          ]
        },
        {
          "output_type": "stream",
          "name": "stderr",
          "text": [
            "\r 91%|█████████ | 91/100 [15:01<01:24,  9.35s/it]"
          ]
        },
        {
          "output_type": "stream",
          "name": "stdout",
          "text": [
            "66/66 [==============================] - 8s 115ms/step - loss: 0.0063 - categorical_accuracy: 0.9582 - val_loss: 0.0068 - val_categorical_accuracy: 0.9547\n"
          ]
        },
        {
          "output_type": "stream",
          "name": "stderr",
          "text": [
            "\r 92%|█████████▏| 92/100 [15:12<01:18,  9.87s/it]"
          ]
        },
        {
          "output_type": "stream",
          "name": "stdout",
          "text": [
            "66/66 [==============================] - 8s 114ms/step - loss: 0.0063 - categorical_accuracy: 0.9578 - val_loss: 0.0068 - val_categorical_accuracy: 0.9569\n"
          ]
        },
        {
          "output_type": "stream",
          "name": "stderr",
          "text": [
            "\r 93%|█████████▎| 93/100 [15:23<01:11, 10.22s/it]"
          ]
        },
        {
          "output_type": "stream",
          "name": "stdout",
          "text": [
            "66/66 [==============================] - 8s 114ms/step - loss: 0.0063 - categorical_accuracy: 0.9585 - val_loss: 0.0067 - val_categorical_accuracy: 0.9564\n"
          ]
        },
        {
          "output_type": "stream",
          "name": "stderr",
          "text": [
            "\r 94%|█████████▍| 94/100 [15:34<01:02, 10.46s/it]"
          ]
        },
        {
          "output_type": "stream",
          "name": "stdout",
          "text": [
            "66/66 [==============================] - 8s 114ms/step - loss: 0.0063 - categorical_accuracy: 0.9586 - val_loss: 0.0065 - val_categorical_accuracy: 0.9571\n"
          ]
        },
        {
          "output_type": "stream",
          "name": "stderr",
          "text": [
            "\r 95%|█████████▌| 95/100 [15:42<00:49,  9.83s/it]"
          ]
        },
        {
          "output_type": "stream",
          "name": "stdout",
          "text": [
            "66/66 [==============================] - 8s 119ms/step - loss: 0.0063 - categorical_accuracy: 0.9581 - val_loss: 0.0069 - val_categorical_accuracy: 0.9548\n"
          ]
        },
        {
          "output_type": "stream",
          "name": "stderr",
          "text": [
            "\r 96%|█████████▌| 96/100 [15:51<00:38,  9.53s/it]"
          ]
        },
        {
          "output_type": "stream",
          "name": "stdout",
          "text": [
            "66/66 [==============================] - 8s 115ms/step - loss: 0.0062 - categorical_accuracy: 0.9591 - val_loss: 0.0068 - val_categorical_accuracy: 0.9538\n"
          ]
        },
        {
          "output_type": "stream",
          "name": "stderr",
          "text": [
            "\r 97%|█████████▋| 97/100 [15:59<00:27,  9.16s/it]"
          ]
        },
        {
          "output_type": "stream",
          "name": "stdout",
          "text": [
            "66/66 [==============================] - 8s 114ms/step - loss: 0.0063 - categorical_accuracy: 0.9586 - val_loss: 0.0065 - val_categorical_accuracy: 0.9592\n"
          ]
        },
        {
          "output_type": "stream",
          "name": "stderr",
          "text": [
            "\r 98%|█████████▊| 98/100 [16:08<00:17,  8.91s/it]"
          ]
        },
        {
          "output_type": "stream",
          "name": "stdout",
          "text": [
            "66/66 [==============================] - 7s 114ms/step - loss: 0.0062 - categorical_accuracy: 0.9592 - val_loss: 0.0067 - val_categorical_accuracy: 0.9542\n"
          ]
        },
        {
          "output_type": "stream",
          "name": "stderr",
          "text": [
            "\r 99%|█████████▉| 99/100 [16:16<00:08,  8.72s/it]"
          ]
        },
        {
          "output_type": "stream",
          "name": "stdout",
          "text": [
            "66/66 [==============================] - 7s 114ms/step - loss: 0.0062 - categorical_accuracy: 0.9592 - val_loss: 0.0067 - val_categorical_accuracy: 0.9562\n"
          ]
        },
        {
          "output_type": "stream",
          "name": "stderr",
          "text": [
            "100%|██████████| 100/100 [16:24<00:00,  9.85s/it]\n"
          ]
        }
      ],
      "source": [
        "from tqdm import tqdm\n",
        "\n",
        "checkpoint_path = \"training_1/val_loss.ckpt\"\n",
        "checkpoint_dir = os.path.dirname(checkpoint_path)\n",
        "\n",
        "csv_logger = CSVLogger('training_log.csv', append=True)\n",
        "\n",
        "# Create a callback that saves the model's weights\n",
        "cp_callback = tf.keras.callbacks.ModelCheckpoint(filepath=checkpoint_path,\n",
        "                                                 monitor = 'val_loss',\n",
        "                                                 verbose=1)\n",
        "\n",
        "# Train the model with the new callback\n",
        "for i in tqdm(range(100)):\n",
        "\n",
        "\n",
        "  X,y = add_non_numbers(xmm, trainy_new)\n",
        "\n",
        "  for i in range((X.shape[0])//2):\n",
        "    add_lines(X[i])\n",
        "\n",
        "  X,y = shuffle(X,y)\n",
        "\n",
        "\n",
        "  X_val,y_val = add_non_numbers(xmm_val, testy_new)\n",
        "\n",
        "  for i in range((X_val.shape[0])//2):\n",
        "    add_lines(X_val[i])\n",
        "\n",
        "  X_val,y_val = shuffle(X_val,y_val)\n",
        "\n",
        "\n",
        "  model.fit(X,\n",
        "    y,\n",
        "    epochs=1,\n",
        "    batch_size = 1000,\n",
        "    validation_data=(X_val, y_val),\n",
        "    callbacks=[csv_logger])"
      ]
    },
    {
      "cell_type": "code",
      "execution_count": null,
      "metadata": {
        "id": "wCONjn1gUSLc"
      },
      "outputs": [],
      "source": [
        "logs = pd.read_csv('training_log.csv')"
      ]
    },
    {
      "cell_type": "code",
      "execution_count": null,
      "metadata": {
        "colab": {
          "base_uri": "https://localhost:8080/"
        },
        "id": "KybBmhkCUqF1",
        "outputId": "ddc445d2-88c7-4ae6-917c-056cd97f835a"
      },
      "outputs": [
        {
          "output_type": "execute_result",
          "data": {
            "text/plain": [
              "0.9591818451881408"
            ]
          },
          "metadata": {},
          "execution_count": 27
        }
      ],
      "source": [
        "logs['val_categorical_accuracy'].max()"
      ]
    },
    {
      "cell_type": "code",
      "execution_count": null,
      "metadata": {
        "colab": {
          "base_uri": "https://localhost:8080/",
          "height": 542
        },
        "id": "h_asKhiFPVca",
        "outputId": "c2c3b89a-abed-41c4-c384-d3fc8b2fbdc5"
      },
      "outputs": [
        {
          "output_type": "display_data",
          "data": {
            "text/plain": [
              "<Figure size 1000x600 with 1 Axes>"
            ],
            "image/png": "[encoded data removed]"
          },
          "metadata": {}
        }
      ],
      "source": [
        "plt.figure(figsize = (10,6))\n",
        "plt.plot(logs['val_categorical_accuracy'])\n",
        "plt.xlabel('Accuracy')\n",
        "plt.ylabel('Epochs')\n",
        "plt.show()"
      ]
    },
    {
      "cell_type": "code",
      "source": [
        "X_val,y_val = add_non_numbers(xmm_val, testy_new)\n",
        "\n",
        "for i in range((X_val.shape[0])//2):\n",
        "  add_lines(X_val[i])\n",
        "\n",
        "X_val,y_val = shuffle(X_val,y_val)"
      ],
      "metadata": {
        "id": "In0TP-b-J6XK"
      },
      "execution_count": null,
      "outputs": []
    },
    {
      "cell_type": "code",
      "execution_count": null,
      "metadata": {
        "colab": {
          "base_uri": "https://localhost:8080/"
        },
        "id": "FI1J926RPVca",
        "outputId": "90e5f946-5ca7-4968-99a2-e0d8edf05455"
      },
      "outputs": [
        {
          "output_type": "stream",
          "name": "stdout",
          "text": [
            "344/344 [==============================] - 2s 4ms/step - loss: 0.0067 - categorical_accuracy: 0.9550\n"
          ]
        },
        {
          "output_type": "execute_result",
          "data": {
            "text/plain": [
              "[0.006697875447571278, 0.9549999833106995]"
            ]
          },
          "metadata": {},
          "execution_count": 30
        }
      ],
      "source": [
        "model.evaluate(X_val, y_val)"
      ]
    },
    {
      "cell_type": "code",
      "source": [
        "prediction = model.predict(X_val)"
      ],
      "metadata": {
        "colab": {
          "base_uri": "https://localhost:8080/"
        },
        "id": "G09ZGQFEKEdh",
        "outputId": "67f3686a-61dd-40c8-b0b3-ee47350e2009"
      },
      "execution_count": null,
      "outputs": [
        {
          "output_type": "stream",
          "name": "stdout",
          "text": [
            "344/344 [==============================] - 1s 2ms/step\n"
          ]
        }
      ]
    },
    {
      "cell_type": "code",
      "source": [
        "y_val"
      ],
      "metadata": {
        "colab": {
          "base_uri": "https://localhost:8080/"
        },
        "id": "OckAXCjoKbJy",
        "outputId": "585630a6-507f-4df7-e484-9a05b9428483"
      },
      "execution_count": null,
      "outputs": [
        {
          "output_type": "execute_result",
          "data": {
            "text/plain": [
              "array([[0., 0., 0., ..., 0., 0., 1.],\n",
              "       [1., 0., 0., ..., 0., 0., 0.],\n",
              "       [1., 0., 0., ..., 0., 0., 0.],\n",
              "       ...,\n",
              "       [0., 0., 0., ..., 0., 0., 1.],\n",
              "       [0., 0., 0., ..., 0., 0., 1.],\n",
              "       [0., 0., 0., ..., 0., 0., 0.]])"
            ]
          },
          "metadata": {},
          "execution_count": 32
        }
      ]
    },
    {
      "cell_type": "code",
      "source": [
        "plt.imshow(X_val[3][:10])"
      ],
      "metadata": {
        "colab": {
          "base_uri": "https://localhost:8080/",
          "height": 433
        },
        "id": "_v3oBcnClHcQ",
        "outputId": "47ba7ea5-fc8e-4ffe-9f8d-c419aa418988"
      },
      "execution_count": null,
      "outputs": [
        {
          "output_type": "execute_result",
          "data": {
            "text/plain": [
              "<matplotlib.image.AxesImage at 0x7da0e033d990>"
            ]
          },
          "metadata": {},
          "execution_count": 33
        },
        {
          "output_type": "display_data",
          "data": {
            "text/plain": [
              "<Figure size 640x480 with 1 Axes>"
            ],
            "image/png": "[encoded data removed]"
          },
          "metadata": {}
        }
      ]
    },
    {
      "cell_type": "code",
      "source": [
        "X_val[3]"
      ],
      "metadata": {
        "id": "Ih_jQOl9MBJJ",
        "colab": {
          "base_uri": "https://localhost:8080/"
        },
        "outputId": "0b92a187-5711-475f-abfb-e7745f316d88"
      },
      "execution_count": null,
      "outputs": [
        {
          "output_type": "execute_result",
          "data": {
            "text/plain": [
              "array([[0.        , 0.        , 0.        , 0.        , 0.        ,\n",
              "        0.        , 0.        , 0.        , 0.        , 0.        ,\n",
              "        0.        , 0.        , 0.        , 0.        ],\n",
              "       [0.        , 0.        , 0.        , 0.        , 0.        ,\n",
              "        0.        , 0.        , 0.        , 0.        , 0.        ,\n",
              "        0.        , 0.        , 0.        , 0.        ],\n",
              "       [0.        , 0.        , 0.        , 0.        , 0.        ,\n",
              "        0.        , 0.        , 0.14117647, 0.14117647, 0.        ,\n",
              "        0.03921569, 0.99215686, 0.52941176, 0.        ],\n",
              "       [0.        , 0.        , 0.        , 0.        , 0.        ,\n",
              "        0.        , 0.04705882, 0.99215686, 0.99215686, 0.        ,\n",
              "        0.58039216, 0.99215686, 0.74509804, 0.        ],\n",
              "       [0.        , 0.        , 0.        , 0.        , 0.        ,\n",
              "        0.01176471, 0.95294118, 0.99215686, 0.5254902 , 0.05098039,\n",
              "        0.99215686, 0.99215686, 0.12941176, 0.        ],\n",
              "       [0.        , 0.        , 0.        , 0.        , 0.09411765,\n",
              "        0.99215686, 0.99215686, 0.64313725, 0.04313725, 0.99215686,\n",
              "        0.99215686, 0.45882353, 0.        , 0.        ],\n",
              "       [0.        , 0.        , 0.01960784, 0.99215686, 0.99215686,\n",
              "        0.99215686, 0.16470588, 0.0745098 , 0.99215686, 0.99215686,\n",
              "        0.8       , 0.        , 0.        , 0.        ],\n",
              "       [0.        , 0.        , 0.9254902 , 0.99215686, 0.99215686,\n",
              "        0.99215686, 0.93333333, 0.99215686, 0.99215686, 0.99215686,\n",
              "        0.38039216, 0.        , 0.        , 0.        ],\n",
              "       [0.        , 0.        , 1.        , 0.99215686, 0.99215686,\n",
              "        0.99215686, 0.99215686, 0.99215686, 0.82745098, 0.08627451,\n",
              "        0.        , 0.        , 0.        , 0.        ],\n",
              "       [0.        , 0.        , 0.        , 0.12941176, 0.06666667,\n",
              "        0.99215686, 0.99215686, 0.80392157, 0.        , 0.        ,\n",
              "        0.        , 0.        , 0.        , 0.        ],\n",
              "       [0.        , 0.        , 0.        , 0.99215686, 0.99215686,\n",
              "        0.99215686, 0.80784314, 0.        , 0.        , 0.        ,\n",
              "        0.        , 0.        , 0.        , 0.        ],\n",
              "       [0.        , 0.        , 0.        , 0.99215686, 0.99215686,\n",
              "        0.45098039, 0.        , 0.        , 0.        , 0.        ,\n",
              "        0.        , 0.        , 0.        , 0.        ],\n",
              "       [0.        , 0.        , 0.        , 0.        , 0.        ,\n",
              "        0.        , 0.        , 0.        , 0.        , 0.        ,\n",
              "        0.        , 0.        , 0.        , 0.        ],\n",
              "       [0.        , 0.        , 0.        , 0.        , 0.        ,\n",
              "        0.        , 0.        , 0.        , 0.        , 0.        ,\n",
              "        0.        , 0.        , 0.        , 0.        ]])"
            ]
          },
          "metadata": {},
          "execution_count": 34
        }
      ]
    },
    {
      "cell_type": "code",
      "source": [
        "y_val[3]"
      ],
      "metadata": {
        "colab": {
          "base_uri": "https://localhost:8080/"
        },
        "id": "OvZ8ZDZ_lCT8",
        "outputId": "e06b4371-c438-4a15-d2ad-24dd0c733e69"
      },
      "execution_count": null,
      "outputs": [
        {
          "output_type": "execute_result",
          "data": {
            "text/plain": [
              "array([0., 0., 0., 0., 0., 1., 0., 0., 0., 0., 0.])"
            ]
          },
          "metadata": {},
          "execution_count": 35
        }
      ]
    },
    {
      "cell_type": "code",
      "source": [
        "prediction[3]"
      ],
      "metadata": {
        "colab": {
          "base_uri": "https://localhost:8080/"
        },
        "id": "UA1gtQNBk7Zf",
        "outputId": "a802e24e-99d6-47d4-f23f-886ccdf91a81"
      },
      "execution_count": null,
      "outputs": [
        {
          "output_type": "execute_result",
          "data": {
            "text/plain": [
              "array([2.2143011e-08, 6.2879772e-06, 5.7368097e-06, 8.7567780e-05,\n",
              "       4.1546826e-08, 9.9992323e-01, 1.5332874e-07, 1.2010207e-06,\n",
              "       2.2691665e-06, 6.1429627e-02, 5.3843352e-09], dtype=float32)"
            ]
          },
          "metadata": {},
          "execution_count": 36
        }
      ]
    },
    {
      "cell_type": "code",
      "source": [
        "y_pred = np.array([np.argmax(i) for i in prediction])"
      ],
      "metadata": {
        "id": "z5JsjxyLk8pe"
      },
      "execution_count": null,
      "outputs": []
    },
    {
      "cell_type": "code",
      "source": [
        "y_true = np.array([np.argmax(i) for i in y_val])"
      ],
      "metadata": {
        "id": "98-gD0vxl9Vf"
      },
      "execution_count": null,
      "outputs": []
    },
    {
      "cell_type": "code",
      "source": [
        "y_true"
      ],
      "metadata": {
        "colab": {
          "base_uri": "https://localhost:8080/"
        },
        "id": "oy5u3Bt6mBGl",
        "outputId": "7ae84589-9807-4b45-a720-1192b2638be7"
      },
      "execution_count": null,
      "outputs": [
        {
          "output_type": "execute_result",
          "data": {
            "text/plain": [
              "array([10,  0,  0, ..., 10, 10,  4])"
            ]
          },
          "metadata": {},
          "execution_count": 39
        }
      ]
    },
    {
      "cell_type": "code",
      "source": [
        "y_pred"
      ],
      "metadata": {
        "colab": {
          "base_uri": "https://localhost:8080/"
        },
        "id": "CKA6b7Bal7Pr",
        "outputId": "11311c30-8ec4-4afb-d037-4fd79680402a"
      },
      "execution_count": null,
      "outputs": [
        {
          "output_type": "execute_result",
          "data": {
            "text/plain": [
              "array([10,  0,  0, ..., 10, 10,  4])"
            ]
          },
          "metadata": {},
          "execution_count": 40
        }
      ]
    },
    {
      "cell_type": "code",
      "source": [
        "np.sum((y_true == y_pred).astype(int))/y_true.shape[0]"
      ],
      "metadata": {
        "colab": {
          "base_uri": "https://localhost:8080/"
        },
        "id": "OKaDloNrmG2H",
        "outputId": "6d08424f-ae78-4951-e26b-d1c352205cad"
      },
      "execution_count": null,
      "outputs": [
        {
          "output_type": "execute_result",
          "data": {
            "text/plain": [
              "0.955"
            ]
          },
          "metadata": {},
          "execution_count": 41
        }
      ]
    },
    {
      "cell_type": "code",
      "source": [
        "cnf_mat = tf.math.confusion_matrix(labels = y_true, predictions = y_pred)\n",
        "cnf_mat"
      ],
      "metadata": {
        "colab": {
          "base_uri": "https://localhost:8080/"
        },
        "id": "nt3Hlpe7mYPI",
        "outputId": "eb7150db-bb23-4fab-81cb-86557eed5f5a"
      },
      "execution_count": null,
      "outputs": [
        {
          "output_type": "execute_result",
          "data": {
            "text/plain": [
              "<tf.Tensor: shape=(11, 11), dtype=int32, numpy=\n",
              "array([[1000,    0,    0,    0,    0,    0,    0,    0,    0,    0,    0],\n",
              "       [   0,  956,    0,    4,    1,    2,    2,    8,    1,    3,    3],\n",
              "       [   0,    1, 1120,    1,    0,    2,    1,    1,    2,    6,    1],\n",
              "       [   0,    4,    4,  990,    6,    4,    1,    0,    9,   13,    1],\n",
              "       [   0,    1,    1,    8,  958,    1,   11,    3,    7,   17,    3],\n",
              "       [   0,    0,    2,    2,    1,  933,    5,    3,   17,    4,   15],\n",
              "       [   0,    2,    3,    0,   18,    4,  838,   13,    3,    6,    5],\n",
              "       [   0,    5,    1,    4,    2,    6,    5,  911,    7,    4,   13],\n",
              "       [   0,    0,    5,   10,    5,   14,    4,    9,  963,    0,   18],\n",
              "       [   0,    4,    1,   12,    9,    6,    8,    5,    3,  923,    3],\n",
              "       [   0,    3,    4,    1,    3,   21,   13,   31,   17,    3,  913]],\n",
              "      dtype=int32)>"
            ]
          },
          "metadata": {},
          "execution_count": 42
        }
      ]
    },
    {
      "cell_type": "code",
      "source": [
        "plt.figure(figsize = (10,8))\n",
        "sns.heatmap(cnf_mat, annot= True, fmt='d')\n",
        "plt.xlabel('Predicted')\n",
        "plt.ylabel('Truth')\n",
        "plt.show()"
      ],
      "metadata": {
        "colab": {
          "base_uri": "https://localhost:8080/",
          "height": 696
        },
        "id": "5p9q_sOCmbHS",
        "outputId": "7aa46236-5218-4c06-d9c2-90073f59f6cb"
      },
      "execution_count": null,
      "outputs": [
        {
          "output_type": "display_data",
          "data": {
            "text/plain": [
              "<Figure size 1000x800 with 2 Axes>"
            ],
            "image/png": "[encoded data removed]"
          },
          "metadata": {}
        }
      ]
    },
    {
      "cell_type": "code",
      "source": [
        "y_true_pr = np.zeros(y_true.shape)\n",
        "y_true_pr[y_true != 0] = 1\n",
        "\n",
        "y_pred_pr = np.zeros(y_pred.shape)\n",
        "y_pred_pr[y_pred != 0] = 1"
      ],
      "metadata": {
        "id": "aeb3tBRjnd74"
      },
      "execution_count": null,
      "outputs": []
    },
    {
      "cell_type": "code",
      "source": [
        "np.sum((y_true_pr == y_pred_pr).astype(int))/y_true_pr.shape[0]"
      ],
      "metadata": {
        "colab": {
          "base_uri": "https://localhost:8080/"
        },
        "id": "w4FE3RVioe-Z",
        "outputId": "b7086320-0ff0-4e57-e486-179a87ed58c1"
      },
      "execution_count": null,
      "outputs": [
        {
          "output_type": "execute_result",
          "data": {
            "text/plain": [
              "1.0"
            ]
          },
          "metadata": {},
          "execution_count": 45
        }
      ]
    },
    {
      "cell_type": "code",
      "source": [
        "model.save('number_detection.keras')"
      ],
      "metadata": {
        "id": "GpTtDKMY9e-9"
      },
      "execution_count": null,
      "outputs": []
    },
    {
      "cell_type": "code",
      "source": [
        "# Save the weights\n",
        "model.save_weights('./checkpoints/Tata_Steel_Model')"
      ],
      "metadata": {
        "id": "2IhXaW15QZPt"
      },
      "execution_count": null,
      "outputs": []
    },
    {
      "cell_type": "code",
      "source": [
        "new_model = keras.Sequential([\n",
        "    # keras.layers.MaxPooling2D((2,2),input_shape = (28,28,1)),\n",
        "    # keras.layers.MaxPooling2D((2,2)),\n",
        "    keras.layers.RandomRotation(0.5,input_shape = (14,14,1)),\n",
        "\n",
        "    keras.layers.Conv2D(filters = 16, padding = 'same', kernel_size = (3,3), activation = 'relu'),\n",
        "\n",
        "    # keras.layers.Conv2D(filters = 32, padding = 'same', kernel_size = (3,3), activation = 'relu'),\n",
        "    # keras.layers.Conv2D(filters = 64, padding = 'same', kernel_size = (3,3), activation = 'relu'),\n",
        "    # keras.layers.MaxPooling2D((2,2)),\n",
        "    # keras.layers.Conv2D(filters = 128, padding = 'same', kernel_size = (3,3), activation = 'relu'),\n",
        "    keras.layers.Conv2D(filters = 256, padding = 'same', kernel_size = (3,3), activation = 'relu'),\n",
        "\n",
        "    keras.layers.Flatten(),\n",
        "    keras.layers.Dense(1000, activation = 'relu'),\n",
        "    # keras.layers.Dense(11, activation = 'relu'),\n",
        "    # keras.layers.Dropout(0.05),\n",
        "    keras.layers.Dense(11, activation = 'sigmoid')\n",
        "])\n",
        "\n",
        "new_model.compile(optimizer = 'adam', loss = 'mean_squared_error', metrics = [keras.metrics.CategoricalAccuracy()])\n",
        "\n",
        "new_model.summary()"
      ],
      "metadata": {
        "colab": {
          "base_uri": "https://localhost:8080/"
        },
        "id": "T5qtr3YMQvjV",
        "outputId": "69e573b9-5997-457c-9266-184219cbd9d9"
      },
      "execution_count": null,
      "outputs": [
        {
          "output_type": "stream",
          "name": "stdout",
          "text": [
            "Model: \"sequential_1\"\n",
            "_________________________________________________________________\n",
            " Layer (type)                Output Shape              Param #   \n",
            "=================================================================\n",
            " random_rotation_1 (RandomR  (None, 14, 14, 1)         0         \n",
            " otation)                                                        \n",
            "                                                                 \n",
            " conv2d_2 (Conv2D)           (None, 14, 14, 16)        160       \n",
            "                                                                 \n",
            " conv2d_3 (Conv2D)           (None, 14, 14, 256)       37120     \n",
            "                                                                 \n",
            " flatten_1 (Flatten)         (None, 50176)             0         \n",
            "                                                                 \n",
            " dense_2 (Dense)             (None, 1000)              50177000  \n",
            "                                                                 \n",
            " dense_3 (Dense)             (None, 11)                11011     \n",
            "                                                                 \n",
            "=================================================================\n",
            "Total params: 50225291 (191.59 MB)\n",
            "Trainable params: 50225291 (191.59 MB)\n",
            "Non-trainable params: 0 (0.00 Byte)\n",
            "_________________________________________________________________\n"
          ]
        }
      ]
    },
    {
      "cell_type": "code",
      "source": [
        "# Restore the weights\n",
        "new_model.load_weights('./checkpoints/Tata_Steel_Model')"
      ],
      "metadata": {
        "colab": {
          "base_uri": "https://localhost:8080/"
        },
        "id": "oFZHEQbtQijl",
        "outputId": "5d4fb1b1-52ff-4984-cef3-83459b3bbc4a"
      },
      "execution_count": null,
      "outputs": [
        {
          "output_type": "execute_result",
          "data": {
            "text/plain": [
              "<tensorflow.python.checkpoint.checkpoint.CheckpointLoadStatus at 0x7da0e0283370>"
            ]
          },
          "metadata": {},
          "execution_count": 49
        }
      ]
    },
    {
      "cell_type": "code",
      "source": [
        "new_model.evaluate(X_val, y_val)"
      ],
      "metadata": {
        "colab": {
          "base_uri": "https://localhost:8080/"
        },
        "id": "BeFRSmYWQ2-M",
        "outputId": "e5d4d108-419a-42c6-a241-28ab74757777"
      },
      "execution_count": null,
      "outputs": [
        {
          "output_type": "stream",
          "name": "stdout",
          "text": [
            "344/344 [==============================] - 1s 3ms/step - loss: 0.0067 - categorical_accuracy: 0.9550\n"
          ]
        },
        {
          "output_type": "execute_result",
          "data": {
            "text/plain": [
              "[0.006697875447571278, 0.9549999833106995]"
            ]
          },
          "metadata": {},
          "execution_count": 50
        }
      ]
    },
    {
      "cell_type": "markdown",
      "metadata": {
        "id": "StwAtswrPVcb"
      },
      "source": [
        "## Large Network"
      ]
    },
    {
      "cell_type": "code",
      "execution_count": null,
      "metadata": {
        "id": "pcT9CyViPVcc"
      },
      "outputs": [],
      "source": [
        "model = keras.Sequential([\n",
        "    keras.layers.Conv2D(filters = 16, padding = 'same', kernel_size = (3,3), activation = 'relu', input_shape = (28,28,1)),\n",
        "    keras.layers.MaxPooling2D((2,2)),\n",
        "\n",
        "    keras.layers.Conv2D(filters = 64, padding = 'same', kernel_size = (3,3), activation = 'relu'),\n",
        "    keras.layers.MaxPooling2D((2,2)),\n",
        "\n",
        "    keras.layers.Flatten(),\n",
        "    keras.layers.Dense(3136, activation = 'relu'),\n",
        "    keras.layers.Dense(196, activation = 'relu'),\n",
        "    keras.layers.Dense(10, activation = 'softmax')\n",
        "])\n",
        "\n",
        "model.compile(optimizer = 'adam', loss = 'sparse_categorical_crossentropy', metrics = ['accuracy'])\n",
        "\n",
        "model.summary()"
      ]
    },
    {
      "cell_type": "code",
      "execution_count": null,
      "metadata": {
        "id": "8PuDmy1pPVcc"
      },
      "outputs": [],
      "source": [
        "checkpoint_path = \"training_1/val_loss.ckpt\"\n",
        "checkpoint_dir = os.path.dirname(checkpoint_path)\n",
        "\n",
        "csv_logger = CSVLogger('training_log2.csv', append=True)\n",
        "\n",
        "# Create a callback that saves the model's weights\n",
        "cp_callback = tf.keras.callbacks.ModelCheckpoint(filepath=checkpoint_path,\n",
        "                                                 monitor = 'val_loss',\n",
        "                                                 verbose=1)\n",
        "\n",
        "# Train the model with the new callback\n",
        "model.fit(trainxmm,\n",
        "          trainy,\n",
        "          epochs=100,\n",
        "          batch_size = 1000,\n",
        "          validation_data=(testxmm, testy),\n",
        "          callbacks=[csv_logger])"
      ]
    },
    {
      "cell_type": "code",
      "execution_count": null,
      "metadata": {
        "id": "lctnAUsmcmzl"
      },
      "outputs": [],
      "source": [
        "logs2 = pd.read_csv('training_log2.csv')"
      ]
    },
    {
      "cell_type": "code",
      "execution_count": null,
      "metadata": {
        "id": "-QM17Qtycnvz"
      },
      "outputs": [],
      "source": [
        "logs2['val_accuracy'].max()"
      ]
    },
    {
      "cell_type": "code",
      "execution_count": null,
      "metadata": {
        "id": "oyRcCJ_BPVcc"
      },
      "outputs": [],
      "source": [
        "plt.figure(figsize = (10,6))\n",
        "plt.plot(logs['val_accuracy'], color='blue')\n",
        "plt.plot(logs2['val_accuracy'], color='orange')\n",
        "plt.xlabel('Accuracy')\n",
        "plt.ylabel('Epochs')\n",
        "plt.show()"
      ]
    },
    {
      "cell_type": "code",
      "execution_count": null,
      "metadata": {
        "id": "gYJlX4Sccvbm"
      },
      "outputs": [],
      "source": [
        "model.evaluate(testxmm, testy)"
      ]
    }
  ],
  "metadata": {
    "colab": {
      "collapsed_sections": [
        "_SgiFx_gPxj1",
        "kHhdauPnackw",
        "StwAtswrPVcb"
      ],
      "provenance": [],
      "gpuType": "T4"
    },
    "kernelspec": {
      "display_name": "Python 3",
      "name": "python3"
    },
    "language_info": {
      "name": "python"
    },
    "accelerator": "GPU"
  },
  "nbformat": 4,
  "nbformat_minor": 0
}