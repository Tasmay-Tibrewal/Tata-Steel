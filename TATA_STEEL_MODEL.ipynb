{
  "cells": [
    {
      "cell_type": "markdown",
      "metadata": {
        "id": "_SgiFx_gPxj1"
      },
      "source": [
        "# **Initialisation**"
      ]
    },
    {
      "cell_type": "code",
      "execution_count": null,
      "metadata": {
        "id": "h3oJuWxFR5dH"
      },
      "outputs": [],
      "source": [
        "from tensorflow import keras\n",
        "import tensorflow as tf\n",
        "from keras.datasets import mnist\n",
        "from keras.datasets import cifar100\n",
        "import numpy as np\n",
        "import matplotlib.pyplot as plt\n",
        "import pandas as pd\n",
        "import seaborn as sns\n",
        "from sklearn.model_selection import train_test_split\n",
        "import os\n",
        "from keras.callbacks import CSVLogger\n",
        "import random\n",
        "import cv2\n",
        "from sklearn.utils import shuffle\n",
        "import skimage.measure"
      ]
    },
    {
      "cell_type": "code",
      "execution_count": null,
      "metadata": {
        "colab": {
          "base_uri": "https://localhost:8080/"
        },
        "id": "E6ZUn1MJfgmS",
        "outputId": "55ac5604-6cc5-438b-a0b4-d58e2b646bf8"
      },
      "outputs": [
        {
          "output_type": "stream",
          "name": "stdout",
          "text": [
            "Requirement already satisfied: pyyaml in /usr/local/lib/python3.10/dist-packages (6.0.1)\n",
            "Requirement already satisfied: h5py in /usr/local/lib/python3.10/dist-packages (3.9.0)\n",
            "Requirement already satisfied: numpy>=1.17.3 in /usr/local/lib/python3.10/dist-packages (from h5py) (1.25.2)\n"
          ]
        }
      ],
      "source": [
        "!pip install pyyaml h5py"
      ]
    },
    {
      "cell_type": "code",
      "execution_count": null,
      "metadata": {
        "id": "7sZ3dQLh4lb-",
        "colab": {
          "base_uri": "https://localhost:8080/"
        },
        "outputId": "2461cf7e-5ebe-4d57-f6f6-12481a4088d3"
      },
      "outputs": [
        {
          "output_type": "stream",
          "name": "stdout",
          "text": [
            "Downloading data from https://storage.googleapis.com/tensorflow/tf-keras-datasets/mnist.npz\n",
            "11490434/11490434 [==============================] - 0s 0us/step\n"
          ]
        }
      ],
      "source": [
        "(trainx, trainy), (testx, testy) = mnist.load_data()"
      ]
    },
    {
      "cell_type": "code",
      "execution_count": null,
      "metadata": {
        "colab": {
          "base_uri": "https://localhost:8080/"
        },
        "id": "lTLxoYaG5Wt3",
        "outputId": "2cb32ec3-af77-4a4c-bc19-df0c111c568f"
      },
      "outputs": [
        {
          "output_type": "execute_result",
          "data": {
            "text/plain": [
              "<matplotlib.image.AxesImage at 0x7f79ce7d1720>"
            ]
          },
          "metadata": {},
          "execution_count": 4
        },
        {
          "output_type": "display_data",
          "data": {
            "text/plain": [
              "<Figure size 640x480 with 1 Axes>"
            ],
            "image/png": "[encoded data removed]"
          },
          "metadata": {}
        }
      ],
      "source": [
        "plt.imshow(trainx[1])"
      ]
    },
    {
      "cell_type": "code",
      "execution_count": null,
      "metadata": {
        "colab": {
          "base_uri": "https://localhost:8080/"
        },
        "id": "nPSippb9PoOi",
        "outputId": "b9e9e34b-2941-48fd-86a8-faaa2de13cbc"
      },
      "outputs": [
        {
          "output_type": "execute_result",
          "data": {
            "text/plain": [
              "0"
            ]
          },
          "metadata": {},
          "execution_count": 5
        }
      ],
      "source": [
        "trainy[1]"
      ]
    },
    {
      "cell_type": "markdown",
      "metadata": {
        "id": "91gCzU63Ot69"
      },
      "source": [
        "# **Large CNNs**"
      ]
    },
    {
      "cell_type": "markdown",
      "source": [
        "## Model"
      ],
      "metadata": {
        "id": "kHhdauPnackw"
      }
    },
    {
      "cell_type": "code",
      "execution_count": null,
      "metadata": {
        "id": "VgN8wYclPVcY"
      },
      "outputs": [],
      "source": [
        "trainxmm = trainx/255.0\n",
        "testxmm = testx/255.0"
      ]
    },
    {
      "cell_type": "code",
      "execution_count": null,
      "metadata": {
        "id": "K5TYhQGfPVcY"
      },
      "outputs": [],
      "source": [
        "# trainxmm = np.expand_dims(trainxmm, axis=3)\n",
        "# testxmm = np.expand_dims(trainxmm, axis=3)"
      ]
    },
    {
      "cell_type": "code",
      "execution_count": null,
      "metadata": {
        "id": "6QnO6ow5PVcY"
      },
      "outputs": [],
      "source": [
        "# trainxmm.shape"
      ]
    },
    {
      "cell_type": "markdown",
      "metadata": {
        "id": "HTldo7M7PVcZ"
      },
      "source": [
        "**Wider layer**"
      ]
    },
    {
      "cell_type": "code",
      "source": [
        "def metric(y_true,y_pred):\n",
        "  # print(type(y_true))\n",
        "  result = y_pred * tf.transpose(y_true)\n",
        "  return tf.reduce_sum(result)/2*tf.shape(result)"
      ],
      "metadata": {
        "id": "UKKS4Ue1NmSR"
      },
      "execution_count": null,
      "outputs": []
    },
    {
      "cell_type": "code",
      "execution_count": null,
      "metadata": {
        "colab": {
          "base_uri": "https://localhost:8080/"
        },
        "id": "8JM2Q4L9PVcZ",
        "outputId": "99fab836-5048-4db3-90d6-39c322b882d1"
      },
      "outputs": [
        {
          "output_type": "stream",
          "name": "stdout",
          "text": [
            "Model: \"sequential\"\n",
            "_________________________________________________________________\n",
            " Layer (type)                Output Shape              Param #   \n",
            "=================================================================\n",
            " random_rotation (RandomRot  (None, 14, 14, 1)         0         \n",
            " ation)                                                          \n",
            "                                                                 \n",
            " conv2d (Conv2D)             (None, 14, 14, 16)        160       \n",
            "                                                                 \n",
            " conv2d_1 (Conv2D)           (None, 14, 14, 256)       37120     \n",
            "                                                                 \n",
            " flatten (Flatten)           (None, 50176)             0         \n",
            "                                                                 \n",
            " dense (Dense)               (None, 1000)              50177000  \n",
            "                                                                 \n",
            " dense_1 (Dense)             (None, 11)                11011     \n",
            "                                                                 \n",
            "=================================================================\n",
            "Total params: 50225291 (191.59 MB)\n",
            "Trainable params: 50225291 (191.59 MB)\n",
            "Non-trainable params: 0 (0.00 Byte)\n",
            "_________________________________________________________________\n"
          ]
        }
      ],
      "source": [
        "model = keras.Sequential([\n",
        "    # keras.layers.MaxPooling2D((2,2),input_shape = (28,28,1)),\n",
        "    # keras.layers.MaxPooling2D((2,2)),\n",
        "    keras.layers.RandomRotation(0.5,input_shape = (14,14,1)),\n",
        "\n",
        "    keras.layers.Conv2D(filters = 16, padding = 'same', kernel_size = (3,3), activation = 'relu'),\n",
        "\n",
        "    # keras.layers.Conv2D(filters = 32, padding = 'same', kernel_size = (3,3), activation = 'relu'),\n",
        "    # keras.layers.Conv2D(filters = 64, padding = 'same', kernel_size = (3,3), activation = 'relu'),\n",
        "    # keras.layers.MaxPooling2D((2,2)),\n",
        "    # keras.layers.Conv2D(filters = 128, padding = 'same', kernel_size = (3,3), activation = 'relu'),\n",
        "    keras.layers.Conv2D(filters = 256, padding = 'same', kernel_size = (3,3), activation = 'relu'),\n",
        "\n",
        "    keras.layers.Flatten(),\n",
        "    keras.layers.Dense(1000, activation = 'relu'),\n",
        "    # keras.layers.Dense(11, activation = 'relu'),\n",
        "    # keras.layers.Dropout(0.05),\n",
        "    keras.layers.Dense(11, activation = 'sigmoid')\n",
        "])\n",
        "\n",
        "model.compile(optimizer = 'adam', loss = 'mean_squared_error', metrics = [keras.metrics.CategoricalAccuracy()])\n",
        "\n",
        "model.summary()"
      ]
    },
    {
      "cell_type": "code",
      "execution_count": null,
      "metadata": {
        "id": "1Big11-rOuNY"
      },
      "outputs": [],
      "source": [
        "def add_f_train(trainy,n):\n",
        "  trainy_new = np.zeros((trainy.shape[0],n+1))\n",
        "  for i in range(trainy.shape[0]):\n",
        "    trainy_new[i,trainy[i] + 1] = 1\n",
        "    trainy_new[i,0] = 0\n",
        "\n",
        "  return trainy_new"
      ]
    },
    {
      "cell_type": "code",
      "execution_count": null,
      "metadata": {
        "id": "bei12o6FSb47"
      },
      "outputs": [],
      "source": [
        "def add_non_numbers(x, y):\n",
        "  trainx_new = np.zeros((x.shape[0]*11//10, x.shape[1], x.shape[2]))\n",
        "  trainy_new = np.zeros((y.shape[0]*11//10, y.shape[1]))\n",
        "\n",
        "  trainx_new [:x.shape[0]] = x\n",
        "  for i in range(x.shape[0]//10):\n",
        "    trainx_new [x.shape[0]+i] = np.random.rand(x.shape[1],x.shape[2])/random.randint(1,100)\n",
        "\n",
        "  trainy_new [:y.shape[0]] = y\n",
        "  trainy_new [y.shape[0]:,0] = np.ones(y.shape[0]*1//10)\n",
        "\n",
        "  return shuffle(trainx_new, trainy_new)"
      ]
    },
    {
      "cell_type": "code",
      "execution_count": null,
      "metadata": {
        "id": "rYllMsxkbOJS"
      },
      "outputs": [],
      "source": [
        "def add_lines(x):\n",
        "  a = random.randint(1,4)\n",
        "  if a == 1:\n",
        "    cv2.line(x,\n",
        "          (0,random.randint(0,X.shape[1]-1)),\n",
        "          (X.shape[2]-1,random.randint(0,X.shape[1]-1)),\n",
        "          (1,1,1),\n",
        "          random.randint(2,2))/255\n",
        "\n",
        "  elif a == 2:\n",
        "    cv2.line(x,\n",
        "          (random.randint(0,X.shape[2]-1),0),\n",
        "          (random.randint(0,X.shape[2]-1),X.shape[1]-1),\n",
        "          (1,1,1),\n",
        "          random.randint(2,2))/255\n",
        "\n",
        "  elif a == 3:\n",
        "    cv2.line(x,\n",
        "          (0,random.randint(0,X.shape[1]-1)),\n",
        "          (random.randint(0,X.shape[2]-1),X.shape[1]-1),\n",
        "          (1,1,1),\n",
        "          random.randint(2,2))/255\n",
        "\n",
        "  else:\n",
        "    cv2.line(x,\n",
        "          (random.randint(0,X.shape[2]-1),0),\n",
        "          (X.shape[2]-1, random.randint(0,X.shape[1]-1)),\n",
        "          (1,1,1),\n",
        "          random.randint(2,2))/255"
      ]
    },
    {
      "cell_type": "code",
      "execution_count": null,
      "metadata": {
        "id": "NBCzLLlyu9e7"
      },
      "outputs": [],
      "source": [
        "def reduce(xmm,n=2):\n",
        "  x = np.zeros((xmm.shape[0], xmm.shape[1]//n, xmm.shape[2]//n))\n",
        "  for i in range(xmm.shape[0]):\n",
        "    x[i] = skimage.measure.block_reduce(xmm[i], (n,n), np.max)\n",
        "\n",
        "  return x"
      ]
    },
    {
      "cell_type": "code",
      "execution_count": null,
      "metadata": {
        "id": "UgGbtLQXPmv-"
      },
      "outputs": [],
      "source": [
        "trainy_new = add_f_train(trainy,10)\n",
        "testy_new = add_f_train(testy,10)"
      ]
    },
    {
      "cell_type": "code",
      "execution_count": null,
      "metadata": {
        "colab": {
          "base_uri": "https://localhost:8080/"
        },
        "id": "uBr6w9TQSB14",
        "outputId": "05ca228b-621a-456f-b615-7d32654445f6"
      },
      "outputs": [
        {
          "output_type": "execute_result",
          "data": {
            "text/plain": [
              "array([0., 1., 0., 0., 0., 0., 0., 0., 0., 0., 0.])"
            ]
          },
          "metadata": {},
          "execution_count": 16
        }
      ],
      "source": [
        "trainy_new[1]"
      ]
    },
    {
      "cell_type": "code",
      "execution_count": null,
      "metadata": {
        "id": "YnwK2xO5xHfY"
      },
      "outputs": [],
      "source": [
        "xmm = reduce(trainxmm, n=2)\n",
        "xmm_val = reduce(testxmm, n=2)"
      ]
    },
    {
      "cell_type": "code",
      "execution_count": null,
      "metadata": {
        "id": "esIVAPfVYqEc"
      },
      "outputs": [],
      "source": [
        "X,y = add_non_numbers(xmm, trainy_new)"
      ]
    },
    {
      "cell_type": "code",
      "execution_count": null,
      "metadata": {
        "id": "uiNt0RR9htiA"
      },
      "outputs": [],
      "source": [
        "for i in range((X.shape[0])//2):\n",
        "  add_lines(X[i])"
      ]
    },
    {
      "cell_type": "code",
      "execution_count": null,
      "metadata": {
        "id": "_RcnXkdp7ZUp"
      },
      "outputs": [],
      "source": [
        "X,y = shuffle(X,y)"
      ]
    },
    {
      "cell_type": "code",
      "execution_count": null,
      "metadata": {
        "colab": {
          "base_uri": "https://localhost:8080/",
          "height": 447
        },
        "id": "7qWHPcYkh6b-",
        "outputId": "ca233030-769d-41a1-f4e0-55a7af51c034"
      },
      "outputs": [
        {
          "output_type": "execute_result",
          "data": {
            "text/plain": [
              "<matplotlib.image.AxesImage at 0x7f79ac10b760>"
            ]
          },
          "metadata": {},
          "execution_count": 21
        },
        {
          "output_type": "display_data",
          "data": {
            "text/plain": [
              "<Figure size 640x480 with 1 Axes>"
            ],
            "image/png": "[encoded data removed]"
          },
          "metadata": {}
        }
      ],
      "source": [
        "plt.imshow(X[242])"
      ]
    },
    {
      "cell_type": "code",
      "execution_count": null,
      "metadata": {
        "colab": {
          "base_uri": "https://localhost:8080/"
        },
        "id": "4XoG5wPviDxU",
        "outputId": "7766d432-3b2d-484c-be81-4f2801a044a4"
      },
      "outputs": [
        {
          "output_type": "execute_result",
          "data": {
            "text/plain": [
              "array([0., 1., 0., 0., 0., 0., 0., 0., 0., 0., 0.])"
            ]
          },
          "metadata": {},
          "execution_count": 22
        }
      ],
      "source": [
        "y[234]"
      ]
    },
    {
      "cell_type": "markdown",
      "source": [
        "## Training"
      ],
      "metadata": {
        "id": "e_v1kvHoaXpX"
      }
    },
    {
      "cell_type": "code",
      "execution_count": null,
      "metadata": {
        "colab": {
          "base_uri": "https://localhost:8080/"
        },
        "id": "-7xdgZ9ZRACn",
        "outputId": "587f266d-c3be-4185-df0a-ae617f919cb7"
      },
      "outputs": [
        {
          "output_type": "stream",
          "name": "stderr",
          "text": [
            "\r  0%|          | 0/100 [00:00<?, ?it/s]"
          ]
        },
        {
          "output_type": "stream",
          "name": "stdout",
          "text": [
            "66/66 [==============================] - 14s 105ms/step - loss: 0.0824 - categorical_accuracy: 0.2168 - val_loss: 0.0746 - val_categorical_accuracy: 0.2670\n"
          ]
        },
        {
          "output_type": "stream",
          "name": "stderr",
          "text": [
            "\r  1%|          | 1/100 [00:15<25:20, 15.36s/it]"
          ]
        },
        {
          "output_type": "stream",
          "name": "stdout",
          "text": [
            "66/66 [==============================] - 7s 105ms/step - loss: 0.0718 - categorical_accuracy: 0.2750 - val_loss: 0.0702 - val_categorical_accuracy: 0.2795\n"
          ]
        },
        {
          "output_type": "stream",
          "name": "stderr",
          "text": [
            "\r  2%|▏         | 2/100 [00:23<17:42, 10.84s/it]"
          ]
        },
        {
          "output_type": "stream",
          "name": "stdout",
          "text": [
            "66/66 [==============================] - 7s 105ms/step - loss: 0.0652 - categorical_accuracy: 0.3774 - val_loss: 0.0517 - val_categorical_accuracy: 0.5472\n"
          ]
        },
        {
          "output_type": "stream",
          "name": "stderr",
          "text": [
            "\r  3%|▎         | 3/100 [00:30<15:10,  9.39s/it]"
          ]
        },
        {
          "output_type": "stream",
          "name": "stdout",
          "text": [
            "66/66 [==============================] - 7s 105ms/step - loss: 0.0364 - categorical_accuracy: 0.7255 - val_loss: 0.0281 - val_categorical_accuracy: 0.7979\n"
          ]
        },
        {
          "output_type": "stream",
          "name": "stderr",
          "text": [
            "\r  4%|▍         | 4/100 [00:38<14:09,  8.85s/it]"
          ]
        },
        {
          "output_type": "stream",
          "name": "stdout",
          "text": [
            "66/66 [==============================] - 7s 105ms/step - loss: 0.0264 - categorical_accuracy: 0.8080 - val_loss: 0.0220 - val_categorical_accuracy: 0.8450\n"
          ]
        },
        {
          "output_type": "stream",
          "name": "stderr",
          "text": [
            "\r  5%|▌         | 5/100 [00:46<13:23,  8.46s/it]"
          ]
        },
        {
          "output_type": "stream",
          "name": "stdout",
          "text": [
            "66/66 [==============================] - 7s 105ms/step - loss: 0.0229 - categorical_accuracy: 0.8354 - val_loss: 0.0204 - val_categorical_accuracy: 0.8549\n"
          ]
        },
        {
          "output_type": "stream",
          "name": "stderr",
          "text": [
            "\r  6%|▌         | 6/100 [00:54<12:51,  8.21s/it]"
          ]
        },
        {
          "output_type": "stream",
          "name": "stdout",
          "text": [
            "66/66 [==============================] - 7s 107ms/step - loss: 0.0203 - categorical_accuracy: 0.8552 - val_loss: 0.0181 - val_categorical_accuracy: 0.8713\n"
          ]
        },
        {
          "output_type": "stream",
          "name": "stderr",
          "text": [
            "\r  7%|▋         | 7/100 [01:05<14:10,  9.15s/it]"
          ]
        },
        {
          "output_type": "stream",
          "name": "stdout",
          "text": [
            "66/66 [==============================] - 7s 107ms/step - loss: 0.0187 - categorical_accuracy: 0.8670 - val_loss: 0.0168 - val_categorical_accuracy: 0.8808\n"
          ]
        },
        {
          "output_type": "stream",
          "name": "stderr",
          "text": [
            "\r  8%|▊         | 8/100 [01:13<13:25,  8.75s/it]"
          ]
        },
        {
          "output_type": "stream",
          "name": "stdout",
          "text": [
            "66/66 [==============================] - 7s 112ms/step - loss: 0.0176 - categorical_accuracy: 0.8746 - val_loss: 0.0162 - val_categorical_accuracy: 0.8845\n"
          ]
        },
        {
          "output_type": "stream",
          "name": "stderr",
          "text": [
            "\r  9%|▉         | 9/100 [01:24<14:20,  9.46s/it]"
          ]
        },
        {
          "output_type": "stream",
          "name": "stdout",
          "text": [
            "66/66 [==============================] - 7s 109ms/step - loss: 0.0162 - categorical_accuracy: 0.8859 - val_loss: 0.0153 - val_categorical_accuracy: 0.8919\n"
          ]
        },
        {
          "output_type": "stream",
          "name": "stderr",
          "text": [
            "\r 10%|█         | 10/100 [01:35<15:13, 10.15s/it]"
          ]
        },
        {
          "output_type": "stream",
          "name": "stdout",
          "text": [
            "66/66 [==============================] - 7s 109ms/step - loss: 0.0154 - categorical_accuracy: 0.8930 - val_loss: 0.0141 - val_categorical_accuracy: 0.9025\n"
          ]
        },
        {
          "output_type": "stream",
          "name": "stderr",
          "text": [
            "\r 11%|█         | 11/100 [01:46<15:26, 10.41s/it]"
          ]
        },
        {
          "output_type": "stream",
          "name": "stdout",
          "text": [
            "66/66 [==============================] - 8s 115ms/step - loss: 0.0147 - categorical_accuracy: 0.8974 - val_loss: 0.0133 - val_categorical_accuracy: 0.9075\n"
          ]
        },
        {
          "output_type": "stream",
          "name": "stderr",
          "text": [
            "\r 12%|█▏        | 12/100 [01:55<14:23,  9.81s/it]"
          ]
        },
        {
          "output_type": "stream",
          "name": "stdout",
          "text": [
            "66/66 [==============================] - 7s 110ms/step - loss: 0.0141 - categorical_accuracy: 0.9034 - val_loss: 0.0133 - val_categorical_accuracy: 0.9078\n"
          ]
        },
        {
          "output_type": "stream",
          "name": "stderr",
          "text": [
            "\r 13%|█▎        | 13/100 [02:06<14:51, 10.24s/it]"
          ]
        },
        {
          "output_type": "stream",
          "name": "stdout",
          "text": [
            "66/66 [==============================] - 7s 111ms/step - loss: 0.0135 - categorical_accuracy: 0.9059 - val_loss: 0.0127 - val_categorical_accuracy: 0.9105\n"
          ]
        },
        {
          "output_type": "stream",
          "name": "stderr",
          "text": [
            "\r 14%|█▍        | 14/100 [02:15<13:54,  9.71s/it]"
          ]
        },
        {
          "output_type": "stream",
          "name": "stdout",
          "text": [
            "66/66 [==============================] - 8s 117ms/step - loss: 0.0132 - categorical_accuracy: 0.9089 - val_loss: 0.0132 - val_categorical_accuracy: 0.9101\n"
          ]
        },
        {
          "output_type": "stream",
          "name": "stderr",
          "text": [
            "\r 15%|█▌        | 15/100 [02:23<13:13,  9.34s/it]"
          ]
        },
        {
          "output_type": "stream",
          "name": "stdout",
          "text": [
            "66/66 [==============================] - 7s 112ms/step - loss: 0.0128 - categorical_accuracy: 0.9121 - val_loss: 0.0125 - val_categorical_accuracy: 0.9132\n"
          ]
        },
        {
          "output_type": "stream",
          "name": "stderr",
          "text": [
            "\r 16%|█▌        | 16/100 [02:31<12:34,  8.98s/it]"
          ]
        },
        {
          "output_type": "stream",
          "name": "stdout",
          "text": [
            "66/66 [==============================] - 7s 111ms/step - loss: 0.0124 - categorical_accuracy: 0.9147 - val_loss: 0.0120 - val_categorical_accuracy: 0.9164\n"
          ]
        },
        {
          "output_type": "stream",
          "name": "stderr",
          "text": [
            "\r 17%|█▋        | 17/100 [02:39<12:03,  8.72s/it]"
          ]
        },
        {
          "output_type": "stream",
          "name": "stdout",
          "text": [
            "66/66 [==============================] - 8s 116ms/step - loss: 0.0121 - categorical_accuracy: 0.9162 - val_loss: 0.0118 - val_categorical_accuracy: 0.9190\n"
          ]
        },
        {
          "output_type": "stream",
          "name": "stderr",
          "text": [
            "\r 18%|█▊        | 18/100 [02:48<11:47,  8.63s/it]"
          ]
        },
        {
          "output_type": "stream",
          "name": "stdout",
          "text": [
            "66/66 [==============================] - 7s 110ms/step - loss: 0.0119 - categorical_accuracy: 0.9169 - val_loss: 0.0108 - val_categorical_accuracy: 0.9269\n"
          ]
        },
        {
          "output_type": "stream",
          "name": "stderr",
          "text": [
            "\r 19%|█▉        | 19/100 [02:59<12:36,  9.34s/it]"
          ]
        },
        {
          "output_type": "stream",
          "name": "stdout",
          "text": [
            "66/66 [==============================] - 7s 111ms/step - loss: 0.0116 - categorical_accuracy: 0.9199 - val_loss: 0.0110 - val_categorical_accuracy: 0.9255\n"
          ]
        },
        {
          "output_type": "stream",
          "name": "stderr",
          "text": [
            "\r 20%|██        | 20/100 [03:10<13:06,  9.83s/it]"
          ]
        },
        {
          "output_type": "stream",
          "name": "stdout",
          "text": [
            "66/66 [==============================] - 8s 115ms/step - loss: 0.0112 - categorical_accuracy: 0.9241 - val_loss: 0.0112 - val_categorical_accuracy: 0.9227\n"
          ]
        },
        {
          "output_type": "stream",
          "name": "stderr",
          "text": [
            "\r 21%|██        | 21/100 [03:18<12:22,  9.40s/it]"
          ]
        },
        {
          "output_type": "stream",
          "name": "stdout",
          "text": [
            "66/66 [==============================] - 7s 110ms/step - loss: 0.0110 - categorical_accuracy: 0.9248 - val_loss: 0.0105 - val_categorical_accuracy: 0.9301\n"
          ]
        },
        {
          "output_type": "stream",
          "name": "stderr",
          "text": [
            "\r 22%|██▏       | 22/100 [03:29<12:55,  9.95s/it]"
          ]
        },
        {
          "output_type": "stream",
          "name": "stdout",
          "text": [
            "66/66 [==============================] - 7s 110ms/step - loss: 0.0108 - categorical_accuracy: 0.9258 - val_loss: 0.0107 - val_categorical_accuracy: 0.9284\n"
          ]
        },
        {
          "output_type": "stream",
          "name": "stderr",
          "text": [
            "\r 23%|██▎       | 23/100 [03:41<13:17, 10.36s/it]"
          ]
        },
        {
          "output_type": "stream",
          "name": "stdout",
          "text": [
            "66/66 [==============================] - 7s 111ms/step - loss: 0.0106 - categorical_accuracy: 0.9277 - val_loss: 0.0103 - val_categorical_accuracy: 0.9307\n"
          ]
        },
        {
          "output_type": "stream",
          "name": "stderr",
          "text": [
            "\r 24%|██▍       | 24/100 [03:52<13:29, 10.66s/it]"
          ]
        },
        {
          "output_type": "stream",
          "name": "stdout",
          "text": [
            "66/66 [==============================] - 7s 111ms/step - loss: 0.0105 - categorical_accuracy: 0.9281 - val_loss: 0.0099 - val_categorical_accuracy: 0.9333\n"
          ]
        },
        {
          "output_type": "stream",
          "name": "stderr",
          "text": [
            "\r 25%|██▌       | 25/100 [04:01<12:31, 10.02s/it]"
          ]
        },
        {
          "output_type": "stream",
          "name": "stdout",
          "text": [
            "66/66 [==============================] - 7s 111ms/step - loss: 0.0104 - categorical_accuracy: 0.9285 - val_loss: 0.0100 - val_categorical_accuracy: 0.9297\n"
          ]
        },
        {
          "output_type": "stream",
          "name": "stderr",
          "text": [
            "\r 26%|██▌       | 26/100 [04:09<11:39,  9.46s/it]"
          ]
        },
        {
          "output_type": "stream",
          "name": "stdout",
          "text": [
            "66/66 [==============================] - 8s 116ms/step - loss: 0.0102 - categorical_accuracy: 0.9303 - val_loss: 0.0092 - val_categorical_accuracy: 0.9385\n"
          ]
        },
        {
          "output_type": "stream",
          "name": "stderr",
          "text": [
            "\r 27%|██▋       | 27/100 [04:17<11:06,  9.13s/it]"
          ]
        },
        {
          "output_type": "stream",
          "name": "stdout",
          "text": [
            "66/66 [==============================] - 7s 110ms/step - loss: 0.0099 - categorical_accuracy: 0.9318 - val_loss: 0.0092 - val_categorical_accuracy: 0.9359\n"
          ]
        },
        {
          "output_type": "stream",
          "name": "stderr",
          "text": [
            "\r 28%|██▊       | 28/100 [04:25<10:38,  8.86s/it]"
          ]
        },
        {
          "output_type": "stream",
          "name": "stdout",
          "text": [
            "66/66 [==============================] - 7s 111ms/step - loss: 0.0099 - categorical_accuracy: 0.9331 - val_loss: 0.0091 - val_categorical_accuracy: 0.9389\n"
          ]
        },
        {
          "output_type": "stream",
          "name": "stderr",
          "text": [
            "\r 29%|██▉       | 29/100 [04:33<10:11,  8.62s/it]"
          ]
        },
        {
          "output_type": "stream",
          "name": "stdout",
          "text": [
            "66/66 [==============================] - 7s 111ms/step - loss: 0.0097 - categorical_accuracy: 0.9343 - val_loss: 0.0094 - val_categorical_accuracy: 0.9348\n"
          ]
        },
        {
          "output_type": "stream",
          "name": "stderr",
          "text": [
            "\r 30%|███       | 30/100 [04:44<10:54,  9.34s/it]"
          ]
        },
        {
          "output_type": "stream",
          "name": "stdout",
          "text": [
            "66/66 [==============================] - 8s 114ms/step - loss: 0.0097 - categorical_accuracy: 0.9337 - val_loss: 0.0097 - val_categorical_accuracy: 0.9340\n"
          ]
        },
        {
          "output_type": "stream",
          "name": "stderr",
          "text": [
            "\r 31%|███       | 31/100 [04:55<11:19,  9.85s/it]"
          ]
        },
        {
          "output_type": "stream",
          "name": "stdout",
          "text": [
            "66/66 [==============================] - 7s 110ms/step - loss: 0.0096 - categorical_accuracy: 0.9341 - val_loss: 0.0086 - val_categorical_accuracy: 0.9406\n"
          ]
        },
        {
          "output_type": "stream",
          "name": "stderr",
          "text": [
            "\r 32%|███▏      | 32/100 [05:04<10:34,  9.34s/it]"
          ]
        },
        {
          "output_type": "stream",
          "name": "stdout",
          "text": [
            "66/66 [==============================] - 7s 110ms/step - loss: 0.0093 - categorical_accuracy: 0.9368 - val_loss: 0.0090 - val_categorical_accuracy: 0.9404\n"
          ]
        },
        {
          "output_type": "stream",
          "name": "stderr",
          "text": [
            "\r 33%|███▎      | 33/100 [05:15<11:06,  9.95s/it]"
          ]
        },
        {
          "output_type": "stream",
          "name": "stdout",
          "text": [
            "66/66 [==============================] - 7s 111ms/step - loss: 0.0093 - categorical_accuracy: 0.9378 - val_loss: 0.0085 - val_categorical_accuracy: 0.9438\n"
          ]
        },
        {
          "output_type": "stream",
          "name": "stderr",
          "text": [
            "\r 34%|███▍      | 34/100 [05:26<11:23, 10.35s/it]"
          ]
        },
        {
          "output_type": "stream",
          "name": "stdout",
          "text": [
            "66/66 [==============================] - 7s 111ms/step - loss: 0.0092 - categorical_accuracy: 0.9377 - val_loss: 0.0088 - val_categorical_accuracy: 0.9412\n"
          ]
        },
        {
          "output_type": "stream",
          "name": "stderr",
          "text": [
            "\r 35%|███▌      | 35/100 [05:34<10:29,  9.69s/it]"
          ]
        },
        {
          "output_type": "stream",
          "name": "stdout",
          "text": [
            "66/66 [==============================] - 7s 111ms/step - loss: 0.0091 - categorical_accuracy: 0.9396 - val_loss: 0.0088 - val_categorical_accuracy: 0.9414\n"
          ]
        },
        {
          "output_type": "stream",
          "name": "stderr",
          "text": [
            "\r 36%|███▌      | 36/100 [05:42<09:49,  9.21s/it]"
          ]
        },
        {
          "output_type": "stream",
          "name": "stdout",
          "text": [
            "66/66 [==============================] - 7s 111ms/step - loss: 0.0091 - categorical_accuracy: 0.9390 - val_loss: 0.0088 - val_categorical_accuracy: 0.9425\n"
          ]
        },
        {
          "output_type": "stream",
          "name": "stderr",
          "text": [
            "\r 37%|███▋      | 37/100 [05:51<09:20,  8.89s/it]"
          ]
        },
        {
          "output_type": "stream",
          "name": "stdout",
          "text": [
            "66/66 [==============================] - 7s 111ms/step - loss: 0.0088 - categorical_accuracy: 0.9409 - val_loss: 0.0090 - val_categorical_accuracy: 0.9395\n"
          ]
        },
        {
          "output_type": "stream",
          "name": "stderr",
          "text": [
            "\r 38%|███▊      | 38/100 [05:59<09:00,  8.71s/it]"
          ]
        },
        {
          "output_type": "stream",
          "name": "stdout",
          "text": [
            "66/66 [==============================] - 7s 110ms/step - loss: 0.0088 - categorical_accuracy: 0.9400 - val_loss: 0.0085 - val_categorical_accuracy: 0.9423\n"
          ]
        },
        {
          "output_type": "stream",
          "name": "stderr",
          "text": [
            "\r 39%|███▉      | 39/100 [06:07<08:38,  8.51s/it]"
          ]
        },
        {
          "output_type": "stream",
          "name": "stdout",
          "text": [
            "66/66 [==============================] - 8s 114ms/step - loss: 0.0087 - categorical_accuracy: 0.9419 - val_loss: 0.0085 - val_categorical_accuracy: 0.9455\n"
          ]
        },
        {
          "output_type": "stream",
          "name": "stderr",
          "text": [
            "\r 40%|████      | 40/100 [06:15<08:27,  8.45s/it]"
          ]
        },
        {
          "output_type": "stream",
          "name": "stdout",
          "text": [
            "66/66 [==============================] - 8s 114ms/step - loss: 0.0087 - categorical_accuracy: 0.9415 - val_loss: 0.0085 - val_categorical_accuracy: 0.9425\n"
          ]
        },
        {
          "output_type": "stream",
          "name": "stderr",
          "text": [
            "\r 41%|████      | 41/100 [06:24<08:22,  8.52s/it]"
          ]
        },
        {
          "output_type": "stream",
          "name": "stdout",
          "text": [
            "66/66 [==============================] - 7s 110ms/step - loss: 0.0084 - categorical_accuracy: 0.9439 - val_loss: 0.0081 - val_categorical_accuracy: 0.9465\n"
          ]
        },
        {
          "output_type": "stream",
          "name": "stderr",
          "text": [
            "\r 42%|████▏     | 42/100 [06:35<08:57,  9.26s/it]"
          ]
        },
        {
          "output_type": "stream",
          "name": "stdout",
          "text": [
            "66/66 [==============================] - 8s 114ms/step - loss: 0.0084 - categorical_accuracy: 0.9444 - val_loss: 0.0081 - val_categorical_accuracy: 0.9482\n"
          ]
        },
        {
          "output_type": "stream",
          "name": "stderr",
          "text": [
            "\r 43%|████▎     | 43/100 [06:46<09:17,  9.78s/it]"
          ]
        },
        {
          "output_type": "stream",
          "name": "stdout",
          "text": [
            "66/66 [==============================] - 7s 110ms/step - loss: 0.0084 - categorical_accuracy: 0.9433 - val_loss: 0.0080 - val_categorical_accuracy: 0.9453\n"
          ]
        },
        {
          "output_type": "stream",
          "name": "stderr",
          "text": [
            "\r 44%|████▍     | 44/100 [06:57<09:28, 10.14s/it]"
          ]
        },
        {
          "output_type": "stream",
          "name": "stdout",
          "text": [
            "66/66 [==============================] - 7s 111ms/step - loss: 0.0083 - categorical_accuracy: 0.9446 - val_loss: 0.0086 - val_categorical_accuracy: 0.9411\n"
          ]
        },
        {
          "output_type": "stream",
          "name": "stderr",
          "text": [
            "\r 45%|████▌     | 45/100 [07:08<09:32, 10.40s/it]"
          ]
        },
        {
          "output_type": "stream",
          "name": "stdout",
          "text": [
            "66/66 [==============================] - 7s 112ms/step - loss: 0.0083 - categorical_accuracy: 0.9437 - val_loss: 0.0078 - val_categorical_accuracy: 0.9476\n"
          ]
        },
        {
          "output_type": "stream",
          "name": "stderr",
          "text": [
            "\r 46%|████▌     | 46/100 [07:19<09:31, 10.59s/it]"
          ]
        },
        {
          "output_type": "stream",
          "name": "stdout",
          "text": [
            "66/66 [==============================] - 7s 110ms/step - loss: 0.0082 - categorical_accuracy: 0.9452 - val_loss: 0.0084 - val_categorical_accuracy: 0.9425\n"
          ]
        },
        {
          "output_type": "stream",
          "name": "stderr",
          "text": [
            "\r 47%|████▋     | 47/100 [07:30<09:28, 10.72s/it]"
          ]
        },
        {
          "output_type": "stream",
          "name": "stdout",
          "text": [
            "66/66 [==============================] - 8s 115ms/step - loss: 0.0080 - categorical_accuracy: 0.9465 - val_loss: 0.0078 - val_categorical_accuracy: 0.9487\n"
          ]
        },
        {
          "output_type": "stream",
          "name": "stderr",
          "text": [
            "\r 48%|████▊     | 48/100 [07:41<09:21, 10.80s/it]"
          ]
        },
        {
          "output_type": "stream",
          "name": "stdout",
          "text": [
            "66/66 [==============================] - 7s 110ms/step - loss: 0.0080 - categorical_accuracy: 0.9463 - val_loss: 0.0081 - val_categorical_accuracy: 0.9468\n"
          ]
        },
        {
          "output_type": "stream",
          "name": "stderr",
          "text": [
            "\r 49%|████▉     | 49/100 [07:49<08:28,  9.98s/it]"
          ]
        },
        {
          "output_type": "stream",
          "name": "stdout",
          "text": [
            "66/66 [==============================] - 7s 110ms/step - loss: 0.0080 - categorical_accuracy: 0.9470 - val_loss: 0.0080 - val_categorical_accuracy: 0.9470\n"
          ]
        },
        {
          "output_type": "stream",
          "name": "stderr",
          "text": [
            "\r 50%|█████     | 50/100 [08:00<08:38, 10.38s/it]"
          ]
        },
        {
          "output_type": "stream",
          "name": "stdout",
          "text": [
            "66/66 [==============================] - 7s 110ms/step - loss: 0.0080 - categorical_accuracy: 0.9462 - val_loss: 0.0080 - val_categorical_accuracy: 0.9488\n"
          ]
        },
        {
          "output_type": "stream",
          "name": "stderr",
          "text": [
            "\r 51%|█████     | 51/100 [08:11<08:37, 10.56s/it]"
          ]
        },
        {
          "output_type": "stream",
          "name": "stdout",
          "text": [
            "66/66 [==============================] - 7s 110ms/step - loss: 0.0078 - categorical_accuracy: 0.9483 - val_loss: 0.0075 - val_categorical_accuracy: 0.9516\n"
          ]
        },
        {
          "output_type": "stream",
          "name": "stderr",
          "text": [
            "\r 52%|█████▏    | 52/100 [08:19<07:52,  9.85s/it]"
          ]
        },
        {
          "output_type": "stream",
          "name": "stdout",
          "text": [
            "66/66 [==============================] - 7s 110ms/step - loss: 0.0078 - categorical_accuracy: 0.9487 - val_loss: 0.0078 - val_categorical_accuracy: 0.9490\n"
          ]
        },
        {
          "output_type": "stream",
          "name": "stderr",
          "text": [
            "\r 53%|█████▎    | 53/100 [08:28<07:18,  9.33s/it]"
          ]
        },
        {
          "output_type": "stream",
          "name": "stdout",
          "text": [
            "66/66 [==============================] - 8s 115ms/step - loss: 0.0078 - categorical_accuracy: 0.9485 - val_loss: 0.0080 - val_categorical_accuracy: 0.9455\n"
          ]
        },
        {
          "output_type": "stream",
          "name": "stderr",
          "text": [
            "\r 54%|█████▍    | 54/100 [08:39<07:32,  9.83s/it]"
          ]
        },
        {
          "output_type": "stream",
          "name": "stdout",
          "text": [
            "66/66 [==============================] - 7s 110ms/step - loss: 0.0076 - categorical_accuracy: 0.9495 - val_loss: 0.0083 - val_categorical_accuracy: 0.9434\n"
          ]
        },
        {
          "output_type": "stream",
          "name": "stderr",
          "text": [
            "\r 55%|█████▌    | 55/100 [08:47<06:58,  9.30s/it]"
          ]
        },
        {
          "output_type": "stream",
          "name": "stdout",
          "text": [
            "66/66 [==============================] - 7s 110ms/step - loss: 0.0077 - categorical_accuracy: 0.9484 - val_loss: 0.0080 - val_categorical_accuracy: 0.9485\n"
          ]
        },
        {
          "output_type": "stream",
          "name": "stderr",
          "text": [
            "\r 56%|█████▌    | 56/100 [08:58<07:11,  9.81s/it]"
          ]
        },
        {
          "output_type": "stream",
          "name": "stdout",
          "text": [
            "66/66 [==============================] - 7s 109ms/step - loss: 0.0075 - categorical_accuracy: 0.9504 - val_loss: 0.0077 - val_categorical_accuracy: 0.9478\n"
          ]
        },
        {
          "output_type": "stream",
          "name": "stderr",
          "text": [
            "\r 57%|█████▋    | 57/100 [09:06<06:39,  9.29s/it]"
          ]
        },
        {
          "output_type": "stream",
          "name": "stdout",
          "text": [
            "66/66 [==============================] - 7s 110ms/step - loss: 0.0075 - categorical_accuracy: 0.9490 - val_loss: 0.0076 - val_categorical_accuracy: 0.9495\n"
          ]
        },
        {
          "output_type": "stream",
          "name": "stderr",
          "text": [
            "\r 58%|█████▊    | 58/100 [09:17<06:51,  9.80s/it]"
          ]
        },
        {
          "output_type": "stream",
          "name": "stdout",
          "text": [
            "66/66 [==============================] - 8s 114ms/step - loss: 0.0075 - categorical_accuracy: 0.9502 - val_loss: 0.0082 - val_categorical_accuracy: 0.9446\n"
          ]
        },
        {
          "output_type": "stream",
          "name": "stderr",
          "text": [
            "\r 59%|█████▉    | 59/100 [09:25<06:23,  9.36s/it]"
          ]
        },
        {
          "output_type": "stream",
          "name": "stdout",
          "text": [
            "66/66 [==============================] - 7s 110ms/step - loss: 0.0075 - categorical_accuracy: 0.9498 - val_loss: 0.0073 - val_categorical_accuracy: 0.9529\n"
          ]
        },
        {
          "output_type": "stream",
          "name": "stderr",
          "text": [
            "\r 60%|██████    | 60/100 [09:33<06:01,  9.03s/it]"
          ]
        },
        {
          "output_type": "stream",
          "name": "stdout",
          "text": [
            "66/66 [==============================] - 7s 110ms/step - loss: 0.0074 - categorical_accuracy: 0.9499 - val_loss: 0.0076 - val_categorical_accuracy: 0.9500\n"
          ]
        },
        {
          "output_type": "stream",
          "name": "stderr",
          "text": [
            "\r 61%|██████    | 61/100 [09:41<05:40,  8.72s/it]"
          ]
        },
        {
          "output_type": "stream",
          "name": "stdout",
          "text": [
            "66/66 [==============================] - 8s 115ms/step - loss: 0.0073 - categorical_accuracy: 0.9515 - val_loss: 0.0082 - val_categorical_accuracy: 0.9453\n"
          ]
        },
        {
          "output_type": "stream",
          "name": "stderr",
          "text": [
            "\r 62%|██████▏   | 62/100 [09:52<05:57,  9.41s/it]"
          ]
        },
        {
          "output_type": "stream",
          "name": "stdout",
          "text": [
            "66/66 [==============================] - 7s 111ms/step - loss: 0.0073 - categorical_accuracy: 0.9511 - val_loss: 0.0075 - val_categorical_accuracy: 0.9493\n"
          ]
        },
        {
          "output_type": "stream",
          "name": "stderr",
          "text": [
            "\r 63%|██████▎   | 63/100 [10:03<06:06,  9.90s/it]"
          ]
        },
        {
          "output_type": "stream",
          "name": "stdout",
          "text": [
            "66/66 [==============================] - 7s 111ms/step - loss: 0.0072 - categorical_accuracy: 0.9518 - val_loss: 0.0078 - val_categorical_accuracy: 0.9484\n"
          ]
        },
        {
          "output_type": "stream",
          "name": "stderr",
          "text": [
            "\r 64%|██████▍   | 64/100 [10:12<05:37,  9.38s/it]"
          ]
        },
        {
          "output_type": "stream",
          "name": "stdout",
          "text": [
            "66/66 [==============================] - 7s 110ms/step - loss: 0.0073 - categorical_accuracy: 0.9511 - val_loss: 0.0074 - val_categorical_accuracy: 0.9507\n"
          ]
        },
        {
          "output_type": "stream",
          "name": "stderr",
          "text": [
            "\r 65%|██████▌   | 65/100 [10:23<05:49,  9.99s/it]"
          ]
        },
        {
          "output_type": "stream",
          "name": "stdout",
          "text": [
            "66/66 [==============================] - 7s 110ms/step - loss: 0.0072 - categorical_accuracy: 0.9520 - val_loss: 0.0075 - val_categorical_accuracy: 0.9494\n"
          ]
        },
        {
          "output_type": "stream",
          "name": "stderr",
          "text": [
            "\r 66%|██████▌   | 66/100 [10:31<05:23,  9.52s/it]"
          ]
        },
        {
          "output_type": "stream",
          "name": "stdout",
          "text": [
            "66/66 [==============================] - 7s 111ms/step - loss: 0.0070 - categorical_accuracy: 0.9541 - val_loss: 0.0075 - val_categorical_accuracy: 0.9515\n"
          ]
        },
        {
          "output_type": "stream",
          "name": "stderr",
          "text": [
            "\r 67%|██████▋   | 67/100 [10:42<05:29,  9.98s/it]"
          ]
        },
        {
          "output_type": "stream",
          "name": "stdout",
          "text": [
            "66/66 [==============================] - 7s 111ms/step - loss: 0.0071 - categorical_accuracy: 0.9529 - val_loss: 0.0075 - val_categorical_accuracy: 0.9485\n"
          ]
        },
        {
          "output_type": "stream",
          "name": "stderr",
          "text": [
            "\r 68%|██████▊   | 68/100 [10:54<05:30, 10.33s/it]"
          ]
        },
        {
          "output_type": "stream",
          "name": "stdout",
          "text": [
            "66/66 [==============================] - 8s 115ms/step - loss: 0.0070 - categorical_accuracy: 0.9541 - val_loss: 0.0070 - val_categorical_accuracy: 0.9531\n"
          ]
        },
        {
          "output_type": "stream",
          "name": "stderr",
          "text": [
            "\r 69%|██████▉   | 69/100 [11:05<05:26, 10.54s/it]"
          ]
        },
        {
          "output_type": "stream",
          "name": "stdout",
          "text": [
            "66/66 [==============================] - 7s 111ms/step - loss: 0.0069 - categorical_accuracy: 0.9543 - val_loss: 0.0070 - val_categorical_accuracy: 0.9532\n"
          ]
        },
        {
          "output_type": "stream",
          "name": "stderr",
          "text": [
            "\r 70%|███████   | 70/100 [11:13<04:54,  9.83s/it]"
          ]
        },
        {
          "output_type": "stream",
          "name": "stdout",
          "text": [
            "66/66 [==============================] - 7s 111ms/step - loss: 0.0071 - categorical_accuracy: 0.9528 - val_loss: 0.0072 - val_categorical_accuracy: 0.9526\n"
          ]
        },
        {
          "output_type": "stream",
          "name": "stderr",
          "text": [
            "\r 71%|███████   | 71/100 [11:21<04:33,  9.43s/it]"
          ]
        },
        {
          "output_type": "stream",
          "name": "stdout",
          "text": [
            "66/66 [==============================] - 7s 110ms/step - loss: 0.0070 - categorical_accuracy: 0.9528 - val_loss: 0.0075 - val_categorical_accuracy: 0.9512\n"
          ]
        },
        {
          "output_type": "stream",
          "name": "stderr",
          "text": [
            "\r 72%|███████▏  | 72/100 [11:32<04:37,  9.92s/it]"
          ]
        },
        {
          "output_type": "stream",
          "name": "stdout",
          "text": [
            "66/66 [==============================] - 7s 110ms/step - loss: 0.0069 - categorical_accuracy: 0.9541 - val_loss: 0.0075 - val_categorical_accuracy: 0.9505\n"
          ]
        },
        {
          "output_type": "stream",
          "name": "stderr",
          "text": [
            "\r 73%|███████▎  | 73/100 [11:41<04:13,  9.40s/it]"
          ]
        },
        {
          "output_type": "stream",
          "name": "stdout",
          "text": [
            "66/66 [==============================] - 8s 116ms/step - loss: 0.0071 - categorical_accuracy: 0.9531 - val_loss: 0.0070 - val_categorical_accuracy: 0.9534\n"
          ]
        },
        {
          "output_type": "stream",
          "name": "stderr",
          "text": [
            "\r 74%|███████▍  | 74/100 [11:52<04:17,  9.90s/it]"
          ]
        },
        {
          "output_type": "stream",
          "name": "stdout",
          "text": [
            "66/66 [==============================] - 7s 110ms/step - loss: 0.0069 - categorical_accuracy: 0.9546 - val_loss: 0.0071 - val_categorical_accuracy: 0.9535\n"
          ]
        },
        {
          "output_type": "stream",
          "name": "stderr",
          "text": [
            "\r 75%|███████▌  | 75/100 [12:03<04:16, 10.27s/it]"
          ]
        },
        {
          "output_type": "stream",
          "name": "stdout",
          "text": [
            "66/66 [==============================] - 7s 110ms/step - loss: 0.0069 - categorical_accuracy: 0.9544 - val_loss: 0.0066 - val_categorical_accuracy: 0.9552\n"
          ]
        },
        {
          "output_type": "stream",
          "name": "stderr",
          "text": [
            "\r 76%|███████▌  | 76/100 [12:11<03:51,  9.63s/it]"
          ]
        },
        {
          "output_type": "stream",
          "name": "stdout",
          "text": [
            "66/66 [==============================] - 7s 111ms/step - loss: 0.0067 - categorical_accuracy: 0.9550 - val_loss: 0.0074 - val_categorical_accuracy: 0.9516\n"
          ]
        },
        {
          "output_type": "stream",
          "name": "stderr",
          "text": [
            "\r 77%|███████▋  | 77/100 [12:22<03:53, 10.14s/it]"
          ]
        },
        {
          "output_type": "stream",
          "name": "stdout",
          "text": [
            "66/66 [==============================] - 7s 110ms/step - loss: 0.0066 - categorical_accuracy: 0.9568 - val_loss: 0.0072 - val_categorical_accuracy: 0.9507\n"
          ]
        },
        {
          "output_type": "stream",
          "name": "stderr",
          "text": [
            "\r 78%|███████▊  | 78/100 [12:33<03:49, 10.43s/it]"
          ]
        },
        {
          "output_type": "stream",
          "name": "stdout",
          "text": [
            "66/66 [==============================] - 8s 115ms/step - loss: 0.0067 - categorical_accuracy: 0.9556 - val_loss: 0.0068 - val_categorical_accuracy: 0.9548\n"
          ]
        },
        {
          "output_type": "stream",
          "name": "stderr",
          "text": [
            "\r 79%|███████▉  | 79/100 [12:44<03:43, 10.63s/it]"
          ]
        },
        {
          "output_type": "stream",
          "name": "stdout",
          "text": [
            "66/66 [==============================] - 7s 111ms/step - loss: 0.0067 - categorical_accuracy: 0.9554 - val_loss: 0.0068 - val_categorical_accuracy: 0.9547\n"
          ]
        },
        {
          "output_type": "stream",
          "name": "stderr",
          "text": [
            "\r 80%|████████  | 80/100 [12:55<03:35, 10.76s/it]"
          ]
        },
        {
          "output_type": "stream",
          "name": "stdout",
          "text": [
            "66/66 [==============================] - 7s 111ms/step - loss: 0.0067 - categorical_accuracy: 0.9554 - val_loss: 0.0072 - val_categorical_accuracy: 0.9504\n"
          ]
        },
        {
          "output_type": "stream",
          "name": "stderr",
          "text": [
            "\r 81%|████████  | 81/100 [13:07<03:26, 10.85s/it]"
          ]
        },
        {
          "output_type": "stream",
          "name": "stdout",
          "text": [
            "66/66 [==============================] - 7s 111ms/step - loss: 0.0067 - categorical_accuracy: 0.9547 - val_loss: 0.0068 - val_categorical_accuracy: 0.9563\n"
          ]
        },
        {
          "output_type": "stream",
          "name": "stderr",
          "text": [
            "\r 82%|████████▏ | 82/100 [13:15<03:00, 10.05s/it]"
          ]
        },
        {
          "output_type": "stream",
          "name": "stdout",
          "text": [
            "66/66 [==============================] - 7s 111ms/step - loss: 0.0065 - categorical_accuracy: 0.9564 - val_loss: 0.0069 - val_categorical_accuracy: 0.9551\n"
          ]
        },
        {
          "output_type": "stream",
          "name": "stderr",
          "text": [
            "\r 83%|████████▎ | 83/100 [13:26<02:55, 10.35s/it]"
          ]
        },
        {
          "output_type": "stream",
          "name": "stdout",
          "text": [
            "66/66 [==============================] - 7s 111ms/step - loss: 0.0065 - categorical_accuracy: 0.9574 - val_loss: 0.0072 - val_categorical_accuracy: 0.9535\n"
          ]
        },
        {
          "output_type": "stream",
          "name": "stderr",
          "text": [
            "\r 84%|████████▍ | 84/100 [13:37<02:48, 10.56s/it]"
          ]
        },
        {
          "output_type": "stream",
          "name": "stdout",
          "text": [
            "66/66 [==============================] - 8s 115ms/step - loss: 0.0067 - categorical_accuracy: 0.9555 - val_loss: 0.0069 - val_categorical_accuracy: 0.9552\n"
          ]
        },
        {
          "output_type": "stream",
          "name": "stderr",
          "text": [
            "\r 85%|████████▌ | 85/100 [13:45<02:29,  9.94s/it]"
          ]
        },
        {
          "output_type": "stream",
          "name": "stdout",
          "text": [
            "66/66 [==============================] - 7s 110ms/step - loss: 0.0066 - categorical_accuracy: 0.9563 - val_loss: 0.0069 - val_categorical_accuracy: 0.9546\n"
          ]
        },
        {
          "output_type": "stream",
          "name": "stderr",
          "text": [
            "\r 86%|████████▌ | 86/100 [13:56<02:24, 10.29s/it]"
          ]
        },
        {
          "output_type": "stream",
          "name": "stdout",
          "text": [
            "66/66 [==============================] - 7s 110ms/step - loss: 0.0065 - categorical_accuracy: 0.9575 - val_loss: 0.0069 - val_categorical_accuracy: 0.9553\n"
          ]
        },
        {
          "output_type": "stream",
          "name": "stderr",
          "text": [
            "\r 87%|████████▋ | 87/100 [14:05<02:05,  9.65s/it]"
          ]
        },
        {
          "output_type": "stream",
          "name": "stdout",
          "text": [
            "66/66 [==============================] - 7s 111ms/step - loss: 0.0064 - categorical_accuracy: 0.9578 - val_loss: 0.0069 - val_categorical_accuracy: 0.9549\n"
          ]
        },
        {
          "output_type": "stream",
          "name": "stderr",
          "text": [
            "\r 88%|████████▊ | 88/100 [14:16<02:00, 10.08s/it]"
          ]
        },
        {
          "output_type": "stream",
          "name": "stdout",
          "text": [
            "66/66 [==============================] - 7s 110ms/step - loss: 0.0065 - categorical_accuracy: 0.9576 - val_loss: 0.0069 - val_categorical_accuracy: 0.9545\n"
          ]
        },
        {
          "output_type": "stream",
          "name": "stderr",
          "text": [
            "\r 89%|████████▉ | 89/100 [14:27<01:54, 10.37s/it]"
          ]
        },
        {
          "output_type": "stream",
          "name": "stdout",
          "text": [
            "66/66 [==============================] - 7s 110ms/step - loss: 0.0065 - categorical_accuracy: 0.9565 - val_loss: 0.0072 - val_categorical_accuracy: 0.9526\n"
          ]
        },
        {
          "output_type": "stream",
          "name": "stderr",
          "text": [
            "\r 90%|█████████ | 90/100 [14:38<01:45, 10.58s/it]"
          ]
        },
        {
          "output_type": "stream",
          "name": "stdout",
          "text": [
            "66/66 [==============================] - 8s 115ms/step - loss: 0.0065 - categorical_accuracy: 0.9576 - val_loss: 0.0070 - val_categorical_accuracy: 0.9526\n"
          ]
        },
        {
          "output_type": "stream",
          "name": "stderr",
          "text": [
            "\r 91%|█████████ | 91/100 [14:49<01:36, 10.73s/it]"
          ]
        },
        {
          "output_type": "stream",
          "name": "stdout",
          "text": [
            "66/66 [==============================] - 8s 115ms/step - loss: 0.0064 - categorical_accuracy: 0.9578 - val_loss: 0.0065 - val_categorical_accuracy: 0.9587\n"
          ]
        },
        {
          "output_type": "stream",
          "name": "stderr",
          "text": [
            "\r 92%|█████████▏| 92/100 [14:57<01:20, 10.03s/it]"
          ]
        },
        {
          "output_type": "stream",
          "name": "stdout",
          "text": [
            "66/66 [==============================] - 7s 110ms/step - loss: 0.0063 - categorical_accuracy: 0.9588 - val_loss: 0.0068 - val_categorical_accuracy: 0.9557\n"
          ]
        },
        {
          "output_type": "stream",
          "name": "stderr",
          "text": [
            "\r 93%|█████████▎| 93/100 [15:06<01:06,  9.54s/it]"
          ]
        },
        {
          "output_type": "stream",
          "name": "stdout",
          "text": [
            "66/66 [==============================] - 7s 111ms/step - loss: 0.0063 - categorical_accuracy: 0.9581 - val_loss: 0.0068 - val_categorical_accuracy: 0.9541\n"
          ]
        },
        {
          "output_type": "stream",
          "name": "stderr",
          "text": [
            "\r 94%|█████████▍| 94/100 [15:14<00:54,  9.10s/it]"
          ]
        },
        {
          "output_type": "stream",
          "name": "stdout",
          "text": [
            "66/66 [==============================] - 7s 111ms/step - loss: 0.0062 - categorical_accuracy: 0.9590 - val_loss: 0.0067 - val_categorical_accuracy: 0.9555\n"
          ]
        },
        {
          "output_type": "stream",
          "name": "stderr",
          "text": [
            "\r 95%|█████████▌| 95/100 [15:22<00:43,  8.79s/it]"
          ]
        },
        {
          "output_type": "stream",
          "name": "stdout",
          "text": [
            "66/66 [==============================] - 7s 109ms/step - loss: 0.0062 - categorical_accuracy: 0.9580 - val_loss: 0.0067 - val_categorical_accuracy: 0.9552\n"
          ]
        },
        {
          "output_type": "stream",
          "name": "stderr",
          "text": [
            "\r 96%|█████████▌| 96/100 [15:30<00:34,  8.66s/it]"
          ]
        },
        {
          "output_type": "stream",
          "name": "stdout",
          "text": [
            "66/66 [==============================] - 7s 109ms/step - loss: 0.0063 - categorical_accuracy: 0.9591 - val_loss: 0.0066 - val_categorical_accuracy: 0.9560\n"
          ]
        },
        {
          "output_type": "stream",
          "name": "stderr",
          "text": [
            "\r 97%|█████████▋| 97/100 [15:38<00:25,  8.45s/it]"
          ]
        },
        {
          "output_type": "stream",
          "name": "stdout",
          "text": [
            "66/66 [==============================] - 7s 108ms/step - loss: 0.0062 - categorical_accuracy: 0.9594 - val_loss: 0.0072 - val_categorical_accuracy: 0.9538\n"
          ]
        },
        {
          "output_type": "stream",
          "name": "stderr",
          "text": [
            "\r 98%|█████████▊| 98/100 [15:49<00:18,  9.22s/it]"
          ]
        },
        {
          "output_type": "stream",
          "name": "stdout",
          "text": [
            "66/66 [==============================] - 7s 112ms/step - loss: 0.0061 - categorical_accuracy: 0.9597 - val_loss: 0.0067 - val_categorical_accuracy: 0.9564\n"
          ]
        },
        {
          "output_type": "stream",
          "name": "stderr",
          "text": [
            "\r 99%|█████████▉| 99/100 [15:57<00:08,  8.92s/it]"
          ]
        },
        {
          "output_type": "stream",
          "name": "stdout",
          "text": [
            "66/66 [==============================] - 7s 108ms/step - loss: 0.0061 - categorical_accuracy: 0.9598 - val_loss: 0.0066 - val_categorical_accuracy: 0.9551\n"
          ]
        },
        {
          "output_type": "stream",
          "name": "stderr",
          "text": [
            "100%|██████████| 100/100 [16:06<00:00,  9.66s/it]\n"
          ]
        }
      ],
      "source": [
        "from tqdm import tqdm\n",
        "\n",
        "checkpoint_path = \"training_1/val_loss.ckpt\"\n",
        "checkpoint_dir = os.path.dirname(checkpoint_path)\n",
        "\n",
        "csv_logger = CSVLogger('training_log.csv', append=True)\n",
        "\n",
        "# Create a callback that saves the model's weights\n",
        "cp_callback = tf.keras.callbacks.ModelCheckpoint(filepath=checkpoint_path,\n",
        "                                                 monitor = 'val_loss',\n",
        "                                                 verbose=1)\n",
        "\n",
        "# Train the model with the new callback\n",
        "for i in tqdm(range(100)):\n",
        "\n",
        "\n",
        "  X,y = add_non_numbers(xmm, trainy_new)\n",
        "\n",
        "  for i in range((X.shape[0])//2):\n",
        "    add_lines(X[i])\n",
        "\n",
        "  X,y = shuffle(X,y)\n",
        "\n",
        "\n",
        "  X_val,y_val = add_non_numbers(xmm_val, testy_new)\n",
        "\n",
        "  for i in range((X_val.shape[0])//2):\n",
        "    add_lines(X_val[i])\n",
        "\n",
        "  X_val,y_val = shuffle(X_val,y_val)\n",
        "\n",
        "\n",
        "  model.fit(X,\n",
        "    y,\n",
        "    epochs=1,\n",
        "    batch_size = 1000,\n",
        "    validation_data=(X_val, y_val),\n",
        "    callbacks=[csv_logger])"
      ]
    },
    {
      "cell_type": "code",
      "execution_count": null,
      "metadata": {
        "id": "wCONjn1gUSLc"
      },
      "outputs": [],
      "source": [
        "logs = pd.read_csv('training_log.csv')"
      ]
    },
    {
      "cell_type": "code",
      "execution_count": null,
      "metadata": {
        "colab": {
          "base_uri": "https://localhost:8080/"
        },
        "id": "KybBmhkCUqF1",
        "outputId": "d36854df-ed35-4483-b83c-5752992320fd"
      },
      "outputs": [
        {
          "output_type": "execute_result",
          "data": {
            "text/plain": [
              "0.9587273001670836"
            ]
          },
          "metadata": {},
          "execution_count": 25
        }
      ],
      "source": [
        "logs['val_categorical_accuracy'].max()"
      ]
    },
    {
      "cell_type": "code",
      "execution_count": null,
      "metadata": {
        "colab": {
          "base_uri": "https://localhost:8080/",
          "height": 542
        },
        "id": "h_asKhiFPVca",
        "outputId": "cc9cb415-34b9-4464-ca70-05b34b1bd1c7"
      },
      "outputs": [
        {
          "output_type": "display_data",
          "data": {
            "text/plain": [
              "<Figure size 1000x600 with 1 Axes>"
            ],
            "image/png": "[encoded data removed]"
          },
          "metadata": {}
        }
      ],
      "source": [
        "plt.figure(figsize = (10,6))\n",
        "plt.plot(logs['val_categorical_accuracy'])\n",
        "plt.xlabel('Accuracy')\n",
        "plt.ylabel('Epochs')\n",
        "plt.show()"
      ]
    },
    {
      "cell_type": "code",
      "source": [
        "X_val,y_val = add_non_numbers(xmm_val, testy_new)\n",
        "\n",
        "for i in range((X_val.shape[0])//2):\n",
        "  add_lines(X_val[i])\n",
        "\n",
        "X_val,y_val = shuffle(X_val,y_val)"
      ],
      "metadata": {
        "id": "In0TP-b-J6XK"
      },
      "execution_count": null,
      "outputs": []
    },
    {
      "cell_type": "code",
      "execution_count": null,
      "metadata": {
        "colab": {
          "base_uri": "https://localhost:8080/"
        },
        "id": "FI1J926RPVca",
        "outputId": "a70b8c0b-fc38-44dd-f1f1-fd4b22d51fff"
      },
      "outputs": [
        {
          "output_type": "stream",
          "name": "stdout",
          "text": [
            "344/344 [==============================] - 1s 3ms/step - loss: 0.0064 - categorical_accuracy: 0.9572\n"
          ]
        },
        {
          "output_type": "execute_result",
          "data": {
            "text/plain": [
              "[0.006443821359425783, 0.9571818113327026]"
            ]
          },
          "metadata": {},
          "execution_count": 28
        }
      ],
      "source": [
        "model.evaluate(X_val, y_val)"
      ]
    },
    {
      "cell_type": "code",
      "source": [
        "prediction = model.predict(X_val)"
      ],
      "metadata": {
        "colab": {
          "base_uri": "https://localhost:8080/"
        },
        "id": "G09ZGQFEKEdh",
        "outputId": "45a40090-5c1a-47a3-d8a8-5a3286151d1c"
      },
      "execution_count": null,
      "outputs": [
        {
          "output_type": "stream",
          "name": "stdout",
          "text": [
            "344/344 [==============================] - 1s 2ms/step\n"
          ]
        }
      ]
    },
    {
      "cell_type": "code",
      "source": [
        "y_val"
      ],
      "metadata": {
        "colab": {
          "base_uri": "https://localhost:8080/"
        },
        "id": "OckAXCjoKbJy",
        "outputId": "0ef66080-1c2f-401a-dfc8-589dab3072b6"
      },
      "execution_count": null,
      "outputs": [
        {
          "output_type": "execute_result",
          "data": {
            "text/plain": [
              "array([[0., 0., 0., ..., 0., 0., 0.],\n",
              "       [0., 0., 0., ..., 0., 0., 0.],\n",
              "       [0., 0., 0., ..., 0., 0., 1.],\n",
              "       ...,\n",
              "       [1., 0., 0., ..., 0., 0., 0.],\n",
              "       [0., 0., 1., ..., 0., 0., 0.],\n",
              "       [0., 0., 1., ..., 0., 0., 0.]])"
            ]
          },
          "metadata": {},
          "execution_count": 30
        }
      ]
    },
    {
      "cell_type": "code",
      "source": [
        "plt.imshow(X_val[3][:10])"
      ],
      "metadata": {
        "colab": {
          "base_uri": "https://localhost:8080/",
          "height": 432
        },
        "id": "_v3oBcnClHcQ",
        "outputId": "e3eb7ee8-c785-4b27-9326-c0e2ed72eba2"
      },
      "execution_count": null,
      "outputs": [
        {
          "output_type": "execute_result",
          "data": {
            "text/plain": [
              "<matplotlib.image.AxesImage at 0x7f79341a3940>"
            ]
          },
          "metadata": {},
          "execution_count": 31
        },
        {
          "output_type": "display_data",
          "data": {
            "text/plain": [
              "<Figure size 640x480 with 1 Axes>"
            ],
            "image/png": "[encoded data removed]"
          },
          "metadata": {}
        }
      ]
    },
    {
      "cell_type": "code",
      "source": [
        "X_val[3]"
      ],
      "metadata": {
        "id": "Ih_jQOl9MBJJ",
        "colab": {
          "base_uri": "https://localhost:8080/"
        },
        "outputId": "1b2d0d22-b214-4b06-c6b1-3708619923b0"
      },
      "execution_count": null,
      "outputs": [
        {
          "output_type": "execute_result",
          "data": {
            "text/plain": [
              "array([[0.        , 0.        , 0.        , 0.        , 0.        ,\n",
              "        0.        , 0.        , 0.        , 0.        , 0.        ,\n",
              "        0.        , 0.        , 0.        , 0.        ],\n",
              "       [0.        , 0.        , 0.        , 0.        , 0.        ,\n",
              "        0.        , 0.        , 0.        , 0.        , 0.        ,\n",
              "        0.        , 0.        , 0.        , 0.        ],\n",
              "       [0.        , 0.15686275, 1.        , 0.99607843, 0.99607843,\n",
              "        0.39607843, 0.57254902, 0.20392157, 0.        , 0.        ,\n",
              "        0.        , 0.        , 0.        , 0.        ],\n",
              "       [0.        , 0.87058824, 0.99215686, 0.99215686, 0.99215686,\n",
              "        0.99215686, 0.99215686, 0.99215686, 0.99215686, 0.49803922,\n",
              "        0.        , 0.        , 0.        , 0.        ],\n",
              "       [0.        , 0.01176471, 0.62745098, 0.62745098, 0.62745098,\n",
              "        0.62745098, 0.6627451 , 0.99215686, 0.99215686, 0.99215686,\n",
              "        0.        , 0.        , 0.        , 0.        ],\n",
              "       [0.        , 0.        , 0.        , 0.        , 0.        ,\n",
              "        0.51372549, 0.99215686, 0.99215686, 0.99215686, 0.99215686,\n",
              "        0.        , 0.        , 0.        , 0.        ],\n",
              "       [0.        , 0.        , 0.        , 0.        , 0.        ,\n",
              "        0.51372549, 0.99215686, 0.99215686, 0.99215686, 0.51372549,\n",
              "        0.        , 0.        , 0.        , 0.        ],\n",
              "       [0.        , 0.        , 0.        , 0.        , 0.        ,\n",
              "        0.        , 0.50980392, 0.95686275, 0.99215686, 0.99215686,\n",
              "        0.43921569, 0.        , 0.        , 0.        ],\n",
              "       [0.        , 0.        , 0.        , 0.        , 0.        ,\n",
              "        0.        , 0.        , 0.        , 0.50588235, 0.99215686,\n",
              "        0.99215686, 0.55294118, 0.        , 0.        ],\n",
              "       [0.        , 0.        , 0.        , 0.        , 0.        ,\n",
              "        0.27843137, 0.        , 0.        , 0.        , 0.01176471,\n",
              "        0.99215686, 0.99215686, 0.        , 0.        ],\n",
              "       [0.        , 0.        , 0.        , 0.        , 0.3372549 ,\n",
              "        0.99215686, 0.99215686, 0.99215686, 0.99215686, 0.99215686,\n",
              "        0.99215686, 0.99215686, 0.        , 0.        ],\n",
              "       [0.        , 0.        , 0.        , 0.        , 0.19215686,\n",
              "        0.99215686, 0.99215686, 0.99215686, 0.99215686, 0.99215686,\n",
              "        0.99215686, 0.38823529, 0.        , 0.        ],\n",
              "       [0.        , 0.        , 0.        , 0.        , 0.        ,\n",
              "        0.20392157, 0.38823529, 0.38823529, 0.        , 0.        ,\n",
              "        0.        , 0.        , 0.        , 0.        ],\n",
              "       [0.        , 0.        , 0.        , 0.        , 0.        ,\n",
              "        0.        , 0.        , 0.        , 0.        , 0.        ,\n",
              "        0.        , 0.        , 0.        , 0.        ]])"
            ]
          },
          "metadata": {},
          "execution_count": 32
        }
      ]
    },
    {
      "cell_type": "code",
      "source": [
        "y_val[3]"
      ],
      "metadata": {
        "colab": {
          "base_uri": "https://localhost:8080/"
        },
        "id": "OvZ8ZDZ_lCT8",
        "outputId": "1835839c-88a7-4c38-dd9d-148110881e71"
      },
      "execution_count": null,
      "outputs": [
        {
          "output_type": "execute_result",
          "data": {
            "text/plain": [
              "array([0., 0., 0., 0., 1., 0., 0., 0., 0., 0., 0.])"
            ]
          },
          "metadata": {},
          "execution_count": 33
        }
      ]
    },
    {
      "cell_type": "code",
      "source": [
        "prediction[3]"
      ],
      "metadata": {
        "colab": {
          "base_uri": "https://localhost:8080/"
        },
        "id": "UA1gtQNBk7Zf",
        "outputId": "5d988bcc-2d04-4581-b511-891d95bb6218"
      },
      "execution_count": null,
      "outputs": [
        {
          "output_type": "execute_result",
          "data": {
            "text/plain": [
              "array([1.5367465e-07, 1.8514406e-07, 4.0961336e-04, 8.1041412e-07,\n",
              "       9.9999857e-01, 4.3933222e-05, 9.3637682e-06, 1.3104767e-06,\n",
              "       2.0965834e-05, 2.1127235e-06, 1.9307672e-04], dtype=float32)"
            ]
          },
          "metadata": {},
          "execution_count": 34
        }
      ]
    },
    {
      "cell_type": "code",
      "source": [
        "y_pred = np.array([np.argmax(i) for i in prediction])"
      ],
      "metadata": {
        "id": "z5JsjxyLk8pe"
      },
      "execution_count": null,
      "outputs": []
    },
    {
      "cell_type": "code",
      "source": [
        "y_true = np.array([np.argmax(i) for i in y_val])"
      ],
      "metadata": {
        "id": "98-gD0vxl9Vf"
      },
      "execution_count": null,
      "outputs": []
    },
    {
      "cell_type": "code",
      "source": [
        "y_true"
      ],
      "metadata": {
        "colab": {
          "base_uri": "https://localhost:8080/"
        },
        "id": "oy5u3Bt6mBGl",
        "outputId": "dc7c80ae-f7ee-49f6-b1ca-111cde57bd2c"
      },
      "execution_count": null,
      "outputs": [
        {
          "output_type": "execute_result",
          "data": {
            "text/plain": [
              "array([ 4,  4, 10, ...,  0,  2,  2])"
            ]
          },
          "metadata": {},
          "execution_count": 37
        }
      ]
    },
    {
      "cell_type": "code",
      "source": [
        "y_pred"
      ],
      "metadata": {
        "colab": {
          "base_uri": "https://localhost:8080/"
        },
        "id": "CKA6b7Bal7Pr",
        "outputId": "38f60dd1-2aa9-4e70-cd31-49389b0c11ac"
      },
      "execution_count": null,
      "outputs": [
        {
          "output_type": "execute_result",
          "data": {
            "text/plain": [
              "array([ 4,  4, 10, ...,  0,  2,  2])"
            ]
          },
          "metadata": {},
          "execution_count": 38
        }
      ]
    },
    {
      "cell_type": "code",
      "source": [
        "np.sum((y_true == y_pred).astype(int))/y_true.shape[0]"
      ],
      "metadata": {
        "colab": {
          "base_uri": "https://localhost:8080/"
        },
        "id": "OKaDloNrmG2H",
        "outputId": "3ab94a52-873c-44d6-d610-ed4dc93e9ee0"
      },
      "execution_count": null,
      "outputs": [
        {
          "output_type": "execute_result",
          "data": {
            "text/plain": [
              "0.9571818181818181"
            ]
          },
          "metadata": {},
          "execution_count": 39
        }
      ]
    },
    {
      "cell_type": "code",
      "source": [
        "cnf_mat = tf.math.confusion_matrix(labels = y_true, predictions = y_pred)\n",
        "cnf_mat"
      ],
      "metadata": {
        "colab": {
          "base_uri": "https://localhost:8080/"
        },
        "id": "nt3Hlpe7mYPI",
        "outputId": "bd59b6b5-3f20-437e-c5cc-aa1b0db85a78"
      },
      "execution_count": null,
      "outputs": [
        {
          "output_type": "execute_result",
          "data": {
            "text/plain": [
              "<tf.Tensor: shape=(11, 11), dtype=int32, numpy=\n",
              "array([[1000,    0,    0,    0,    0,    0,    0,    0,    0,    0,    0],\n",
              "       [   0,  966,    0,    1,    2,    1,    2,    2,    3,    1,    2],\n",
              "       [   0,    2, 1121,    2,    1,    0,    1,    1,    3,    4,    0],\n",
              "       [   0,    8,    2,  982,    5,    5,    1,    1,   15,   12,    1],\n",
              "       [   0,    2,    3,    2,  974,    1,   10,    1,    4,   12,    1],\n",
              "       [   0,    2,    5,    2,    1,  931,    5,    5,   10,    1,   20],\n",
              "       [   0,    4,    0,    1,    9,    6,  838,    7,    4,   16,    7],\n",
              "       [   0,    6,    4,    1,    1,    1,    7,  896,   14,    2,   26],\n",
              "       [   0,    0,   10,    8,    4,    5,    1,    9,  961,    2,   28],\n",
              "       [   0,    3,    0,   10,    9,    7,    5,    4,    2,  930,    4],\n",
              "       [   0,    3,    4,    0,    3,   17,   15,   20,   14,    3,  930]],\n",
              "      dtype=int32)>"
            ]
          },
          "metadata": {},
          "execution_count": 40
        }
      ]
    },
    {
      "cell_type": "code",
      "source": [
        "plt.figure(figsize = (10,8))\n",
        "sns.heatmap(cnf_mat, annot= True, fmt='d')\n",
        "plt.xlabel('Predicted')\n",
        "plt.ylabel('Truth')\n",
        "plt.show()"
      ],
      "metadata": {
        "colab": {
          "base_uri": "https://localhost:8080/",
          "height": 696
        },
        "id": "5p9q_sOCmbHS",
        "outputId": "199442cf-149f-4912-a647-53fb3f96c39d"
      },
      "execution_count": null,
      "outputs": [
        {
          "output_type": "display_data",
          "data": {
            "text/plain": [
              "<Figure size 1000x800 with 2 Axes>"
            ],
            "image/png": "[encoded data removed]"
          },
          "metadata": {}
        }
      ]
    },
    {
      "cell_type": "code",
      "source": [
        "y_true_pr = np.zeros(y_true.shape)\n",
        "y_true_pr[y_true != 0] = 1\n",
        "\n",
        "y_pred_pr = np.zeros(y_pred.shape)\n",
        "y_pred_pr[y_pred != 0] = 1"
      ],
      "metadata": {
        "id": "aeb3tBRjnd74"
      },
      "execution_count": null,
      "outputs": []
    },
    {
      "cell_type": "code",
      "source": [
        "np.sum((y_true_pr == y_pred_pr).astype(int))/y_true_pr.shape[0]"
      ],
      "metadata": {
        "colab": {
          "base_uri": "https://localhost:8080/"
        },
        "id": "w4FE3RVioe-Z",
        "outputId": "165df664-2ef5-47a9-f924-d96f6738a7ad"
      },
      "execution_count": null,
      "outputs": [
        {
          "output_type": "execute_result",
          "data": {
            "text/plain": [
              "1.0"
            ]
          },
          "metadata": {},
          "execution_count": 43
        }
      ]
    },
    {
      "cell_type": "code",
      "source": [
        "model.save('number_detection.keras')"
      ],
      "metadata": {
        "id": "GpTtDKMY9e-9"
      },
      "execution_count": null,
      "outputs": []
    },
    {
      "cell_type": "code",
      "source": [
        "# Save the weights\n",
        "model.save_weights('./checkpoints/Tata_Steel_Model')"
      ],
      "metadata": {
        "id": "2IhXaW15QZPt"
      },
      "execution_count": null,
      "outputs": []
    },
    {
      "cell_type": "code",
      "source": [
        "new_model = keras.Sequential([\n",
        "    # keras.layers.MaxPooling2D((2,2),input_shape = (28,28,1)),\n",
        "    # keras.layers.MaxPooling2D((2,2)),\n",
        "    keras.layers.RandomRotation(0.5,input_shape = (14,14,1)),\n",
        "\n",
        "    keras.layers.Conv2D(filters = 16, padding = 'same', kernel_size = (3,3), activation = 'relu'),\n",
        "\n",
        "    # keras.layers.Conv2D(filters = 32, padding = 'same', kernel_size = (3,3), activation = 'relu'),\n",
        "    # keras.layers.Conv2D(filters = 64, padding = 'same', kernel_size = (3,3), activation = 'relu'),\n",
        "    # keras.layers.MaxPooling2D((2,2)),\n",
        "    # keras.layers.Conv2D(filters = 128, padding = 'same', kernel_size = (3,3), activation = 'relu'),\n",
        "    keras.layers.Conv2D(filters = 256, padding = 'same', kernel_size = (3,3), activation = 'relu'),\n",
        "\n",
        "    keras.layers.Flatten(),\n",
        "    keras.layers.Dense(1000, activation = 'relu'),\n",
        "    # keras.layers.Dense(11, activation = 'relu'),\n",
        "    # keras.layers.Dropout(0.05),\n",
        "    keras.layers.Dense(11, activation = 'sigmoid')\n",
        "])\n",
        "\n",
        "new_model.compile(optimizer = 'adam', loss = 'mean_squared_error', metrics = [keras.metrics.CategoricalAccuracy()])\n",
        "\n",
        "new_model.summary()"
      ],
      "metadata": {
        "colab": {
          "base_uri": "https://localhost:8080/"
        },
        "id": "T5qtr3YMQvjV",
        "outputId": "64b86331-40dd-4c05-eadf-3542c0d81098"
      },
      "execution_count": null,
      "outputs": [
        {
          "output_type": "stream",
          "name": "stdout",
          "text": [
            "Model: \"sequential_1\"\n",
            "_________________________________________________________________\n",
            " Layer (type)                Output Shape              Param #   \n",
            "=================================================================\n",
            " random_rotation_1 (RandomR  (None, 14, 14, 1)         0         \n",
            " otation)                                                        \n",
            "                                                                 \n",
            " conv2d_2 (Conv2D)           (None, 14, 14, 16)        160       \n",
            "                                                                 \n",
            " conv2d_3 (Conv2D)           (None, 14, 14, 256)       37120     \n",
            "                                                                 \n",
            " flatten_1 (Flatten)         (None, 50176)             0         \n",
            "                                                                 \n",
            " dense_2 (Dense)             (None, 1000)              50177000  \n",
            "                                                                 \n",
            " dense_3 (Dense)             (None, 11)                11011     \n",
            "                                                                 \n",
            "=================================================================\n",
            "Total params: 50225291 (191.59 MB)\n",
            "Trainable params: 50225291 (191.59 MB)\n",
            "Non-trainable params: 0 (0.00 Byte)\n",
            "_________________________________________________________________\n"
          ]
        }
      ]
    },
    {
      "cell_type": "code",
      "source": [
        "# Restore the weights\n",
        "new_model.load_weights('./checkpoints/Tata_Steel_Model')"
      ],
      "metadata": {
        "colab": {
          "base_uri": "https://localhost:8080/"
        },
        "id": "FONVURmAkKPY",
        "outputId": "55bdf5d5-a5bf-4769-e414-862d3092ecb3"
      },
      "execution_count": null,
      "outputs": [
        {
          "output_type": "execute_result",
          "data": {
            "text/plain": [
              "<tensorflow.python.checkpoint.checkpoint.CheckpointLoadStatus at 0x7f79641b4b80>"
            ]
          },
          "metadata": {},
          "execution_count": 47
        }
      ]
    },
    {
      "cell_type": "code",
      "source": [
        "new_model.evaluate(X_val, y_val)"
      ],
      "metadata": {
        "colab": {
          "base_uri": "https://localhost:8080/"
        },
        "id": "BeFRSmYWQ2-M",
        "outputId": "082dda5c-c169-4857-e948-4ea9e236518c"
      },
      "execution_count": null,
      "outputs": [
        {
          "output_type": "stream",
          "name": "stdout",
          "text": [
            "344/344 [==============================] - 1s 3ms/step - loss: 0.0064 - categorical_accuracy: 0.9572\n"
          ]
        },
        {
          "output_type": "execute_result",
          "data": {
            "text/plain": [
              "[0.006443821359425783, 0.9571818113327026]"
            ]
          },
          "metadata": {},
          "execution_count": 48
        }
      ]
    },
    {
      "cell_type": "markdown",
      "metadata": {
        "id": "StwAtswrPVcb"
      },
      "source": [
        "## Large Network"
      ]
    },
    {
      "cell_type": "code",
      "execution_count": null,
      "metadata": {
        "id": "pcT9CyViPVcc"
      },
      "outputs": [],
      "source": [
        "model = keras.Sequential([\n",
        "    keras.layers.Conv2D(filters = 16, padding = 'same', kernel_size = (3,3), activation = 'relu', input_shape = (28,28,1)),\n",
        "    keras.layers.MaxPooling2D((2,2)),\n",
        "\n",
        "    keras.layers.Conv2D(filters = 64, padding = 'same', kernel_size = (3,3), activation = 'relu'),\n",
        "    keras.layers.MaxPooling2D((2,2)),\n",
        "\n",
        "    keras.layers.Flatten(),\n",
        "    keras.layers.Dense(3136, activation = 'relu'),\n",
        "    keras.layers.Dense(196, activation = 'relu'),\n",
        "    keras.layers.Dense(10, activation = 'softmax')\n",
        "])\n",
        "\n",
        "model.compile(optimizer = 'adam', loss = 'sparse_categorical_crossentropy', metrics = ['accuracy'])\n",
        "\n",
        "model.summary()"
      ]
    },
    {
      "cell_type": "code",
      "execution_count": null,
      "metadata": {
        "id": "8PuDmy1pPVcc"
      },
      "outputs": [],
      "source": [
        "checkpoint_path = \"training_1/val_loss.ckpt\"\n",
        "checkpoint_dir = os.path.dirname(checkpoint_path)\n",
        "\n",
        "csv_logger = CSVLogger('training_log2.csv', append=True)\n",
        "\n",
        "# Create a callback that saves the model's weights\n",
        "cp_callback = tf.keras.callbacks.ModelCheckpoint(filepath=checkpoint_path,\n",
        "                                                 monitor = 'val_loss',\n",
        "                                                 verbose=1)\n",
        "\n",
        "# Train the model with the new callback\n",
        "model.fit(trainxmm,\n",
        "          trainy,\n",
        "          epochs=100,\n",
        "          batch_size = 1000,\n",
        "          validation_data=(testxmm, testy),\n",
        "          callbacks=[csv_logger])"
      ]
    },
    {
      "cell_type": "code",
      "execution_count": null,
      "metadata": {
        "id": "lctnAUsmcmzl"
      },
      "outputs": [],
      "source": [
        "logs2 = pd.read_csv('training_log2.csv')"
      ]
    },
    {
      "cell_type": "code",
      "execution_count": null,
      "metadata": {
        "id": "-QM17Qtycnvz"
      },
      "outputs": [],
      "source": [
        "logs2['val_accuracy'].max()"
      ]
    },
    {
      "cell_type": "code",
      "execution_count": null,
      "metadata": {
        "id": "oyRcCJ_BPVcc"
      },
      "outputs": [],
      "source": [
        "plt.figure(figsize = (10,6))\n",
        "plt.plot(logs['val_accuracy'], color='blue')\n",
        "plt.plot(logs2['val_accuracy'], color='orange')\n",
        "plt.xlabel('Accuracy')\n",
        "plt.ylabel('Epochs')\n",
        "plt.show()"
      ]
    },
    {
      "cell_type": "code",
      "execution_count": null,
      "metadata": {
        "id": "gYJlX4Sccvbm"
      },
      "outputs": [],
      "source": [
        "model.evaluate(testxmm, testy)"
      ]
    }
  ],
  "metadata": {
    "colab": {
      "collapsed_sections": [
        "_SgiFx_gPxj1",
        "StwAtswrPVcb"
      ],
      "provenance": [],
      "gpuType": "T4"
    },
    "kernelspec": {
      "display_name": "Python 3",
      "name": "python3"
    },
    "language_info": {
      "name": "python"
    },
    "accelerator": "GPU"
  },
  "nbformat": 4,
  "nbformat_minor": 0
}