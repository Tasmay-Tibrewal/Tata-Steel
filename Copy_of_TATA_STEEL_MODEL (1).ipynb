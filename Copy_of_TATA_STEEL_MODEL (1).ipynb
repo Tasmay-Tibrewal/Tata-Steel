{
  "cells": [
    {
      "cell_type": "markdown",
      "metadata": {
        "id": "_SgiFx_gPxj1"
      },
      "source": [
        "# **Initialisation**"
      ]
    },
    {
      "cell_type": "code",
      "execution_count": null,
      "metadata": {
        "id": "h3oJuWxFR5dH"
      },
      "outputs": [],
      "source": [
        "from tensorflow import keras\n",
        "import tensorflow as tf\n",
        "from keras.datasets import mnist\n",
        "from keras.datasets import cifar100\n",
        "import numpy as np\n",
        "import matplotlib.pyplot as plt\n",
        "import pandas as pd\n",
        "import seaborn as sns\n",
        "from sklearn.model_selection import train_test_split\n",
        "import os\n",
        "from keras.callbacks import CSVLogger\n",
        "import random\n",
        "import cv2\n",
        "from sklearn.utils import shuffle\n",
        "import skimage.measure"
      ]
    },
    {
      "cell_type": "code",
      "execution_count": null,
      "metadata": {
        "colab": {
          "base_uri": "https://localhost:8080/"
        },
        "id": "E6ZUn1MJfgmS",
        "outputId": "0b4160ae-263d-4441-b91d-03b84bc5ec97"
      },
      "outputs": [
        {
          "output_type": "stream",
          "name": "stdout",
          "text": [
            "Requirement already satisfied: pyyaml in /usr/local/lib/python3.10/dist-packages (6.0.1)\n",
            "Requirement already satisfied: h5py in /usr/local/lib/python3.10/dist-packages (3.9.0)\n",
            "Requirement already satisfied: numpy>=1.17.3 in /usr/local/lib/python3.10/dist-packages (from h5py) (1.25.2)\n"
          ]
        }
      ],
      "source": [
        "!pip install pyyaml h5py"
      ]
    },
    {
      "cell_type": "code",
      "execution_count": null,
      "metadata": {
        "id": "7sZ3dQLh4lb-"
      },
      "outputs": [],
      "source": [
        "(trainx, trainy), (testx, testy) = mnist.load_data()"
      ]
    },
    {
      "cell_type": "code",
      "execution_count": null,
      "metadata": {
        "colab": {
          "base_uri": "https://localhost:8080/"
        },
        "id": "lTLxoYaG5Wt3",
        "outputId": "3bb86e51-0365-4f9e-faea-240978b150ae"
      },
      "outputs": [
        {
          "output_type": "execute_result",
          "data": {
            "text/plain": [
              "<matplotlib.image.AxesImage at 0x7ac06860f4f0>"
            ]
          },
          "metadata": {},
          "execution_count": 47
        },
        {
          "output_type": "display_data",
          "data": {
            "text/plain": [
              "<Figure size 640x480 with 1 Axes>"
            ],
            "image/png": "[encoded data removed]"
          },
          "metadata": {}
        }
      ],
      "source": [
        "plt.imshow(trainx[1])"
      ]
    },
    {
      "cell_type": "code",
      "execution_count": null,
      "metadata": {
        "colab": {
          "base_uri": "https://localhost:8080/"
        },
        "id": "nPSippb9PoOi",
        "outputId": "d8ada142-f839-42c5-ea82-30e56f572898"
      },
      "outputs": [
        {
          "output_type": "execute_result",
          "data": {
            "text/plain": [
              "0"
            ]
          },
          "metadata": {},
          "execution_count": 48
        }
      ],
      "source": [
        "trainy[1]"
      ]
    },
    {
      "cell_type": "markdown",
      "metadata": {
        "id": "91gCzU63Ot69"
      },
      "source": [
        "# **Large CNNs**"
      ]
    },
    {
      "cell_type": "markdown",
      "source": [
        "## Model"
      ],
      "metadata": {
        "id": "kHhdauPnackw"
      }
    },
    {
      "cell_type": "code",
      "execution_count": null,
      "metadata": {
        "id": "VgN8wYclPVcY"
      },
      "outputs": [],
      "source": [
        "trainxmm = trainx/255.0\n",
        "testxmm = testx/255.0"
      ]
    },
    {
      "cell_type": "code",
      "execution_count": null,
      "metadata": {
        "id": "K5TYhQGfPVcY"
      },
      "outputs": [],
      "source": [
        "# trainxmm = np.expand_dims(trainxmm, axis=3)\n",
        "# testxmm = np.expand_dims(trainxmm, axis=3)"
      ]
    },
    {
      "cell_type": "code",
      "execution_count": null,
      "metadata": {
        "id": "6QnO6ow5PVcY"
      },
      "outputs": [],
      "source": [
        "# trainxmm.shape"
      ]
    },
    {
      "cell_type": "markdown",
      "metadata": {
        "id": "HTldo7M7PVcZ"
      },
      "source": [
        "**Wider layer**"
      ]
    },
    {
      "cell_type": "code",
      "source": [
        "def metric(y_true,y_pred):\n",
        "  # print(type(y_true))\n",
        "  result = y_pred * tf.transpose(y_true)\n",
        "  return tf.reduce_sum(result)/2*tf.shape(result)"
      ],
      "metadata": {
        "id": "UKKS4Ue1NmSR"
      },
      "execution_count": null,
      "outputs": []
    },
    {
      "cell_type": "code",
      "execution_count": null,
      "metadata": {
        "colab": {
          "base_uri": "https://localhost:8080/"
        },
        "id": "8JM2Q4L9PVcZ",
        "outputId": "48e94a00-ad01-43e1-8bdd-f4a998ee993e"
      },
      "outputs": [
        {
          "output_type": "stream",
          "name": "stdout",
          "text": [
            "Model: \"sequential_1\"\n",
            "_________________________________________________________________\n",
            " Layer (type)                Output Shape              Param #   \n",
            "=================================================================\n",
            " random_rotation_1 (RandomR  (None, 14, 14, 1)         0         \n",
            " otation)                                                        \n",
            "                                                                 \n",
            " conv2d_2 (Conv2D)           (None, 14, 14, 16)        160       \n",
            "                                                                 \n",
            " conv2d_3 (Conv2D)           (None, 14, 14, 256)       37120     \n",
            "                                                                 \n",
            " flatten_1 (Flatten)         (None, 50176)             0         \n",
            "                                                                 \n",
            " dense_2 (Dense)             (None, 1000)              50177000  \n",
            "                                                                 \n",
            " dense_3 (Dense)             (None, 11)                11011     \n",
            "                                                                 \n",
            "=================================================================\n",
            "Total params: 50225291 (191.59 MB)\n",
            "Trainable params: 50225291 (191.59 MB)\n",
            "Non-trainable params: 0 (0.00 Byte)\n",
            "_________________________________________________________________\n"
          ]
        }
      ],
      "source": [
        "model = keras.Sequential([\n",
        "    # keras.layers.MaxPooling2D((2,2),input_shape = (28,28,1)),\n",
        "    # keras.layers.MaxPooling2D((2,2)),\n",
        "    keras.layers.RandomRotation(0.5,input_shape = (14,14,1)),\n",
        "\n",
        "    keras.layers.Conv2D(filters = 16, padding = 'same', kernel_size = (3,3), activation = 'relu'),\n",
        "\n",
        "    # keras.layers.Conv2D(filters = 32, padding = 'same', kernel_size = (3,3), activation = 'relu'),\n",
        "    # keras.layers.Conv2D(filters = 64, padding = 'same', kernel_size = (3,3), activation = 'relu'),\n",
        "    # keras.layers.MaxPooling2D((2,2)),\n",
        "    # keras.layers.Conv2D(filters = 128, padding = 'same', kernel_size = (3,3), activation = 'relu'),\n",
        "    keras.layers.Conv2D(filters = 256, padding = 'same', kernel_size = (3,3), activation = 'relu'),\n",
        "\n",
        "    keras.layers.Flatten(),\n",
        "    keras.layers.Dense(1000, activation = 'relu'),\n",
        "    # keras.layers.Dense(11, activation = 'relu'),\n",
        "    # keras.layers.Dropout(0.05),\n",
        "    keras.layers.Dense(11, activation = 'sigmoid')\n",
        "])\n",
        "\n",
        "model.compile(optimizer = 'adam', loss = 'mean_squared_error', metrics = [keras.metrics.CategoricalAccuracy()])\n",
        "\n",
        "model.summary()"
      ]
    },
    {
      "cell_type": "code",
      "execution_count": null,
      "metadata": {
        "id": "1Big11-rOuNY"
      },
      "outputs": [],
      "source": [
        "def add_f_train(trainy,n):\n",
        "  trainy_new = np.zeros((trainy.shape[0],n+1))\n",
        "  for i in range(trainy.shape[0]):\n",
        "    trainy_new[i,trainy[i] + 1] = 1\n",
        "    trainy_new[i,0] = 0\n",
        "\n",
        "  return trainy_new"
      ]
    },
    {
      "cell_type": "code",
      "execution_count": null,
      "metadata": {
        "id": "bei12o6FSb47"
      },
      "outputs": [],
      "source": [
        "def add_non_numbers(x, y):\n",
        "  trainx_new = np.zeros((x.shape[0]*11//10, x.shape[1], x.shape[2]))\n",
        "  trainy_new = np.zeros((y.shape[0]*11//10, y.shape[1]))\n",
        "\n",
        "  trainx_new [:x.shape[0]] = x\n",
        "  for i in range(x.shape[0]//10):\n",
        "    trainx_new [x.shape[0]+i] = np.random.rand(x.shape[1],x.shape[2])/random.randint(1,100)\n",
        "\n",
        "  trainy_new [:y.shape[0]] = y\n",
        "  trainy_new [y.shape[0]:,0] = np.ones(y.shape[0]*1//10)\n",
        "\n",
        "  return shuffle(trainx_new, trainy_new)"
      ]
    },
    {
      "cell_type": "code",
      "execution_count": null,
      "metadata": {
        "id": "rYllMsxkbOJS"
      },
      "outputs": [],
      "source": [
        "def add_lines(x):\n",
        "  a = random.randint(1,4)\n",
        "  if a == 1:\n",
        "    cv2.line(x,\n",
        "          (0,random.randint(0,X.shape[1]-1)),\n",
        "          (X.shape[2]-1,random.randint(0,X.shape[1]-1)),\n",
        "          (1,1,1),\n",
        "          random.randint(2,2))/255\n",
        "\n",
        "  elif a == 2:\n",
        "    cv2.line(x,\n",
        "          (random.randint(0,X.shape[2]-1),0),\n",
        "          (random.randint(0,X.shape[2]-1),X.shape[1]-1),\n",
        "          (1,1,1),\n",
        "          random.randint(2,2))/255\n",
        "\n",
        "  elif a == 3:\n",
        "    cv2.line(x,\n",
        "          (0,random.randint(0,X.shape[1]-1)),\n",
        "          (random.randint(0,X.shape[2]-1),X.shape[1]-1),\n",
        "          (1,1,1),\n",
        "          random.randint(2,2))/255\n",
        "\n",
        "  else:\n",
        "    cv2.line(x,\n",
        "          (random.randint(0,X.shape[2]-1),0),\n",
        "          (X.shape[2]-1, random.randint(0,X.shape[1]-1)),\n",
        "          (1,1,1),\n",
        "          random.randint(2,2))/255"
      ]
    },
    {
      "cell_type": "code",
      "execution_count": null,
      "metadata": {
        "id": "NBCzLLlyu9e7"
      },
      "outputs": [],
      "source": [
        "def reduce(xmm,n=2):\n",
        "  x = np.zeros((xmm.shape[0], xmm.shape[1]//n, xmm.shape[2]//n))\n",
        "  for i in range(xmm.shape[0]):\n",
        "    x[i] = skimage.measure.block_reduce(xmm[i], (n,n), np.max)\n",
        "\n",
        "  return x"
      ]
    },
    {
      "cell_type": "code",
      "execution_count": null,
      "metadata": {
        "id": "UgGbtLQXPmv-"
      },
      "outputs": [],
      "source": [
        "trainy_new = add_f_train(trainy,10)\n",
        "testy_new = add_f_train(testy,10)"
      ]
    },
    {
      "cell_type": "code",
      "execution_count": null,
      "metadata": {
        "colab": {
          "base_uri": "https://localhost:8080/"
        },
        "id": "uBr6w9TQSB14",
        "outputId": "90d5bf53-c04f-42a8-da32-74aa042136a5"
      },
      "outputs": [
        {
          "output_type": "execute_result",
          "data": {
            "text/plain": [
              "array([0., 1., 0., 0., 0., 0., 0., 0., 0., 0., 0.])"
            ]
          },
          "metadata": {},
          "execution_count": 59
        }
      ],
      "source": [
        "trainy_new[1]"
      ]
    },
    {
      "cell_type": "code",
      "execution_count": null,
      "metadata": {
        "id": "YnwK2xO5xHfY"
      },
      "outputs": [],
      "source": [
        "xmm = reduce(trainxmm, n=2)\n",
        "xmm_val = reduce(testxmm, n=2)"
      ]
    },
    {
      "cell_type": "code",
      "execution_count": null,
      "metadata": {
        "id": "esIVAPfVYqEc"
      },
      "outputs": [],
      "source": [
        "X,y = add_non_numbers(xmm, trainy_new)"
      ]
    },
    {
      "cell_type": "code",
      "execution_count": null,
      "metadata": {
        "id": "uiNt0RR9htiA"
      },
      "outputs": [],
      "source": [
        "for i in range((X.shape[0])//2):\n",
        "  add_lines(X[i])"
      ]
    },
    {
      "cell_type": "code",
      "execution_count": null,
      "metadata": {
        "id": "_RcnXkdp7ZUp"
      },
      "outputs": [],
      "source": [
        "X,y = shuffle(X,y)"
      ]
    },
    {
      "cell_type": "code",
      "execution_count": null,
      "metadata": {
        "colab": {
          "base_uri": "https://localhost:8080/",
          "height": 448
        },
        "id": "7qWHPcYkh6b-",
        "outputId": "a6224f93-eb12-4406-bf93-7cfd7519eb78"
      },
      "outputs": [
        {
          "output_type": "execute_result",
          "data": {
            "text/plain": [
              "<matplotlib.image.AxesImage at 0x7ac0683ca830>"
            ]
          },
          "metadata": {},
          "execution_count": 64
        },
        {
          "output_type": "display_data",
          "data": {
            "text/plain": [
              "<Figure size 640x480 with 1 Axes>"
            ],
            "image/png": "[encoded data removed]"
          },
          "metadata": {}
        }
      ],
      "source": [
        "plt.imshow(X[242])"
      ]
    },
    {
      "cell_type": "code",
      "execution_count": null,
      "metadata": {
        "colab": {
          "base_uri": "https://localhost:8080/"
        },
        "id": "4XoG5wPviDxU",
        "outputId": "fca25622-6c1f-4cd0-a205-6af9168a7e4d"
      },
      "outputs": [
        {
          "output_type": "execute_result",
          "data": {
            "text/plain": [
              "array([0., 0., 0., 0., 0., 0., 0., 1., 0., 0., 0.])"
            ]
          },
          "metadata": {},
          "execution_count": 65
        }
      ],
      "source": [
        "y[234]"
      ]
    },
    {
      "cell_type": "markdown",
      "source": [
        "## Training"
      ],
      "metadata": {
        "id": "e_v1kvHoaXpX"
      }
    },
    {
      "cell_type": "code",
      "execution_count": null,
      "metadata": {
        "colab": {
          "base_uri": "https://localhost:8080/"
        },
        "id": "-7xdgZ9ZRACn",
        "outputId": "b2bf7fd1-1859-4012-ccd4-538be6265b37"
      },
      "outputs": [
        {
          "metadata": {
            "tags": null
          },
          "name": "stderr",
          "output_type": "stream",
          "text": [
            "\r  0%|          | 0/100 [00:00<?, ?it/s]"
          ]
        },
        {
          "metadata": {
            "tags": null
          },
          "name": "stdout",
          "output_type": "stream",
          "text": [
            "66/66 [==============================] - 10s 127ms/step - loss: 0.0882 - categorical_accuracy: 0.0937 - val_loss: 0.0841 - val_categorical_accuracy: 0.0909\n"
          ]
        },
        {
          "metadata": {
            "tags": null
          },
          "name": "stderr",
          "output_type": "stream",
          "text": [
            "\r  1%|          | 1/100 [00:11<18:27, 11.18s/it]"
          ]
        },
        {
          "metadata": {
            "tags": null
          },
          "name": "stdout",
          "output_type": "stream",
          "text": [
            "66/66 [==============================] - 9s 132ms/step - loss: 0.0832 - categorical_accuracy: 0.0909 - val_loss: 0.0828 - val_categorical_accuracy: 0.0909\n"
          ]
        },
        {
          "metadata": {
            "tags": null
          },
          "name": "stderr",
          "output_type": "stream",
          "text": [
            "\r  2%|▏         | 2/100 [00:22<18:43, 11.46s/it]"
          ]
        },
        {
          "metadata": {
            "tags": null
          },
          "name": "stdout",
          "output_type": "stream",
          "text": [
            "66/66 [==============================] - 9s 132ms/step - loss: 0.0827 - categorical_accuracy: 0.0909 - val_loss: 0.0827 - val_categorical_accuracy: 0.0915\n"
          ]
        },
        {
          "metadata": {
            "tags": null
          },
          "name": "stderr",
          "output_type": "stream",
          "text": [
            "\r  3%|▎         | 3/100 [00:34<19:00, 11.76s/it]"
          ]
        },
        {
          "metadata": {
            "tags": null
          },
          "name": "stdout",
          "output_type": "stream",
          "text": [
            "66/66 [==============================] - 8s 118ms/step - loss: 0.0827 - categorical_accuracy: 0.0912 - val_loss: 0.0827 - val_categorical_accuracy: 0.1349\n"
          ]
        },
        {
          "metadata": {
            "tags": null
          },
          "name": "stderr",
          "output_type": "stream",
          "text": [
            "\r  4%|▍         | 4/100 [00:45<18:21, 11.47s/it]"
          ]
        },
        {
          "metadata": {
            "tags": null
          },
          "name": "stdout",
          "output_type": "stream",
          "text": [
            "66/66 [==============================] - 8s 117ms/step - loss: 0.0826 - categorical_accuracy: 0.1324 - val_loss: 0.0826 - val_categorical_accuracy: 0.1236\n"
          ]
        },
        {
          "metadata": {
            "tags": null
          },
          "name": "stderr",
          "output_type": "stream",
          "text": [
            "\r  5%|▌         | 5/100 [00:54<16:29, 10.41s/it]"
          ]
        },
        {
          "metadata": {
            "tags": null
          },
          "name": "stdout",
          "output_type": "stream",
          "text": [
            "66/66 [==============================] - 8s 120ms/step - loss: 0.0841 - categorical_accuracy: 0.1406 - val_loss: 0.0827 - val_categorical_accuracy: 0.0909\n"
          ]
        },
        {
          "metadata": {
            "tags": null
          },
          "name": "stderr",
          "output_type": "stream",
          "text": [
            "\r  6%|▌         | 6/100 [01:05<16:37, 10.61s/it]"
          ]
        },
        {
          "metadata": {
            "tags": null
          },
          "name": "stdout",
          "output_type": "stream",
          "text": [
            "66/66 [==============================] - 8s 117ms/step - loss: 0.0827 - categorical_accuracy: 0.0909 - val_loss: 0.0827 - val_categorical_accuracy: 0.0913\n"
          ]
        },
        {
          "metadata": {
            "tags": null
          },
          "name": "stderr",
          "output_type": "stream",
          "text": [
            "\r  7%|▋         | 7/100 [01:14<15:22,  9.92s/it]"
          ]
        },
        {
          "metadata": {
            "tags": null
          },
          "name": "stdout",
          "output_type": "stream",
          "text": [
            "66/66 [==============================] - 8s 118ms/step - loss: 0.0826 - categorical_accuracy: 0.0909 - val_loss: 0.0827 - val_categorical_accuracy: 0.0910\n"
          ]
        },
        {
          "metadata": {
            "tags": null
          },
          "name": "stderr",
          "output_type": "stream",
          "text": [
            "\r  8%|▊         | 8/100 [01:22<14:44,  9.62s/it]"
          ]
        },
        {
          "metadata": {
            "tags": null
          },
          "name": "stdout",
          "output_type": "stream",
          "text": [
            "66/66 [==============================] - 8s 120ms/step - loss: 0.0826 - categorical_accuracy: 0.0909 - val_loss: 0.0827 - val_categorical_accuracy: 0.0915\n"
          ]
        },
        {
          "metadata": {
            "tags": null
          },
          "name": "stderr",
          "output_type": "stream",
          "text": [
            "\r  9%|▉         | 9/100 [01:34<15:15, 10.06s/it]"
          ]
        },
        {
          "metadata": {
            "tags": null
          },
          "name": "stdout",
          "output_type": "stream",
          "text": [
            "66/66 [==============================] - 8s 119ms/step - loss: 0.0826 - categorical_accuracy: 0.0909 - val_loss: 0.0827 - val_categorical_accuracy: 0.0923\n"
          ]
        },
        {
          "metadata": {
            "tags": null
          },
          "name": "stderr",
          "output_type": "stream",
          "text": [
            "\r 10%|█         | 10/100 [01:42<14:27,  9.64s/it]"
          ]
        },
        {
          "metadata": {
            "tags": null
          },
          "name": "stdout",
          "output_type": "stream",
          "text": [
            "66/66 [==============================] - 8s 123ms/step - loss: 0.0826 - categorical_accuracy: 0.0909 - val_loss: 0.0827 - val_categorical_accuracy: 0.0935\n"
          ]
        },
        {
          "metadata": {
            "tags": null
          },
          "name": "stderr",
          "output_type": "stream",
          "text": [
            "\r 11%|█         | 11/100 [01:53<14:54, 10.06s/it]"
          ]
        },
        {
          "metadata": {
            "tags": null
          },
          "name": "stdout",
          "output_type": "stream",
          "text": [
            "66/66 [==============================] - 8s 124ms/step - loss: 0.0826 - categorical_accuracy: 0.0910 - val_loss: 0.0827 - val_categorical_accuracy: 0.0946\n"
          ]
        },
        {
          "metadata": {
            "tags": null
          },
          "name": "stderr",
          "output_type": "stream",
          "text": [
            "\r 12%|█▏        | 12/100 [02:04<15:10, 10.34s/it]"
          ]
        },
        {
          "metadata": {
            "tags": null
          },
          "name": "stdout",
          "output_type": "stream",
          "text": [
            "66/66 [==============================] - 8s 117ms/step - loss: 0.0826 - categorical_accuracy: 0.0910 - val_loss: 0.0827 - val_categorical_accuracy: 0.0995\n"
          ]
        },
        {
          "metadata": {
            "tags": null
          },
          "name": "stderr",
          "output_type": "stream",
          "text": [
            "\r 13%|█▎        | 13/100 [02:15<15:17, 10.54s/it]"
          ]
        },
        {
          "metadata": {
            "tags": null
          },
          "name": "stdout",
          "output_type": "stream",
          "text": [
            "66/66 [==============================] - 8s 117ms/step - loss: 0.0826 - categorical_accuracy: 0.0910 - val_loss: 0.0827 - val_categorical_accuracy: 0.1055\n"
          ]
        },
        {
          "metadata": {
            "tags": null
          },
          "name": "stderr",
          "output_type": "stream",
          "text": [
            "\r 14%|█▍        | 14/100 [02:26<15:18, 10.68s/it]"
          ]
        },
        {
          "metadata": {
            "tags": null
          },
          "name": "stdout",
          "output_type": "stream",
          "text": [
            "66/66 [==============================] - 8s 118ms/step - loss: 0.0826 - categorical_accuracy: 0.0910 - val_loss: 0.0826 - val_categorical_accuracy: 0.1065\n"
          ]
        },
        {
          "metadata": {
            "tags": null
          },
          "name": "stderr",
          "output_type": "stream",
          "text": [
            "\r 15%|█▌        | 15/100 [02:37<15:16, 10.78s/it]"
          ]
        },
        {
          "metadata": {
            "tags": null
          },
          "name": "stdout",
          "output_type": "stream",
          "text": [
            "66/66 [==============================] - 8s 118ms/step - loss: 0.0826 - categorical_accuracy: 0.0910 - val_loss: 0.0827 - val_categorical_accuracy: 0.1085\n"
          ]
        },
        {
          "metadata": {
            "tags": null
          },
          "name": "stderr",
          "output_type": "stream",
          "text": [
            "\r 16%|█▌        | 16/100 [02:48<15:10, 10.84s/it]"
          ]
        },
        {
          "metadata": {
            "tags": null
          },
          "name": "stdout",
          "output_type": "stream",
          "text": [
            "66/66 [==============================] - 8s 119ms/step - loss: 0.0826 - categorical_accuracy: 0.0910 - val_loss: 0.0826 - val_categorical_accuracy: 0.1121\n"
          ]
        },
        {
          "metadata": {
            "tags": null
          },
          "name": "stderr",
          "output_type": "stream",
          "text": [
            "\r 17%|█▋        | 17/100 [02:59<15:03, 10.88s/it]"
          ]
        },
        {
          "metadata": {
            "tags": null
          },
          "name": "stdout",
          "output_type": "stream",
          "text": [
            "66/66 [==============================] - 8s 118ms/step - loss: 0.0826 - categorical_accuracy: 0.0913 - val_loss: 0.0827 - val_categorical_accuracy: 0.1293\n"
          ]
        },
        {
          "metadata": {
            "tags": null
          },
          "name": "stderr",
          "output_type": "stream",
          "text": [
            "\r 18%|█▊        | 18/100 [03:08<13:55, 10.19s/it]"
          ]
        },
        {
          "metadata": {
            "tags": null
          },
          "name": "stdout",
          "output_type": "stream",
          "text": [
            "66/66 [==============================] - 8s 118ms/step - loss: 0.0826 - categorical_accuracy: 0.0918 - val_loss: 0.0827 - val_categorical_accuracy: 0.1357\n"
          ]
        },
        {
          "metadata": {
            "tags": null
          },
          "name": "stderr",
          "output_type": "stream",
          "text": [
            "\r 19%|█▉        | 19/100 [03:16<13:04,  9.69s/it]"
          ]
        },
        {
          "metadata": {
            "tags": null
          },
          "name": "stdout",
          "output_type": "stream",
          "text": [
            "66/66 [==============================] - 8s 118ms/step - loss: 0.0848 - categorical_accuracy: 0.1067 - val_loss: 0.0909 - val_categorical_accuracy: 0.0885\n"
          ]
        },
        {
          "metadata": {
            "tags": null
          },
          "name": "stderr",
          "output_type": "stream",
          "text": [
            "\r 20%|██        | 20/100 [03:25<12:26,  9.34s/it]"
          ]
        },
        {
          "metadata": {
            "tags": null
          },
          "name": "stdout",
          "output_type": "stream",
          "text": [
            "66/66 [==============================] - 7s 111ms/step - loss: 0.0909 - categorical_accuracy: 0.0887 - val_loss: 0.0909 - val_categorical_accuracy: 0.0885\n"
          ]
        },
        {
          "metadata": {
            "tags": null
          },
          "name": "stderr",
          "output_type": "stream",
          "text": [
            "\r 21%|██        | 21/100 [03:33<11:47,  8.96s/it]"
          ]
        },
        {
          "metadata": {
            "tags": null
          },
          "name": "stdout",
          "output_type": "stream",
          "text": [
            "66/66 [==============================] - 7s 111ms/step - loss: 0.0909 - categorical_accuracy: 0.0887 - val_loss: 0.0909 - val_categorical_accuracy: 0.0882\n"
          ]
        },
        {
          "metadata": {
            "tags": null
          },
          "name": "stderr",
          "output_type": "stream",
          "text": [
            "\r 22%|██▏       | 22/100 [03:41<11:22,  8.75s/it]"
          ]
        },
        {
          "metadata": {
            "tags": null
          },
          "name": "stdout",
          "output_type": "stream",
          "text": [
            "66/66 [==============================] - 7s 111ms/step - loss: 0.0909 - categorical_accuracy: 0.0887 - val_loss: 0.0909 - val_categorical_accuracy: 0.0885\n"
          ]
        },
        {
          "metadata": {
            "tags": null
          },
          "name": "stderr",
          "output_type": "stream",
          "text": [
            "\r 23%|██▎       | 23/100 [03:52<12:05,  9.42s/it]"
          ]
        },
        {
          "metadata": {
            "tags": null
          },
          "name": "stdout",
          "output_type": "stream",
          "text": [
            "66/66 [==============================] - 7s 110ms/step - loss: 0.0909 - categorical_accuracy: 0.0887 - val_loss: 0.0909 - val_categorical_accuracy: 0.0885\n"
          ]
        },
        {
          "metadata": {
            "tags": null
          },
          "name": "stderr",
          "output_type": "stream",
          "text": [
            "\r 24%|██▍       | 24/100 [04:03<12:31,  9.89s/it]"
          ]
        },
        {
          "metadata": {
            "tags": null
          },
          "name": "stdout",
          "output_type": "stream",
          "text": [
            "66/66 [==============================] - 7s 110ms/step - loss: 0.0909 - categorical_accuracy: 0.0887 - val_loss: 0.0909 - val_categorical_accuracy: 0.0884\n"
          ]
        },
        {
          "metadata": {
            "tags": null
          },
          "name": "stderr",
          "output_type": "stream",
          "text": [
            "\r 25%|██▌       | 25/100 [04:11<11:41,  9.35s/it]"
          ]
        },
        {
          "metadata": {
            "tags": null
          },
          "name": "stdout",
          "output_type": "stream",
          "text": [
            "66/66 [==============================] - 8s 115ms/step - loss: 0.0909 - categorical_accuracy: 0.0887 - val_loss: 0.0909 - val_categorical_accuracy: 0.0884\n"
          ]
        },
        {
          "metadata": {
            "tags": null
          },
          "name": "stderr",
          "output_type": "stream",
          "text": [
            "\r 26%|██▌       | 26/100 [04:20<11:14,  9.11s/it]"
          ]
        },
        {
          "metadata": {
            "tags": null
          },
          "name": "stdout",
          "output_type": "stream",
          "text": [
            "66/66 [==============================] - 7s 112ms/step - loss: 0.0909 - categorical_accuracy: 0.0887 - val_loss: 0.0909 - val_categorical_accuracy: 0.0885\n"
          ]
        },
        {
          "metadata": {
            "tags": null
          },
          "name": "stderr",
          "output_type": "stream",
          "text": [
            "\r 27%|██▋       | 27/100 [04:31<11:46,  9.68s/it]"
          ]
        },
        {
          "metadata": {
            "tags": null
          },
          "name": "stdout",
          "output_type": "stream",
          "text": [
            "66/66 [==============================] - 7s 111ms/step - loss: 0.0909 - categorical_accuracy: 0.0887 - val_loss: 0.0909 - val_categorical_accuracy: 0.0885\n"
          ]
        },
        {
          "metadata": {
            "tags": null
          },
          "name": "stderr",
          "output_type": "stream",
          "text": [
            "\r 28%|██▊       | 28/100 [04:39<11:04,  9.23s/it]"
          ]
        },
        {
          "metadata": {
            "tags": null
          },
          "name": "stdout",
          "output_type": "stream",
          "text": [
            "66/66 [==============================] - 7s 111ms/step - loss: 0.0909 - categorical_accuracy: 0.0887 - val_loss: 0.0909 - val_categorical_accuracy: 0.0885\n"
          ]
        },
        {
          "metadata": {
            "tags": null
          },
          "name": "stderr",
          "output_type": "stream",
          "text": [
            "\r 29%|██▉       | 29/100 [04:50<11:32,  9.75s/it]"
          ]
        },
        {
          "metadata": {
            "tags": null
          },
          "name": "stdout",
          "output_type": "stream",
          "text": [
            "66/66 [==============================] - 8s 115ms/step - loss: 0.0909 - categorical_accuracy: 0.0887 - val_loss: 0.0909 - val_categorical_accuracy: 0.0885\n"
          ]
        },
        {
          "metadata": {
            "tags": null
          },
          "name": "stderr",
          "output_type": "stream",
          "text": [
            "\r 30%|███       | 30/100 [05:01<11:49, 10.13s/it]"
          ]
        },
        {
          "metadata": {
            "tags": null
          },
          "name": "stdout",
          "output_type": "stream",
          "text": [
            "66/66 [==============================] - 7s 110ms/step - loss: 0.0909 - categorical_accuracy: 0.0887 - val_loss: 0.0909 - val_categorical_accuracy: 0.0885\n"
          ]
        },
        {
          "metadata": {
            "tags": null
          },
          "name": "stderr",
          "output_type": "stream",
          "text": [
            "\r 31%|███       | 31/100 [05:12<11:56, 10.39s/it]"
          ]
        },
        {
          "metadata": {
            "tags": null
          },
          "name": "stdout",
          "output_type": "stream",
          "text": [
            "66/66 [==============================] - 7s 110ms/step - loss: 0.0909 - categorical_accuracy: 0.0887 - val_loss: 0.0909 - val_categorical_accuracy: 0.0885\n"
          ]
        },
        {
          "metadata": {
            "tags": null
          },
          "name": "stderr",
          "output_type": "stream",
          "text": [
            "\r 32%|███▏      | 32/100 [05:20<10:59,  9.69s/it]"
          ]
        },
        {
          "metadata": {
            "tags": null
          },
          "name": "stdout",
          "output_type": "stream",
          "text": [
            "66/66 [==============================] - 7s 111ms/step - loss: 0.0909 - categorical_accuracy: 0.0887 - val_loss: 0.0909 - val_categorical_accuracy: 0.0885\n"
          ]
        },
        {
          "metadata": {
            "tags": null
          },
          "name": "stderr",
          "output_type": "stream",
          "text": [
            "\r 33%|███▎      | 33/100 [05:31<11:20, 10.16s/it]"
          ]
        },
        {
          "metadata": {
            "tags": null
          },
          "name": "stdout",
          "output_type": "stream",
          "text": [
            "66/66 [==============================] - 7s 111ms/step - loss: 0.0909 - categorical_accuracy: 0.0887 - val_loss: 0.0909 - val_categorical_accuracy: 0.0885\n"
          ]
        },
        {
          "metadata": {
            "tags": null
          },
          "name": "stderr",
          "output_type": "stream",
          "text": [
            "\r 34%|███▍      | 34/100 [05:39<10:29,  9.54s/it]"
          ]
        },
        {
          "metadata": {
            "tags": null
          },
          "name": "stdout",
          "output_type": "stream",
          "text": [
            "66/66 [==============================] - 7s 111ms/step - loss: 0.0909 - categorical_accuracy: 0.0887 - val_loss: 0.0909 - val_categorical_accuracy: 0.0885\n"
          ]
        },
        {
          "metadata": {
            "tags": null
          },
          "name": "stderr",
          "output_type": "stream",
          "text": [
            "\r 35%|███▌      | 35/100 [05:47<09:51,  9.10s/it]"
          ]
        },
        {
          "metadata": {
            "tags": null
          },
          "name": "stdout",
          "output_type": "stream",
          "text": [
            "66/66 [==============================] - 7s 111ms/step - loss: 0.0909 - categorical_accuracy: 0.0887 - val_loss: 0.0909 - val_categorical_accuracy: 0.0885\n"
          ]
        },
        {
          "metadata": {
            "tags": null
          },
          "name": "stderr",
          "output_type": "stream",
          "text": [
            "\r 36%|███▌      | 36/100 [05:58<10:20,  9.69s/it]"
          ]
        },
        {
          "metadata": {
            "tags": null
          },
          "name": "stdout",
          "output_type": "stream",
          "text": [
            "66/66 [==============================] - 7s 110ms/step - loss: 0.0909 - categorical_accuracy: 0.0887 - val_loss: 0.0909 - val_categorical_accuracy: 0.0885\n"
          ]
        },
        {
          "metadata": {
            "tags": null
          },
          "name": "stderr",
          "output_type": "stream",
          "text": [
            "\r 37%|███▋      | 37/100 [06:09<10:35, 10.08s/it]"
          ]
        },
        {
          "metadata": {
            "tags": null
          },
          "name": "stdout",
          "output_type": "stream",
          "text": [
            "66/66 [==============================] - 7s 110ms/step - loss: 0.0909 - categorical_accuracy: 0.0887 - val_loss: 0.0909 - val_categorical_accuracy: 0.0885\n"
          ]
        },
        {
          "metadata": {
            "tags": null
          },
          "name": "stderr",
          "output_type": "stream",
          "text": [
            "\r 38%|███▊      | 38/100 [06:21<10:43, 10.38s/it]"
          ]
        },
        {
          "metadata": {
            "tags": null
          },
          "name": "stdout",
          "output_type": "stream",
          "text": [
            "66/66 [==============================] - 7s 110ms/step - loss: 0.0909 - categorical_accuracy: 0.0887 - val_loss: 0.0909 - val_categorical_accuracy: 0.0885\n"
          ]
        },
        {
          "metadata": {
            "tags": null
          },
          "name": "stderr",
          "output_type": "stream",
          "text": [
            "\r 39%|███▉      | 39/100 [06:32<10:44, 10.57s/it]"
          ]
        },
        {
          "metadata": {
            "tags": null
          },
          "name": "stdout",
          "output_type": "stream",
          "text": [
            "66/66 [==============================] - 7s 110ms/step - loss: 0.0909 - categorical_accuracy: 0.0887 - val_loss: 0.0909 - val_categorical_accuracy: 0.0885\n"
          ]
        },
        {
          "metadata": {
            "tags": null
          },
          "name": "stderr",
          "output_type": "stream",
          "text": [
            "\r 40%|████      | 40/100 [06:40<09:49,  9.83s/it]"
          ]
        },
        {
          "metadata": {
            "tags": null
          },
          "name": "stdout",
          "output_type": "stream",
          "text": [
            "66/66 [==============================] - 7s 111ms/step - loss: 0.0909 - categorical_accuracy: 0.0887 - val_loss: 0.0909 - val_categorical_accuracy: 0.0885\n"
          ]
        },
        {
          "metadata": {
            "tags": null
          },
          "name": "stderr",
          "output_type": "stream",
          "text": [
            "\r 41%|████      | 41/100 [06:51<10:00, 10.18s/it]"
          ]
        },
        {
          "metadata": {
            "tags": null
          },
          "name": "stdout",
          "output_type": "stream",
          "text": [
            "66/66 [==============================] - 7s 111ms/step - loss: 0.0909 - categorical_accuracy: 0.0887 - val_loss: 0.0909 - val_categorical_accuracy: 0.0885\n"
          ]
        },
        {
          "metadata": {
            "tags": null
          },
          "name": "stderr",
          "output_type": "stream",
          "text": [
            "\r 42%|████▏     | 42/100 [07:02<10:05, 10.44s/it]"
          ]
        },
        {
          "output_type": "stream",
          "name": "stdout",
          "text": [
            "66/66 [==============================] - 7s 110ms/step - loss: 0.0909 - categorical_accuracy: 0.0887 - val_loss: 0.0909 - val_categorical_accuracy: 0.0885\n"
          ]
        },
        {
          "output_type": "stream",
          "name": "stderr",
          "text": [
            "\r 43%|████▎     | 43/100 [07:10<09:15,  9.74s/it]"
          ]
        },
        {
          "output_type": "stream",
          "name": "stdout",
          "text": [
            "66/66 [==============================] - 7s 111ms/step - loss: 0.0909 - categorical_accuracy: 0.0887 - val_loss: 0.0909 - val_categorical_accuracy: 0.0885\n"
          ]
        },
        {
          "output_type": "stream",
          "name": "stderr",
          "text": [
            "\r 44%|████▍     | 44/100 [07:21<09:26, 10.12s/it]"
          ]
        },
        {
          "output_type": "stream",
          "name": "stdout",
          "text": [
            "66/66 [==============================] - 7s 110ms/step - loss: 0.0909 - categorical_accuracy: 0.0887 - val_loss: 0.0909 - val_categorical_accuracy: 0.0885\n"
          ]
        },
        {
          "output_type": "stream",
          "name": "stderr",
          "text": [
            "\r 45%|████▌     | 45/100 [07:29<08:43,  9.52s/it]"
          ]
        },
        {
          "output_type": "stream",
          "name": "stdout",
          "text": [
            "66/66 [==============================] - 7s 111ms/step - loss: 0.0909 - categorical_accuracy: 0.0887 - val_loss: 0.0909 - val_categorical_accuracy: 0.0885\n"
          ]
        },
        {
          "output_type": "stream",
          "name": "stderr",
          "text": [
            "\r 46%|████▌     | 46/100 [07:40<09:03, 10.07s/it]"
          ]
        },
        {
          "output_type": "stream",
          "name": "stdout",
          "text": [
            "66/66 [==============================] - 7s 111ms/step - loss: 0.0909 - categorical_accuracy: 0.0887 - val_loss: 0.0909 - val_categorical_accuracy: 0.0885\n"
          ]
        },
        {
          "output_type": "stream",
          "name": "stderr",
          "text": [
            "\r 47%|████▋     | 47/100 [07:48<08:22,  9.48s/it]"
          ]
        },
        {
          "output_type": "stream",
          "name": "stdout",
          "text": [
            "66/66 [==============================] - 7s 111ms/step - loss: 0.0909 - categorical_accuracy: 0.0887 - val_loss: 0.0909 - val_categorical_accuracy: 0.0885\n"
          ]
        },
        {
          "output_type": "stream",
          "name": "stderr",
          "text": [
            "\r 48%|████▊     | 48/100 [07:59<08:36,  9.93s/it]"
          ]
        },
        {
          "output_type": "stream",
          "name": "stdout",
          "text": [
            "66/66 [==============================] - 8s 116ms/step - loss: 0.0909 - categorical_accuracy: 0.0887 - val_loss: 0.0909 - val_categorical_accuracy: 0.0885\n"
          ]
        },
        {
          "output_type": "stream",
          "name": "stderr",
          "text": [
            "\r 49%|████▉     | 49/100 [08:10<08:42, 10.25s/it]"
          ]
        },
        {
          "output_type": "stream",
          "name": "stdout",
          "text": [
            "66/66 [==============================] - 8s 116ms/step - loss: 0.0909 - categorical_accuracy: 0.0887 - val_loss: 0.0909 - val_categorical_accuracy: 0.0885\n"
          ]
        },
        {
          "output_type": "stream",
          "name": "stderr",
          "text": [
            "\r 50%|█████     | 50/100 [08:21<08:43, 10.47s/it]"
          ]
        },
        {
          "output_type": "stream",
          "name": "stdout",
          "text": [
            "66/66 [==============================] - 7s 111ms/step - loss: 0.0909 - categorical_accuracy: 0.0887 - val_loss: 0.0909 - val_categorical_accuracy: 0.0885\n"
          ]
        },
        {
          "output_type": "stream",
          "name": "stderr",
          "text": [
            "\r 51%|█████     | 51/100 [08:30<07:59,  9.78s/it]"
          ]
        },
        {
          "output_type": "stream",
          "name": "stdout",
          "text": [
            "66/66 [==============================] - 7s 111ms/step - loss: 0.0909 - categorical_accuracy: 0.0887 - val_loss: 0.0909 - val_categorical_accuracy: 0.0885\n"
          ]
        },
        {
          "output_type": "stream",
          "name": "stderr",
          "text": [
            "\r 52%|█████▏    | 52/100 [08:38<07:30,  9.39s/it]"
          ]
        },
        {
          "output_type": "stream",
          "name": "stdout",
          "text": [
            "66/66 [==============================] - 7s 112ms/step - loss: 0.0909 - categorical_accuracy: 0.0887 - val_loss: 0.0909 - val_categorical_accuracy: 0.0885\n"
          ]
        },
        {
          "output_type": "stream",
          "name": "stderr",
          "text": [
            "\r 53%|█████▎    | 53/100 [08:49<07:43,  9.87s/it]"
          ]
        },
        {
          "output_type": "stream",
          "name": "stdout",
          "text": [
            "66/66 [==============================] - 7s 111ms/step - loss: 0.0909 - categorical_accuracy: 0.0887 - val_loss: 0.0909 - val_categorical_accuracy: 0.0883\n"
          ]
        },
        {
          "output_type": "stream",
          "name": "stderr",
          "text": [
            "\r 54%|█████▍    | 54/100 [09:00<07:49, 10.20s/it]"
          ]
        },
        {
          "output_type": "stream",
          "name": "stdout",
          "text": [
            "66/66 [==============================] - 7s 111ms/step - loss: 0.0909 - categorical_accuracy: 0.0886 - val_loss: 0.0909 - val_categorical_accuracy: 0.0885\n"
          ]
        },
        {
          "output_type": "stream",
          "name": "stderr",
          "text": [
            "\r 55%|█████▌    | 55/100 [09:11<07:49, 10.44s/it]"
          ]
        },
        {
          "output_type": "stream",
          "name": "stdout",
          "text": [
            "66/66 [==============================] - 7s 111ms/step - loss: 0.0909 - categorical_accuracy: 0.0887 - val_loss: 0.0909 - val_categorical_accuracy: 0.0885\n"
          ]
        },
        {
          "output_type": "stream",
          "name": "stderr",
          "text": [
            "\r 56%|█████▌    | 56/100 [09:19<07:09,  9.76s/it]"
          ]
        },
        {
          "output_type": "stream",
          "name": "stdout",
          "text": [
            "66/66 [==============================] - 7s 111ms/step - loss: 0.0909 - categorical_accuracy: 0.0887 - val_loss: 0.0909 - val_categorical_accuracy: 0.0885\n"
          ]
        },
        {
          "output_type": "stream",
          "name": "stderr",
          "text": [
            "\r 57%|█████▋    | 57/100 [09:27<06:38,  9.26s/it]"
          ]
        },
        {
          "output_type": "stream",
          "name": "stdout",
          "text": [
            "66/66 [==============================] - 7s 112ms/step - loss: 0.0909 - categorical_accuracy: 0.0887 - val_loss: 0.0909 - val_categorical_accuracy: 0.0884\n"
          ]
        },
        {
          "output_type": "stream",
          "name": "stderr",
          "text": [
            "\r 58%|█████▊    | 58/100 [09:38<06:50,  9.78s/it]"
          ]
        },
        {
          "output_type": "stream",
          "name": "stdout",
          "text": [
            "66/66 [==============================] - 7s 111ms/step - loss: 0.0909 - categorical_accuracy: 0.0887 - val_loss: 0.0909 - val_categorical_accuracy: 0.0885\n"
          ]
        },
        {
          "output_type": "stream",
          "name": "stderr",
          "text": [
            "\r 59%|█████▉    | 59/100 [09:49<06:55, 10.14s/it]"
          ]
        },
        {
          "output_type": "stream",
          "name": "stdout",
          "text": [
            "66/66 [==============================] - 7s 111ms/step - loss: 0.0909 - categorical_accuracy: 0.0887 - val_loss: 0.0909 - val_categorical_accuracy: 0.0885\n"
          ]
        },
        {
          "output_type": "stream",
          "name": "stderr",
          "text": [
            "\r 60%|██████    | 60/100 [09:57<06:21,  9.53s/it]"
          ]
        },
        {
          "output_type": "stream",
          "name": "stdout",
          "text": [
            "66/66 [==============================] - 7s 111ms/step - loss: 0.0909 - categorical_accuracy: 0.0887 - val_loss: 0.0909 - val_categorical_accuracy: 0.0885\n"
          ]
        },
        {
          "output_type": "stream",
          "name": "stderr",
          "text": [
            "\r 61%|██████    | 61/100 [10:08<06:28,  9.97s/it]"
          ]
        },
        {
          "output_type": "stream",
          "name": "stdout",
          "text": [
            "66/66 [==============================] - 8s 115ms/step - loss: 0.0909 - categorical_accuracy: 0.0887 - val_loss: 0.0909 - val_categorical_accuracy: 0.0885\n"
          ]
        },
        {
          "output_type": "stream",
          "name": "stderr",
          "text": [
            "\r 62%|██████▏   | 62/100 [10:17<06:00,  9.49s/it]"
          ]
        },
        {
          "output_type": "stream",
          "name": "stdout",
          "text": [
            "66/66 [==============================] - 7s 111ms/step - loss: 0.0909 - categorical_accuracy: 0.0887 - val_loss: 0.0909 - val_categorical_accuracy: 0.0885\n"
          ]
        },
        {
          "output_type": "stream",
          "name": "stderr",
          "text": [
            "\r 63%|██████▎   | 63/100 [10:25<05:39,  9.18s/it]"
          ]
        },
        {
          "output_type": "stream",
          "name": "stdout",
          "text": [
            "66/66 [==============================] - 7s 111ms/step - loss: 0.0909 - categorical_accuracy: 0.0887 - val_loss: 0.0909 - val_categorical_accuracy: 0.0885\n"
          ]
        },
        {
          "output_type": "stream",
          "name": "stderr",
          "text": [
            "\r 64%|██████▍   | 64/100 [10:36<05:50,  9.73s/it]"
          ]
        },
        {
          "output_type": "stream",
          "name": "stdout",
          "text": [
            "66/66 [==============================] - 7s 111ms/step - loss: 0.0909 - categorical_accuracy: 0.0887 - val_loss: 0.0909 - val_categorical_accuracy: 0.0885\n"
          ]
        },
        {
          "output_type": "stream",
          "name": "stderr",
          "text": [
            "\r 65%|██████▌   | 65/100 [10:47<05:53, 10.10s/it]"
          ]
        },
        {
          "output_type": "stream",
          "name": "stdout",
          "text": [
            "66/66 [==============================] - 7s 110ms/step - loss: 0.0909 - categorical_accuracy: 0.0887 - val_loss: 0.0909 - val_categorical_accuracy: 0.0885\n"
          ]
        },
        {
          "output_type": "stream",
          "name": "stderr",
          "text": [
            "\r 66%|██████▌   | 66/100 [10:55<05:22,  9.49s/it]"
          ]
        },
        {
          "output_type": "stream",
          "name": "stdout",
          "text": [
            "66/66 [==============================] - 8s 115ms/step - loss: 0.0909 - categorical_accuracy: 0.0887 - val_loss: 0.0909 - val_categorical_accuracy: 0.0885\n"
          ]
        },
        {
          "output_type": "stream",
          "name": "stderr",
          "text": [
            "\r 67%|██████▋   | 67/100 [11:06<05:27,  9.94s/it]"
          ]
        },
        {
          "output_type": "stream",
          "name": "stdout",
          "text": [
            "66/66 [==============================] - 7s 111ms/step - loss: 0.0909 - categorical_accuracy: 0.0887 - val_loss: 0.0909 - val_categorical_accuracy: 0.0885\n"
          ]
        },
        {
          "output_type": "stream",
          "name": "stderr",
          "text": [
            "\r 68%|██████▊   | 68/100 [11:14<05:00,  9.39s/it]"
          ]
        },
        {
          "output_type": "stream",
          "name": "stdout",
          "text": [
            "66/66 [==============================] - 8s 116ms/step - loss: 0.0909 - categorical_accuracy: 0.0887 - val_loss: 0.0909 - val_categorical_accuracy: 0.0884\n"
          ]
        },
        {
          "output_type": "stream",
          "name": "stderr",
          "text": [
            "\r 69%|██████▉   | 69/100 [11:23<04:42,  9.13s/it]"
          ]
        },
        {
          "output_type": "stream",
          "name": "stdout",
          "text": [
            "66/66 [==============================] - 8s 116ms/step - loss: 0.0909 - categorical_accuracy: 0.0887 - val_loss: 0.0909 - val_categorical_accuracy: 0.0885\n"
          ]
        },
        {
          "output_type": "stream",
          "name": "stderr",
          "text": [
            "\r 70%|███████   | 70/100 [11:34<04:50,  9.68s/it]"
          ]
        },
        {
          "output_type": "stream",
          "name": "stdout",
          "text": [
            "66/66 [==============================] - 7s 111ms/step - loss: 0.0909 - categorical_accuracy: 0.0887 - val_loss: 0.0909 - val_categorical_accuracy: 0.0885\n"
          ]
        },
        {
          "output_type": "stream",
          "name": "stderr",
          "text": [
            "\r 71%|███████   | 71/100 [11:45<04:52, 10.08s/it]"
          ]
        },
        {
          "output_type": "stream",
          "name": "stdout",
          "text": [
            "66/66 [==============================] - 7s 111ms/step - loss: 0.0909 - categorical_accuracy: 0.0887 - val_loss: 0.0909 - val_categorical_accuracy: 0.0885\n"
          ]
        },
        {
          "output_type": "stream",
          "name": "stderr",
          "text": [
            "\r 72%|███████▏  | 72/100 [11:53<04:25,  9.48s/it]"
          ]
        },
        {
          "output_type": "stream",
          "name": "stdout",
          "text": [
            "66/66 [==============================] - 7s 111ms/step - loss: 0.0909 - categorical_accuracy: 0.0887 - val_loss: 0.0909 - val_categorical_accuracy: 0.0885\n"
          ]
        },
        {
          "output_type": "stream",
          "name": "stderr",
          "text": [
            "\r 73%|███████▎  | 73/100 [12:04<04:28,  9.94s/it]"
          ]
        },
        {
          "output_type": "stream",
          "name": "stdout",
          "text": [
            "66/66 [==============================] - 7s 110ms/step - loss: 0.0909 - categorical_accuracy: 0.0887 - val_loss: 0.0909 - val_categorical_accuracy: 0.0885\n"
          ]
        },
        {
          "output_type": "stream",
          "name": "stderr",
          "text": [
            "\r 74%|███████▍  | 74/100 [12:15<04:26, 10.25s/it]"
          ]
        },
        {
          "output_type": "stream",
          "name": "stdout",
          "text": [
            "66/66 [==============================] - 7s 111ms/step - loss: 0.0909 - categorical_accuracy: 0.0887 - val_loss: 0.0909 - val_categorical_accuracy: 0.0883\n"
          ]
        },
        {
          "output_type": "stream",
          "name": "stderr",
          "text": [
            "\r 75%|███████▌  | 75/100 [12:23<04:00,  9.61s/it]"
          ]
        },
        {
          "output_type": "stream",
          "name": "stdout",
          "text": [
            "66/66 [==============================] - 7s 111ms/step - loss: 0.0909 - categorical_accuracy: 0.0887 - val_loss: 0.0909 - val_categorical_accuracy: 0.0885\n"
          ]
        },
        {
          "output_type": "stream",
          "name": "stderr",
          "text": [
            "\r 76%|███████▌  | 76/100 [12:31<03:39,  9.15s/it]"
          ]
        },
        {
          "output_type": "stream",
          "name": "stdout",
          "text": [
            "66/66 [==============================] - 7s 112ms/step - loss: 0.0909 - categorical_accuracy: 0.0887 - val_loss: 0.0909 - val_categorical_accuracy: 0.0885\n"
          ]
        },
        {
          "output_type": "stream",
          "name": "stderr",
          "text": [
            "\r 77%|███████▋  | 77/100 [12:42<03:43,  9.71s/it]"
          ]
        },
        {
          "output_type": "stream",
          "name": "stdout",
          "text": [
            "66/66 [==============================] - 8s 115ms/step - loss: 0.0909 - categorical_accuracy: 0.0887 - val_loss: 0.0909 - val_categorical_accuracy: 0.0885\n"
          ]
        },
        {
          "output_type": "stream",
          "name": "stderr",
          "text": [
            "\r 78%|███████▊  | 78/100 [12:53<03:41, 10.09s/it]"
          ]
        },
        {
          "output_type": "stream",
          "name": "stdout",
          "text": [
            "66/66 [==============================] - 8s 115ms/step - loss: 0.0909 - categorical_accuracy: 0.0887 - val_loss: 0.0909 - val_categorical_accuracy: 0.0885\n"
          ]
        },
        {
          "output_type": "stream",
          "name": "stderr",
          "text": [
            "\r 79%|███████▉  | 79/100 [13:01<03:21,  9.58s/it]"
          ]
        },
        {
          "output_type": "stream",
          "name": "stdout",
          "text": [
            "66/66 [==============================] - 7s 110ms/step - loss: 0.0909 - categorical_accuracy: 0.0887 - val_loss: 0.0909 - val_categorical_accuracy: 0.0885\n"
          ]
        },
        {
          "output_type": "stream",
          "name": "stderr",
          "text": [
            "\r 80%|████████  | 80/100 [13:10<03:04,  9.20s/it]"
          ]
        },
        {
          "output_type": "stream",
          "name": "stdout",
          "text": [
            "66/66 [==============================] - 8s 116ms/step - loss: 0.0909 - categorical_accuracy: 0.0887 - val_loss: 0.0909 - val_categorical_accuracy: 0.0885\n"
          ]
        },
        {
          "output_type": "stream",
          "name": "stderr",
          "text": [
            "\r 81%|████████  | 81/100 [13:21<03:05,  9.74s/it]"
          ]
        },
        {
          "output_type": "stream",
          "name": "stdout",
          "text": [
            "66/66 [==============================] - 7s 111ms/step - loss: 0.0909 - categorical_accuracy: 0.0887 - val_loss: 0.0909 - val_categorical_accuracy: 0.0885\n"
          ]
        },
        {
          "output_type": "stream",
          "name": "stderr",
          "text": [
            "\r 82%|████████▏ | 82/100 [13:32<03:02, 10.12s/it]"
          ]
        },
        {
          "output_type": "stream",
          "name": "stdout",
          "text": [
            "66/66 [==============================] - 7s 111ms/step - loss: 0.0909 - categorical_accuracy: 0.0887 - val_loss: 0.0909 - val_categorical_accuracy: 0.0883\n"
          ]
        },
        {
          "output_type": "stream",
          "name": "stderr",
          "text": [
            "\r 83%|████████▎ | 83/100 [13:40<02:42,  9.53s/it]"
          ]
        },
        {
          "output_type": "stream",
          "name": "stdout",
          "text": [
            "66/66 [==============================] - 7s 111ms/step - loss: 0.0909 - categorical_accuracy: 0.0887 - val_loss: 0.0909 - val_categorical_accuracy: 0.0885\n"
          ]
        },
        {
          "output_type": "stream",
          "name": "stderr",
          "text": [
            "\r 84%|████████▍ | 84/100 [13:48<02:25,  9.10s/it]"
          ]
        },
        {
          "output_type": "stream",
          "name": "stdout",
          "text": [
            "66/66 [==============================] - 7s 111ms/step - loss: 0.0909 - categorical_accuracy: 0.0887 - val_loss: 0.0909 - val_categorical_accuracy: 0.0885\n"
          ]
        },
        {
          "output_type": "stream",
          "name": "stderr",
          "text": [
            "\r 85%|████████▌ | 85/100 [13:56<02:13,  8.90s/it]"
          ]
        },
        {
          "output_type": "stream",
          "name": "stdout",
          "text": [
            "66/66 [==============================] - 7s 112ms/step - loss: 0.0909 - categorical_accuracy: 0.0887 - val_loss: 0.0909 - val_categorical_accuracy: 0.0885\n"
          ]
        },
        {
          "output_type": "stream",
          "name": "stderr",
          "text": [
            "\r 86%|████████▌ | 86/100 [14:04<02:01,  8.66s/it]"
          ]
        },
        {
          "output_type": "stream",
          "name": "stdout",
          "text": [
            "66/66 [==============================] - 8s 116ms/step - loss: 0.0909 - categorical_accuracy: 0.0887 - val_loss: 0.0909 - val_categorical_accuracy: 0.0885\n"
          ]
        },
        {
          "output_type": "stream",
          "name": "stderr",
          "text": [
            "\r 87%|████████▋ | 87/100 [14:13<01:51,  8.59s/it]"
          ]
        },
        {
          "output_type": "stream",
          "name": "stdout",
          "text": [
            "66/66 [==============================] - 7s 110ms/step - loss: 0.0909 - categorical_accuracy: 0.0887 - val_loss: 0.0909 - val_categorical_accuracy: 0.0885\n"
          ]
        },
        {
          "output_type": "stream",
          "name": "stderr",
          "text": [
            "\r 88%|████████▊ | 88/100 [14:21<01:41,  8.48s/it]"
          ]
        },
        {
          "output_type": "stream",
          "name": "stdout",
          "text": [
            "66/66 [==============================] - 7s 111ms/step - loss: 0.0909 - categorical_accuracy: 0.0887 - val_loss: 0.0909 - val_categorical_accuracy: 0.0885\n"
          ]
        },
        {
          "output_type": "stream",
          "name": "stderr",
          "text": [
            "\r 89%|████████▉ | 89/100 [14:32<01:41,  9.24s/it]"
          ]
        },
        {
          "output_type": "stream",
          "name": "stdout",
          "text": [
            "66/66 [==============================] - 8s 115ms/step - loss: 0.0909 - categorical_accuracy: 0.0887 - val_loss: 0.0909 - val_categorical_accuracy: 0.0885\n"
          ]
        },
        {
          "output_type": "stream",
          "name": "stderr",
          "text": [
            "\r 90%|█████████ | 90/100 [14:43<01:37,  9.76s/it]"
          ]
        },
        {
          "output_type": "stream",
          "name": "stdout",
          "text": [
            "66/66 [==============================] - 7s 110ms/step - loss: 0.0909 - categorical_accuracy: 0.0887 - val_loss: 0.0909 - val_categorical_accuracy: 0.0885\n"
          ]
        },
        {
          "output_type": "stream",
          "name": "stderr",
          "text": [
            "\r 91%|█████████ | 91/100 [14:54<01:31, 10.14s/it]"
          ]
        },
        {
          "output_type": "stream",
          "name": "stdout",
          "text": [
            "66/66 [==============================] - 7s 111ms/step - loss: 0.0909 - categorical_accuracy: 0.0887 - val_loss: 0.0909 - val_categorical_accuracy: 0.0885\n"
          ]
        },
        {
          "output_type": "stream",
          "name": "stderr",
          "text": [
            "\r 92%|█████████▏| 92/100 [15:05<01:23, 10.39s/it]"
          ]
        },
        {
          "output_type": "stream",
          "name": "stdout",
          "text": [
            "66/66 [==============================] - 7s 112ms/step - loss: 0.0909 - categorical_accuracy: 0.0886 - val_loss: 0.0909 - val_categorical_accuracy: 0.0885\n"
          ]
        },
        {
          "output_type": "stream",
          "name": "stderr",
          "text": [
            "\r 93%|█████████▎| 93/100 [15:16<01:14, 10.58s/it]"
          ]
        },
        {
          "output_type": "stream",
          "name": "stdout",
          "text": [
            "66/66 [==============================] - 8s 117ms/step - loss: 0.0909 - categorical_accuracy: 0.0887 - val_loss: 0.0909 - val_categorical_accuracy: 0.0884\n"
          ]
        },
        {
          "output_type": "stream",
          "name": "stderr",
          "text": [
            "\r 94%|█████████▍| 94/100 [15:27<01:04, 10.70s/it]"
          ]
        },
        {
          "output_type": "stream",
          "name": "stdout",
          "text": [
            "66/66 [==============================] - 8s 116ms/step - loss: 0.0909 - categorical_accuracy: 0.0887 - val_loss: 0.0909 - val_categorical_accuracy: 0.0885\n"
          ]
        },
        {
          "output_type": "stream",
          "name": "stderr",
          "text": [
            "\r 95%|█████████▌| 95/100 [15:36<00:50, 10.02s/it]"
          ]
        },
        {
          "output_type": "stream",
          "name": "stdout",
          "text": [
            "66/66 [==============================] - 8s 116ms/step - loss: 0.0909 - categorical_accuracy: 0.0887 - val_loss: 0.0909 - val_categorical_accuracy: 0.0885\n"
          ]
        },
        {
          "output_type": "stream",
          "name": "stderr",
          "text": [
            "\r 96%|█████████▌| 96/100 [15:47<00:41, 10.42s/it]"
          ]
        },
        {
          "output_type": "stream",
          "name": "stdout",
          "text": [
            "66/66 [==============================] - 8s 115ms/step - loss: 0.0909 - categorical_accuracy: 0.0887 - val_loss: 0.0909 - val_categorical_accuracy: 0.0885\n"
          ]
        },
        {
          "output_type": "stream",
          "name": "stderr",
          "text": [
            "\r 97%|█████████▋| 97/100 [15:56<00:29,  9.93s/it]"
          ]
        },
        {
          "output_type": "stream",
          "name": "stdout",
          "text": [
            "66/66 [==============================] - 7s 111ms/step - loss: 0.0909 - categorical_accuracy: 0.0887 - val_loss: 0.0909 - val_categorical_accuracy: 0.0885\n"
          ]
        },
        {
          "output_type": "stream",
          "name": "stderr",
          "text": [
            "\r 98%|█████████▊| 98/100 [16:04<00:18,  9.37s/it]"
          ]
        },
        {
          "output_type": "stream",
          "name": "stdout",
          "text": [
            "66/66 [==============================] - 8s 116ms/step - loss: 0.0909 - categorical_accuracy: 0.0887 - val_loss: 0.0909 - val_categorical_accuracy: 0.0885\n"
          ]
        },
        {
          "output_type": "stream",
          "name": "stderr",
          "text": [
            "\r 99%|█████████▉| 99/100 [16:15<00:09,  9.85s/it]"
          ]
        },
        {
          "output_type": "stream",
          "name": "stdout",
          "text": [
            "66/66 [==============================] - 7s 110ms/step - loss: 0.0909 - categorical_accuracy: 0.0887 - val_loss: 0.0909 - val_categorical_accuracy: 0.0885\n"
          ]
        },
        {
          "output_type": "stream",
          "name": "stderr",
          "text": [
            "100%|██████████| 100/100 [16:23<00:00,  9.83s/it]\n"
          ]
        }
      ],
      "source": [
        "from tqdm import tqdm\n",
        "\n",
        "checkpoint_path = \"training_1/val_loss.ckpt\"\n",
        "checkpoint_dir = os.path.dirname(checkpoint_path)\n",
        "\n",
        "csv_logger = CSVLogger('training_log.csv', append=True)\n",
        "\n",
        "# Create a callback that saves the model's weights\n",
        "cp_callback = tf.keras.callbacks.ModelCheckpoint(filepath=checkpoint_path,\n",
        "                                                 monitor = 'val_loss',\n",
        "                                                 verbose=1)\n",
        "\n",
        "# Train the model with the new callback\n",
        "for i in tqdm(range(100)):\n",
        "\n",
        "\n",
        "  X,y = add_non_numbers(xmm, trainy_new)\n",
        "\n",
        "  for i in range((X.shape[0])//2):\n",
        "    add_lines(X[i])\n",
        "\n",
        "  X,y = shuffle(X,y)\n",
        "\n",
        "\n",
        "  X_val,y_val = add_non_numbers(xmm_val, testy_new)\n",
        "\n",
        "  for i in range((X_val.shape[0])//2):\n",
        "    add_lines(X_val[i])\n",
        "\n",
        "  X_val,y_val = shuffle(X_val,y_val)\n",
        "\n",
        "\n",
        "  model.fit(X,\n",
        "    y,\n",
        "    epochs=1,\n",
        "    batch_size = 1000,\n",
        "    validation_data=(X_val, y_val),\n",
        "    callbacks=[csv_logger])"
      ]
    },
    {
      "cell_type": "code",
      "execution_count": null,
      "metadata": {
        "id": "wCONjn1gUSLc"
      },
      "outputs": [],
      "source": [
        "logs = pd.read_csv('training_log.csv')"
      ]
    },
    {
      "cell_type": "code",
      "execution_count": null,
      "metadata": {
        "colab": {
          "base_uri": "https://localhost:8080/"
        },
        "id": "KybBmhkCUqF1",
        "outputId": "a38c3b6b-c3a0-4acb-9076-d3807dec7b17"
      },
      "outputs": [
        {
          "output_type": "execute_result",
          "data": {
            "text/plain": [
              "0.9570909142494202"
            ]
          },
          "metadata": {},
          "execution_count": 68
        }
      ],
      "source": [
        "logs['val_categorical_accuracy'].max()"
      ]
    },
    {
      "cell_type": "code",
      "execution_count": null,
      "metadata": {
        "colab": {
          "base_uri": "https://localhost:8080/",
          "height": 547
        },
        "id": "h_asKhiFPVca",
        "outputId": "15de780c-b3be-4694-e24d-6a65693bce96"
      },
      "outputs": [
        {
          "output_type": "display_data",
          "data": {
            "text/plain": [
              "<Figure size 1000x600 with 1 Axes>"
            ],
            "image/png": "[encoded data removed]"
          },
          "metadata": {}
        }
      ],
      "source": [
        "plt.figure(figsize = (10,6))\n",
        "plt.plot(logs['val_categorical_accuracy'])\n",
        "plt.xlabel('Accuracy')\n",
        "plt.ylabel('Epochs')\n",
        "plt.show()"
      ]
    },
    {
      "cell_type": "code",
      "source": [
        "X_val,y_val = add_non_numbers(xmm_val, testy_new)\n",
        "\n",
        "for i in range((X_val.shape[0])//2):\n",
        "  add_lines(X_val[i])\n",
        "\n",
        "X_val,y_val = shuffle(X_val,y_val)"
      ],
      "metadata": {
        "id": "In0TP-b-J6XK"
      },
      "execution_count": null,
      "outputs": []
    },
    {
      "cell_type": "code",
      "execution_count": null,
      "metadata": {
        "colab": {
          "base_uri": "https://localhost:8080/"
        },
        "id": "FI1J926RPVca",
        "outputId": "00780a0e-7b03-4f19-8648-316484864bc2"
      },
      "outputs": [
        {
          "output_type": "stream",
          "name": "stdout",
          "text": [
            "344/344 [==============================] - 1s 4ms/step - loss: 0.0909 - categorical_accuracy: 0.0883\n"
          ]
        },
        {
          "output_type": "execute_result",
          "data": {
            "text/plain": [
              "[0.09090947359800339, 0.08827272802591324]"
            ]
          },
          "metadata": {},
          "execution_count": 71
        }
      ],
      "source": [
        "model.evaluate(X_val, y_val)"
      ]
    },
    {
      "cell_type": "code",
      "source": [
        "prediction = model.predict(X_val)"
      ],
      "metadata": {
        "colab": {
          "base_uri": "https://localhost:8080/"
        },
        "id": "G09ZGQFEKEdh",
        "outputId": "87458923-548e-4a22-8583-333691dcfcd5"
      },
      "execution_count": null,
      "outputs": [
        {
          "output_type": "stream",
          "name": "stdout",
          "text": [
            "344/344 [==============================] - 1s 2ms/step\n"
          ]
        }
      ]
    },
    {
      "cell_type": "code",
      "source": [
        "y_val"
      ],
      "metadata": {
        "colab": {
          "base_uri": "https://localhost:8080/"
        },
        "id": "OckAXCjoKbJy",
        "outputId": "a952be4c-02db-41ad-9ffc-674c77502be8"
      },
      "execution_count": null,
      "outputs": [
        {
          "output_type": "execute_result",
          "data": {
            "text/plain": [
              "array([[0., 1., 0., ..., 0., 0., 0.],\n",
              "       [0., 0., 0., ..., 0., 0., 0.],\n",
              "       [0., 0., 0., ..., 0., 0., 0.],\n",
              "       ...,\n",
              "       [0., 1., 0., ..., 0., 0., 0.],\n",
              "       [0., 0., 0., ..., 0., 0., 0.],\n",
              "       [0., 1., 0., ..., 0., 0., 0.]])"
            ]
          },
          "metadata": {},
          "execution_count": 73
        }
      ]
    },
    {
      "cell_type": "code",
      "source": [
        "plt.imshow(X_val[3][:10])"
      ],
      "metadata": {
        "colab": {
          "base_uri": "https://localhost:8080/",
          "height": 433
        },
        "id": "_v3oBcnClHcQ",
        "outputId": "ce123ab2-af40-4b79-ab80-efb31e00703e"
      },
      "execution_count": null,
      "outputs": [
        {
          "output_type": "execute_result",
          "data": {
            "text/plain": [
              "<matplotlib.image.AxesImage at 0x7ac0d74d8370>"
            ]
          },
          "metadata": {},
          "execution_count": 87
        },
        {
          "output_type": "display_data",
          "data": {
            "text/plain": [
              "<Figure size 640x480 with 1 Axes>"
            ],
            "image/png": "[encoded data removed]"
          },
          "metadata": {}
        }
      ]
    },
    {
      "cell_type": "code",
      "source": [
        "X_val[3]"
      ],
      "metadata": {
        "id": "Ih_jQOl9MBJJ"
      },
      "execution_count": null,
      "outputs": []
    },
    {
      "cell_type": "code",
      "source": [
        "y_val[3]"
      ],
      "metadata": {
        "colab": {
          "base_uri": "https://localhost:8080/"
        },
        "id": "OvZ8ZDZ_lCT8",
        "outputId": "6d8c6c6a-d03e-4c89-81c8-331e598b3b73"
      },
      "execution_count": null,
      "outputs": [
        {
          "output_type": "execute_result",
          "data": {
            "text/plain": [
              "array([0., 0., 0., 0., 0., 0., 0., 0., 0., 0., 1.])"
            ]
          },
          "metadata": {},
          "execution_count": 75
        }
      ]
    },
    {
      "cell_type": "code",
      "source": [
        "prediction[3]"
      ],
      "metadata": {
        "colab": {
          "base_uri": "https://localhost:8080/"
        },
        "id": "UA1gtQNBk7Zf",
        "outputId": "804fd509-cdf4-472f-ccf5-9f798c5e1e1c"
      },
      "execution_count": null,
      "outputs": [
        {
          "output_type": "execute_result",
          "data": {
            "text/plain": [
              "array([0.0000000e+00, 0.0000000e+00, 0.0000000e+00, 9.1694766e-32,\n",
              "       0.0000000e+00, 0.0000000e+00, 0.0000000e+00, 0.0000000e+00,\n",
              "       0.0000000e+00, 5.8315255e-23, 0.0000000e+00], dtype=float32)"
            ]
          },
          "metadata": {},
          "execution_count": 76
        }
      ]
    },
    {
      "cell_type": "code",
      "source": [
        "y_pred = np.array([np.argmax(i) for i in prediction])"
      ],
      "metadata": {
        "id": "z5JsjxyLk8pe"
      },
      "execution_count": null,
      "outputs": []
    },
    {
      "cell_type": "code",
      "source": [
        "y_true = np.array([np.argmax(i) for i in y_val])"
      ],
      "metadata": {
        "id": "98-gD0vxl9Vf"
      },
      "execution_count": null,
      "outputs": []
    },
    {
      "cell_type": "code",
      "source": [
        "y_true"
      ],
      "metadata": {
        "colab": {
          "base_uri": "https://localhost:8080/"
        },
        "id": "oy5u3Bt6mBGl",
        "outputId": "a4b89b30-03c8-4ae5-e484-97b3b0070902"
      },
      "execution_count": null,
      "outputs": [
        {
          "data": {
            "text/plain": [
              "array([1, 4, 5, ..., 1, 3, 1])"
            ]
          },
          "execution_count": 79,
          "metadata": {},
          "output_type": "execute_result"
        }
      ]
    },
    {
      "cell_type": "code",
      "source": [
        "y_pred"
      ],
      "metadata": {
        "colab": {
          "base_uri": "https://localhost:8080/"
        },
        "id": "CKA6b7Bal7Pr",
        "outputId": "dcbb60b0-5441-4ab6-e8ac-99f6d42709eb"
      },
      "execution_count": null,
      "outputs": [
        {
          "output_type": "execute_result",
          "data": {
            "text/plain": [
              "array([9, 9, 9, ..., 9, 9, 9])"
            ]
          },
          "metadata": {},
          "execution_count": 80
        }
      ]
    },
    {
      "cell_type": "code",
      "source": [
        "np.sum((y_true == y_pred).astype(int))/y_true.shape[0]"
      ],
      "metadata": {
        "colab": {
          "base_uri": "https://localhost:8080/"
        },
        "id": "OKaDloNrmG2H",
        "outputId": "bd1d6061-745d-430b-dec9-c69a1726f7f1"
      },
      "execution_count": null,
      "outputs": [
        {
          "data": {
            "text/plain": [
              "0.08827272727272727"
            ]
          },
          "execution_count": 81,
          "metadata": {},
          "output_type": "execute_result"
        }
      ]
    },
    {
      "cell_type": "code",
      "source": [
        "cnf_mat = tf.math.confusion_matrix(labels = y_true, predictions = y_pred)\n",
        "cnf_mat"
      ],
      "metadata": {
        "colab": {
          "base_uri": "https://localhost:8080/"
        },
        "id": "nt3Hlpe7mYPI",
        "outputId": "86a9fd57-c06c-46dc-eb6b-61c85dcb2da8"
      },
      "execution_count": null,
      "outputs": [
        {
          "data": {
            "text/plain": [
              "<tf.Tensor: shape=(11, 11), dtype=int32, numpy=\n",
              "array([[   0,    0,    0,    0,    0,    0,    0,    0,    0, 1000,    0],\n",
              "       [   1,    0,    0,    0,    0,    0,    0,    0,    0,  979,    0],\n",
              "       [   0,    0,    0,    0,    0,    0,    0,    0,    0, 1135,    0],\n",
              "       [   0,    0,    0,    0,    0,    0,    0,    0,    0, 1032,    0],\n",
              "       [   0,    0,    0,    0,    0,    0,    0,    0,    0, 1010,    0],\n",
              "       [   0,    0,    0,    0,    0,    0,    0,    0,    0,  982,    0],\n",
              "       [   0,    0,    0,    0,    0,    0,    0,    0,    0,  892,    0],\n",
              "       [   0,    0,    0,    0,    0,    0,    0,    0,    0,  958,    0],\n",
              "       [   0,    0,    0,    0,    0,    0,    0,    0,    0, 1028,    0],\n",
              "       [   3,    0,    0,    0,    0,    0,    0,    0,    0,  971,    0],\n",
              "       [   0,    0,    0,    0,    0,    0,    0,    0,    0, 1009,    0]],\n",
              "      dtype=int32)>"
            ]
          },
          "execution_count": 82,
          "metadata": {},
          "output_type": "execute_result"
        }
      ]
    },
    {
      "cell_type": "code",
      "source": [
        "plt.figure(figsize = (10,8))\n",
        "sns.heatmap(cnf_mat, annot= True, fmt='d')\n",
        "plt.xlabel('Predicted')\n",
        "plt.ylabel('Truth')\n",
        "plt.show()"
      ],
      "metadata": {
        "colab": {
          "base_uri": "https://localhost:8080/",
          "height": 696
        },
        "id": "5p9q_sOCmbHS",
        "outputId": "a09b9d5b-3ea8-4a33-a85c-7ac081b72d3c"
      },
      "execution_count": null,
      "outputs": [
        {
          "output_type": "display_data",
          "data": {
            "text/plain": [
              "<Figure size 1000x800 with 2 Axes>"
            ],
            "image/png": "[encoded data removed]"
          },
          "metadata": {}
        }
      ]
    },
    {
      "cell_type": "code",
      "source": [
        "y_true_pr = np.zeros(y_true.shape)\n",
        "y_true_pr[y_true != 0] = 1\n",
        "\n",
        "y_pred_pr = np.zeros(y_pred.shape)\n",
        "y_pred_pr[y_pred != 0] = 1"
      ],
      "metadata": {
        "id": "aeb3tBRjnd74"
      },
      "execution_count": null,
      "outputs": []
    },
    {
      "cell_type": "code",
      "source": [
        "np.sum((y_true_pr == y_pred_pr).astype(int))/y_true_pr.shape[0]"
      ],
      "metadata": {
        "colab": {
          "base_uri": "https://localhost:8080/"
        },
        "id": "w4FE3RVioe-Z",
        "outputId": "a34e621d-f1dc-4833-d213-90c6d9551daf"
      },
      "execution_count": null,
      "outputs": [
        {
          "output_type": "execute_result",
          "data": {
            "text/plain": [
              "0.9087272727272727"
            ]
          },
          "metadata": {},
          "execution_count": 85
        }
      ]
    },
    {
      "cell_type": "code",
      "source": [
        "model.save('number_detection.keras')"
      ],
      "metadata": {
        "id": "GpTtDKMY9e-9"
      },
      "execution_count": null,
      "outputs": []
    },
    {
      "cell_type": "code",
      "source": [
        "# Save the weights\n",
        "model.save_weights('./checkpoints/Tata_Steel_Model')"
      ],
      "metadata": {
        "id": "2IhXaW15QZPt"
      },
      "execution_count": null,
      "outputs": []
    },
    {
      "cell_type": "code",
      "source": [
        "new_model = keras.Sequential([\n",
        "    # keras.layers.MaxPooling2D((2,2),input_shape = (28,28,1)),\n",
        "    # keras.layers.MaxPooling2D((2,2)),\n",
        "    keras.layers.RandomRotation(0.5,input_shape = (14,14,1)),\n",
        "\n",
        "    keras.layers.Conv2D(filters = 16, padding = 'same', kernel_size = (3,3), activation = 'relu'),\n",
        "\n",
        "    # keras.layers.Conv2D(filters = 32, padding = 'same', kernel_size = (3,3), activation = 'relu'),\n",
        "    # keras.layers.Conv2D(filters = 64, padding = 'same', kernel_size = (3,3), activation = 'relu'),\n",
        "    # keras.layers.MaxPooling2D((2,2)),\n",
        "    # keras.layers.Conv2D(filters = 128, padding = 'same', kernel_size = (3,3), activation = 'relu'),\n",
        "    keras.layers.Conv2D(filters = 256, padding = 'same', kernel_size = (3,3), activation = 'relu'),\n",
        "\n",
        "    keras.layers.Flatten(),\n",
        "    keras.layers.Dense(1000, activation = 'relu'),\n",
        "    # keras.layers.Dense(11, activation = 'relu'),\n",
        "    # keras.layers.Dropout(0.05),\n",
        "    keras.layers.Dense(11, activation = 'sigmoid')\n",
        "])\n",
        "\n",
        "new_model.compile(optimizer = 'adam', loss = 'mean_squared_error', metrics = [keras.metrics.CategoricalAccuracy()])\n",
        "\n",
        "new_model.summary()"
      ],
      "metadata": {
        "colab": {
          "base_uri": "https://localhost:8080/"
        },
        "id": "T5qtr3YMQvjV",
        "outputId": "16a8ea6f-f06f-4c03-d8fc-c00cc846e0bf"
      },
      "execution_count": null,
      "outputs": [
        {
          "output_type": "stream",
          "name": "stdout",
          "text": [
            "Model: \"sequential_2\"\n",
            "_________________________________________________________________\n",
            " Layer (type)                Output Shape              Param #   \n",
            "=================================================================\n",
            " random_rotation_2 (RandomR  (None, 14, 14, 1)         0         \n",
            " otation)                                                        \n",
            "                                                                 \n",
            " conv2d_4 (Conv2D)           (None, 14, 14, 16)        160       \n",
            "                                                                 \n",
            " conv2d_5 (Conv2D)           (None, 14, 14, 256)       37120     \n",
            "                                                                 \n",
            " flatten_2 (Flatten)         (None, 50176)             0         \n",
            "                                                                 \n",
            " dense_4 (Dense)             (None, 1000)              50177000  \n",
            "                                                                 \n",
            " dense_5 (Dense)             (None, 11)                11011     \n",
            "                                                                 \n",
            "=================================================================\n",
            "Total params: 50225291 (191.59 MB)\n",
            "Trainable params: 50225291 (191.59 MB)\n",
            "Non-trainable params: 0 (0.00 Byte)\n",
            "_________________________________________________________________\n"
          ]
        }
      ]
    },
    {
      "cell_type": "code",
      "source": [
        "# Restore the weights\n",
        "new_model.load_weights('./checkpoints/Tata_Steel_Model')"
      ],
      "metadata": {
        "colab": {
          "base_uri": "https://localhost:8080/"
        },
        "id": "oFZHEQbtQijl",
        "outputId": "d8859409-57a7-4eb2-f840-b51638cddd55"
      },
      "execution_count": null,
      "outputs": [
        {
          "output_type": "execute_result",
          "data": {
            "text/plain": [
              "<tensorflow.python.checkpoint.checkpoint.CheckpointLoadStatus at 0x7ac0d0bb1780>"
            ]
          },
          "metadata": {},
          "execution_count": 90
        }
      ]
    },
    {
      "cell_type": "code",
      "source": [
        "new_model.evaluate(X_val, y_val)"
      ],
      "metadata": {
        "colab": {
          "base_uri": "https://localhost:8080/"
        },
        "id": "BeFRSmYWQ2-M",
        "outputId": "4843e544-2316-4c14-acf6-6b305f7bebc8"
      },
      "execution_count": null,
      "outputs": [
        {
          "output_type": "stream",
          "name": "stdout",
          "text": [
            "344/344 [==============================] - 2s 5ms/step - loss: 0.0909 - categorical_accuracy: 0.0883\n"
          ]
        },
        {
          "output_type": "execute_result",
          "data": {
            "text/plain": [
              "[0.09090947359800339, 0.08827272802591324]"
            ]
          },
          "metadata": {},
          "execution_count": 91
        }
      ]
    },
    {
      "cell_type": "markdown",
      "metadata": {
        "id": "StwAtswrPVcb"
      },
      "source": [
        "## Large Network"
      ]
    },
    {
      "cell_type": "code",
      "execution_count": null,
      "metadata": {
        "id": "pcT9CyViPVcc"
      },
      "outputs": [],
      "source": [
        "model = keras.Sequential([\n",
        "    keras.layers.Conv2D(filters = 16, padding = 'same', kernel_size = (3,3), activation = 'relu', input_shape = (28,28,1)),\n",
        "    keras.layers.MaxPooling2D((2,2)),\n",
        "\n",
        "    keras.layers.Conv2D(filters = 64, padding = 'same', kernel_size = (3,3), activation = 'relu'),\n",
        "    keras.layers.MaxPooling2D((2,2)),\n",
        "\n",
        "    keras.layers.Flatten(),\n",
        "    keras.layers.Dense(3136, activation = 'relu'),\n",
        "    keras.layers.Dense(196, activation = 'relu'),\n",
        "    keras.layers.Dense(10, activation = 'softmax')\n",
        "])\n",
        "\n",
        "model.compile(optimizer = 'adam', loss = 'sparse_categorical_crossentropy', metrics = ['accuracy'])\n",
        "\n",
        "model.summary()"
      ]
    },
    {
      "cell_type": "code",
      "execution_count": null,
      "metadata": {
        "id": "8PuDmy1pPVcc"
      },
      "outputs": [],
      "source": [
        "checkpoint_path = \"training_1/val_loss.ckpt\"\n",
        "checkpoint_dir = os.path.dirname(checkpoint_path)\n",
        "\n",
        "csv_logger = CSVLogger('training_log2.csv', append=True)\n",
        "\n",
        "# Create a callback that saves the model's weights\n",
        "cp_callback = tf.keras.callbacks.ModelCheckpoint(filepath=checkpoint_path,\n",
        "                                                 monitor = 'val_loss',\n",
        "                                                 verbose=1)\n",
        "\n",
        "# Train the model with the new callback\n",
        "model.fit(trainxmm,\n",
        "          trainy,\n",
        "          epochs=100,\n",
        "          batch_size = 1000,\n",
        "          validation_data=(testxmm, testy),\n",
        "          callbacks=[csv_logger])"
      ]
    },
    {
      "cell_type": "code",
      "execution_count": null,
      "metadata": {
        "id": "lctnAUsmcmzl"
      },
      "outputs": [],
      "source": [
        "logs2 = pd.read_csv('training_log2.csv')"
      ]
    },
    {
      "cell_type": "code",
      "execution_count": null,
      "metadata": {
        "id": "-QM17Qtycnvz"
      },
      "outputs": [],
      "source": [
        "logs2['val_accuracy'].max()"
      ]
    },
    {
      "cell_type": "code",
      "execution_count": null,
      "metadata": {
        "id": "oyRcCJ_BPVcc"
      },
      "outputs": [],
      "source": [
        "plt.figure(figsize = (10,6))\n",
        "plt.plot(logs['val_accuracy'], color='blue')\n",
        "plt.plot(logs2['val_accuracy'], color='orange')\n",
        "plt.xlabel('Accuracy')\n",
        "plt.ylabel('Epochs')\n",
        "plt.show()"
      ]
    },
    {
      "cell_type": "code",
      "execution_count": null,
      "metadata": {
        "id": "gYJlX4Sccvbm"
      },
      "outputs": [],
      "source": [
        "model.evaluate(testxmm, testy)"
      ]
    }
  ],
  "metadata": {
    "colab": {
      "collapsed_sections": [
        "_SgiFx_gPxj1",
        "kHhdauPnackw",
        "StwAtswrPVcb"
      ],
      "provenance": [],
      "gpuType": "T4"
    },
    "kernelspec": {
      "display_name": "Python 3",
      "name": "python3"
    },
    "language_info": {
      "name": "python"
    },
    "accelerator": "GPU"
  },
  "nbformat": 4,
  "nbformat_minor": 0
}